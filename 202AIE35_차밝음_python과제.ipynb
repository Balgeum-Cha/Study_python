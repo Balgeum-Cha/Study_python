{
  "nbformat": 4,
  "nbformat_minor": 0,
  "metadata": {
    "colab": {
      "name": "202AIE35_차밝음_python과제",
      "provenance": [],
      "collapsed_sections": [
        "dzvl_7qWIb_J",
        "jcCQMN-5bsvr",
        "mx4js1KtZPPS"
      ],
      "include_colab_link": true
    },
    "kernelspec": {
      "name": "python3",
      "display_name": "Python 3"
    },
    "language_info": {
      "name": "python"
    }
  },
  "cells": [
    {
      "cell_type": "markdown",
      "metadata": {
        "id": "view-in-github",
        "colab_type": "text"
      },
      "source": [
        "<a href=\"https://colab.research.google.com/github/Balgeum-Cha/Study_python/blob/master/202AIE35_%EC%B0%A8%EB%B0%9D%EC%9D%8C_python%EA%B3%BC%EC%A0%9C.ipynb\" target=\"_parent\"><img src=\"https://colab.research.google.com/assets/colab-badge.svg\" alt=\"Open In Colab\"/></a>"
      ]
    },
    {
      "cell_type": "markdown",
      "metadata": {
        "id": "KLqY5W6iIf_L"
      },
      "source": [
        "이화여대 교육용 프로그래밍의 이해 2 파이썬 노트 (이 선복)"
      ]
    },
    {
      "cell_type": "markdown",
      "metadata": {
        "id": "v0yg-coZCpyK"
      },
      "source": [
        "# 파이썬 용어집 (Glossary)\n",
        "* 파이썬언어에서 사용되는 용어들의 정확한 정의제공\n",
        "* https://docs.python.org/3/glossary.html\n"
      ]
    },
    {
      "cell_type": "markdown",
      "metadata": {
        "id": "b3Vng3hnIGMS"
      },
      "source": [
        ""
      ]
    },
    {
      "cell_type": "markdown",
      "metadata": {
        "id": "xbzZ02v2JrIS"
      },
      "source": [
        "# 객체(object)와 클래스(class)\n",
        "* 객체를 이해하는 두가지 관점\n",
        "    * 실제 사물(object)의 **기능**과 **속성**을 프로그램 객체(object)의  **함수**와 **변수**로 표현\n",
        "    * **변수**에 저장된 값과 그 값을 조작할 수 있는 **함수**를 가지고 있는 **사용자정의 자료형 (user-defined data type)**\n",
        "* 객체(object) = 변수(variable) + 함수(function)\n",
        "* 클래스는 객체를 만드는 설계도\n",
        "* (python tutorial) \"Classes provide a means of bundling **data** and **functionality** together. Creating a new class creates a new type of object, allowing new instances of that type to be made. Each class instance can have **attributes** attached to it for maintaining its state. Class instances can also have **methods** (defined by its class) for modifying its state.\" \n",
        "* (씽크 파이썬) \"프로그래머 정의 타입을 **클래스(class)**라고 부르고 클래스의 새 **객체(Object)**를 생성하는것을 **인스턴스화(instantiation)**라고 하며 그렇게 생성된 객체는 클래스의 **인스턴스(instance)**라고 한다.\" \n",
        "* 우리가 파이썬에서 다루는 모든 것들(자료형, 모듈, 함수, ...)은 객체 (Everything in Python in an object). \n",
        "* 파이썬은 **객체지향 프로그래밍(Object Oritented Programming, OOP)** 언어\n"
      ]
    },
    {
      "cell_type": "code",
      "metadata": {
        "id": "kVOLsrbzXhu0"
      },
      "source": [
        "# 클래스정의(class definition)는 속성(attribute)과 메서드(method)를 정의\n",
        "# 아래 MyClass는 my_attribute라는 속성과 my_method()라는 메서드를 정의\n",
        "# 스페셜 메서드(__name__)는 파이썬에 의해 호출\n",
        "# self는 해당 클래스의 인스턴스를 나타냄 \n",
        "class MyClass:   # 클래스 이름은 CapWords 방식이 관행\n",
        "    def __init__(self, x):   # 클래스 생성자(class constructor)\n",
        "      self.my_attribute = x  # 함수와 변수이름은 소문자가 관행\n",
        "    \n",
        "    def my_method(self): \n",
        "      self.my_attribute = self.my_attribute + 1\n",
        "      return self.my_attribute"
      ],
      "execution_count": null,
      "outputs": []
    },
    {
      "cell_type": "code",
      "metadata": {
        "id": "B_wR1oLob-l5"
      },
      "source": [
        "# 인스턴스(instance) 생성\n",
        "# 클래스 생성자를 위한 인수(argument)를 전달해야함 \n",
        "my_instance = MyClass(1)"
      ],
      "execution_count": null,
      "outputs": []
    },
    {
      "cell_type": "code",
      "metadata": {
        "id": "RyxSS-N3cFci",
        "colab": {
          "base_uri": "https://localhost:8080/"
        },
        "outputId": "5cfff9d7-491d-495f-e41f-6c3703053f37"
      },
      "source": [
        "# type()은 객체의 타입을 반환\n",
        "type(my_instance)"
      ],
      "execution_count": null,
      "outputs": [
        {
          "output_type": "execute_result",
          "data": {
            "text/plain": [
              "__main__.MyClass"
            ]
          },
          "metadata": {
            "tags": []
          },
          "execution_count": 3
        }
      ]
    },
    {
      "cell_type": "code",
      "metadata": {
        "colab": {
          "base_uri": "https://localhost:8080/"
        },
        "id": "Ni_UAiH3XFe-",
        "outputId": "8fbb5dee-6ca3-4a0f-84ed-4cb0dc1525e0"
      },
      "source": [
        "# help() print help\n",
        "help(my_instance)"
      ],
      "execution_count": null,
      "outputs": [
        {
          "output_type": "stream",
          "text": [
            "Help on MyClass in module __main__ object:\n",
            "\n",
            "class MyClass(builtins.object)\n",
            " |  MyClass(x)\n",
            " |  \n",
            " |  Methods defined here:\n",
            " |  \n",
            " |  __init__(self, x)\n",
            " |      Initialize self.  See help(type(self)) for accurate signature.\n",
            " |  \n",
            " |  my_method(self)\n",
            " |  \n",
            " |  ----------------------------------------------------------------------\n",
            " |  Data descriptors defined here:\n",
            " |  \n",
            " |  __dict__\n",
            " |      dictionary for instance variables (if defined)\n",
            " |  \n",
            " |  __weakref__\n",
            " |      list of weak references to the object (if defined)\n",
            "\n"
          ],
          "name": "stdout"
        }
      ]
    },
    {
      "cell_type": "code",
      "metadata": {
        "colab": {
          "base_uri": "https://localhost:8080/"
        },
        "id": "savqGlGKBeRs",
        "outputId": "f714145a-cfb8-4711-92a6-49d545639259"
      },
      "source": [
        "# 해당 객체의 변수와 메서드 반환\n",
        "dir(my_instance)"
      ],
      "execution_count": null,
      "outputs": [
        {
          "output_type": "execute_result",
          "data": {
            "text/plain": [
              "['__class__',\n",
              " '__delattr__',\n",
              " '__dict__',\n",
              " '__dir__',\n",
              " '__doc__',\n",
              " '__eq__',\n",
              " '__format__',\n",
              " '__ge__',\n",
              " '__getattribute__',\n",
              " '__gt__',\n",
              " '__hash__',\n",
              " '__init__',\n",
              " '__init_subclass__',\n",
              " '__le__',\n",
              " '__lt__',\n",
              " '__module__',\n",
              " '__ne__',\n",
              " '__new__',\n",
              " '__reduce__',\n",
              " '__reduce_ex__',\n",
              " '__repr__',\n",
              " '__setattr__',\n",
              " '__sizeof__',\n",
              " '__str__',\n",
              " '__subclasshook__',\n",
              " '__weakref__',\n",
              " 'my_attribute',\n",
              " 'my_method']"
            ]
          },
          "metadata": {
            "tags": []
          },
          "execution_count": 5
        }
      ]
    },
    {
      "cell_type": "code",
      "metadata": {
        "colab": {
          "base_uri": "https://localhost:8080/"
        },
        "id": "qk3DJotGWHLJ",
        "outputId": "f4215640-e0c3-4376-af79-dcf9e4305d80"
      },
      "source": [
        "# 객체의 속성(attribute)에 접근(access)하기위해 점표기법(dot notation)사용\n",
        "my_instance.my_attribute"
      ],
      "execution_count": null,
      "outputs": [
        {
          "output_type": "execute_result",
          "data": {
            "text/plain": [
              "1"
            ]
          },
          "metadata": {
            "tags": []
          },
          "execution_count": 6
        }
      ]
    },
    {
      "cell_type": "code",
      "metadata": {
        "colab": {
          "base_uri": "https://localhost:8080/"
        },
        "id": "2-JdgWYaWR04",
        "outputId": "136f225d-da8e-4753-914a-1af0a38a75c3"
      },
      "source": [
        "# 객체의 메서드(method)를 호출(call)하기위해 점표기법(dot notation)사용\n",
        "my_instance.my_method()"
      ],
      "execution_count": null,
      "outputs": [
        {
          "output_type": "execute_result",
          "data": {
            "text/plain": [
              "2"
            ]
          },
          "metadata": {
            "tags": []
          },
          "execution_count": 7
        }
      ]
    },
    {
      "cell_type": "code",
      "metadata": {
        "colab": {
          "base_uri": "https://localhost:8080/"
        },
        "id": "Qh-bp0dtx1gV",
        "outputId": "5c0c12c5-8b10-4b1f-ad68-aed132de99fd"
      },
      "source": [
        "# 문자열도 객체\n",
        "'apple'.isnumeric()"
      ],
      "execution_count": null,
      "outputs": [
        {
          "output_type": "execute_result",
          "data": {
            "text/plain": [
              "False"
            ]
          },
          "metadata": {
            "tags": []
          },
          "execution_count": 8
        }
      ]
    },
    {
      "cell_type": "code",
      "metadata": {
        "colab": {
          "base_uri": "https://localhost:8080/"
        },
        "id": "OCxCTijHE8d5",
        "outputId": "7a1b99a3-4ed5-41f4-9f57-b3d567a7593c"
      },
      "source": [
        "dir('apple')"
      ],
      "execution_count": null,
      "outputs": [
        {
          "output_type": "execute_result",
          "data": {
            "text/plain": [
              "['__add__',\n",
              " '__class__',\n",
              " '__contains__',\n",
              " '__delattr__',\n",
              " '__dir__',\n",
              " '__doc__',\n",
              " '__eq__',\n",
              " '__format__',\n",
              " '__ge__',\n",
              " '__getattribute__',\n",
              " '__getitem__',\n",
              " '__getnewargs__',\n",
              " '__gt__',\n",
              " '__hash__',\n",
              " '__init__',\n",
              " '__init_subclass__',\n",
              " '__iter__',\n",
              " '__le__',\n",
              " '__len__',\n",
              " '__lt__',\n",
              " '__mod__',\n",
              " '__mul__',\n",
              " '__ne__',\n",
              " '__new__',\n",
              " '__reduce__',\n",
              " '__reduce_ex__',\n",
              " '__repr__',\n",
              " '__rmod__',\n",
              " '__rmul__',\n",
              " '__setattr__',\n",
              " '__sizeof__',\n",
              " '__str__',\n",
              " '__subclasshook__',\n",
              " 'capitalize',\n",
              " 'casefold',\n",
              " 'center',\n",
              " 'count',\n",
              " 'encode',\n",
              " 'endswith',\n",
              " 'expandtabs',\n",
              " 'find',\n",
              " 'format',\n",
              " 'format_map',\n",
              " 'index',\n",
              " 'isalnum',\n",
              " 'isalpha',\n",
              " 'isascii',\n",
              " 'isdecimal',\n",
              " 'isdigit',\n",
              " 'isidentifier',\n",
              " 'islower',\n",
              " 'isnumeric',\n",
              " 'isprintable',\n",
              " 'isspace',\n",
              " 'istitle',\n",
              " 'isupper',\n",
              " 'join',\n",
              " 'ljust',\n",
              " 'lower',\n",
              " 'lstrip',\n",
              " 'maketrans',\n",
              " 'partition',\n",
              " 'replace',\n",
              " 'rfind',\n",
              " 'rindex',\n",
              " 'rjust',\n",
              " 'rpartition',\n",
              " 'rsplit',\n",
              " 'rstrip',\n",
              " 'split',\n",
              " 'splitlines',\n",
              " 'startswith',\n",
              " 'strip',\n",
              " 'swapcase',\n",
              " 'title',\n",
              " 'translate',\n",
              " 'upper',\n",
              " 'zfill']"
            ]
          },
          "metadata": {
            "tags": []
          },
          "execution_count": 9
        }
      ]
    },
    {
      "cell_type": "code",
      "metadata": {
        "id": "GSXIjt_9E-pI"
      },
      "source": [
        ""
      ],
      "execution_count": null,
      "outputs": []
    },
    {
      "cell_type": "code",
      "metadata": {
        "id": "8SRuZmuzECNS"
      },
      "source": [
        "# 연습문제\n",
        "# 사람의 이름과 전화번호정보를 담을 수 있는 클래스를 정의하라. \n",
        "# 이때 이 클래스는 다음과 같이 동작해야 한다. \n",
        "# f = Friend('홍길동', '010-123-4567')  # 객체생성\n",
        "# f.get_name()  # 이름반환\n",
        "# f.get_phone()  # 전화번호반환\n",
        "class Friend:\n",
        "\n",
        "  def __init__(self, name, phone):\n",
        "    self.name = name\n",
        "    self.phone = phone\n",
        "\n",
        "  def get_name(self):\n",
        "    return self.name\n",
        "\n",
        "  def get_phone(self):\n",
        "    return self.phone"
      ],
      "execution_count": null,
      "outputs": []
    },
    {
      "cell_type": "code",
      "metadata": {
        "id": "pKQBljqER7Sa"
      },
      "source": [
        "f = Friend('홍길동', '123-3234-2322')"
      ],
      "execution_count": null,
      "outputs": []
    },
    {
      "cell_type": "code",
      "metadata": {
        "colab": {
          "base_uri": "https://localhost:8080/"
        },
        "id": "ZfGgz1oXSCgK",
        "outputId": "5cac9aca-5140-4cad-edbe-cc296fe4c5bb"
      },
      "source": [
        "type(f)"
      ],
      "execution_count": null,
      "outputs": [
        {
          "output_type": "execute_result",
          "data": {
            "text/plain": [
              "__main__.Friend"
            ]
          },
          "metadata": {
            "tags": []
          },
          "execution_count": 12
        }
      ]
    },
    {
      "cell_type": "code",
      "metadata": {
        "colab": {
          "base_uri": "https://localhost:8080/"
        },
        "id": "5-jYRvfMSELs",
        "outputId": "22bd5d33-4456-4733-e381-a655e6dad696"
      },
      "source": [
        "dir(f)"
      ],
      "execution_count": null,
      "outputs": [
        {
          "output_type": "execute_result",
          "data": {
            "text/plain": [
              "['__class__',\n",
              " '__delattr__',\n",
              " '__dict__',\n",
              " '__dir__',\n",
              " '__doc__',\n",
              " '__eq__',\n",
              " '__format__',\n",
              " '__ge__',\n",
              " '__getattribute__',\n",
              " '__gt__',\n",
              " '__hash__',\n",
              " '__init__',\n",
              " '__init_subclass__',\n",
              " '__le__',\n",
              " '__lt__',\n",
              " '__module__',\n",
              " '__ne__',\n",
              " '__new__',\n",
              " '__reduce__',\n",
              " '__reduce_ex__',\n",
              " '__repr__',\n",
              " '__setattr__',\n",
              " '__sizeof__',\n",
              " '__str__',\n",
              " '__subclasshook__',\n",
              " '__weakref__',\n",
              " 'get_name',\n",
              " 'get_phone',\n",
              " 'name',\n",
              " 'phone']"
            ]
          },
          "metadata": {
            "tags": []
          },
          "execution_count": 15
        }
      ]
    },
    {
      "cell_type": "code",
      "metadata": {
        "colab": {
          "base_uri": "https://localhost:8080/",
          "height": 35
        },
        "id": "lFI0AGCJSFyB",
        "outputId": "ae04f526-4afc-424c-bb49-e61fd82144f3"
      },
      "source": [
        "f.get_name()"
      ],
      "execution_count": null,
      "outputs": [
        {
          "output_type": "execute_result",
          "data": {
            "application/vnd.google.colaboratory.intrinsic+json": {
              "type": "string"
            },
            "text/plain": [
              "'홍길동'"
            ]
          },
          "metadata": {
            "tags": []
          },
          "execution_count": 16
        }
      ]
    },
    {
      "cell_type": "code",
      "metadata": {
        "colab": {
          "base_uri": "https://localhost:8080/",
          "height": 35
        },
        "id": "_ka0RWkpSO80",
        "outputId": "bcee6cf8-b33f-40da-ed80-9c42f4b16aff"
      },
      "source": [
        "f.get_phone()"
      ],
      "execution_count": null,
      "outputs": [
        {
          "output_type": "execute_result",
          "data": {
            "application/vnd.google.colaboratory.intrinsic+json": {
              "type": "string"
            },
            "text/plain": [
              "'123-3234-2322'"
            ]
          },
          "metadata": {
            "tags": []
          },
          "execution_count": 17
        }
      ]
    },
    {
      "cell_type": "code",
      "metadata": {
        "id": "1mnG9P65SReE"
      },
      "source": [
        ""
      ],
      "execution_count": null,
      "outputs": []
    },
    {
      "cell_type": "markdown",
      "metadata": {
        "id": "cFQsm9cF5Es-"
      },
      "source": [
        "# 자료형 (Data type)\n",
        "* the most **primitive data structure**\n",
        "* **building blocks** for data manipulation\n",
        "* Python has four basic data type\n",
        "    * 정수(Integer)\n",
        "    * 실수(float)\n",
        "    * 문자열(string)\n",
        "    * 불자료형(boolean)"
      ]
    },
    {
      "cell_type": "code",
      "metadata": {
        "id": "91_jcvnhACVx",
        "colab": {
          "base_uri": "https://localhost:8080/"
        },
        "outputId": "0d717a35-69f9-47e9-8e93-ce8c9c4f74c8"
      },
      "source": [
        "# 정수(integer)\n",
        "# type()은 객체의 타입(the object's type)을 반환\n",
        "type(1)"
      ],
      "execution_count": null,
      "outputs": [
        {
          "output_type": "execute_result",
          "data": {
            "text/plain": [
              "int"
            ]
          },
          "metadata": {
            "tags": []
          },
          "execution_count": 13
        }
      ]
    },
    {
      "cell_type": "code",
      "metadata": {
        "id": "uHc0yJjnADlN",
        "colab": {
          "base_uri": "https://localhost:8080/"
        },
        "outputId": "4225bd33-fa87-4dd1-957c-4951496ef8fc"
      },
      "source": [
        "# 실수(float)\n",
        "# 실수는 컴퓨터 내부에 부동소수점(floating point number)방식으로 저장\n",
        "type(1.2)"
      ],
      "execution_count": null,
      "outputs": [
        {
          "output_type": "execute_result",
          "data": {
            "text/plain": [
              "float"
            ]
          },
          "metadata": {
            "tags": []
          },
          "execution_count": 14
        }
      ]
    },
    {
      "cell_type": "code",
      "metadata": {
        "id": "NycI729qADzj",
        "colab": {
          "base_uri": "https://localhost:8080/"
        },
        "outputId": "31782de5-9eec-41d4-bdd6-9a79397c6523"
      },
      "source": [
        "# 문자열(string)\n",
        "# 문자들의 집합 (a collection of characters)\n",
        "# ' ' 나 \" \" 을 이용하여 만듬\n",
        "type('apple')"
      ],
      "execution_count": null,
      "outputs": [
        {
          "output_type": "execute_result",
          "data": {
            "text/plain": [
              "str"
            ]
          },
          "metadata": {
            "tags": []
          },
          "execution_count": 15
        }
      ]
    },
    {
      "cell_type": "code",
      "metadata": {
        "colab": {
          "base_uri": "https://localhost:8080/"
        },
        "id": "PLFtvmT2AD--",
        "outputId": "7c94a6d8-c231-4ade-80d9-da6be1aee1c7"
      },
      "source": [
        "# 불 자료형 (boolean): True, False\n",
        "# 파이썬이 자동으로 True를 1로 False를 0으로 변환시킬수도 있음\n",
        "type(True)"
      ],
      "execution_count": null,
      "outputs": [
        {
          "output_type": "execute_result",
          "data": {
            "text/plain": [
              "bool"
            ]
          },
          "metadata": {
            "tags": []
          },
          "execution_count": 16
        }
      ]
    },
    {
      "cell_type": "code",
      "metadata": {
        "colab": {
          "base_uri": "https://localhost:8080/"
        },
        "id": "djwu1jxUASme",
        "outputId": "04bdbfc3-7258-4d36-ea1f-28dc064d789d"
      },
      "source": [
        "# 해당 객체의 변수와 메서드 반환\n",
        "dir(1)"
      ],
      "execution_count": null,
      "outputs": [
        {
          "output_type": "execute_result",
          "data": {
            "text/plain": [
              "['__abs__',\n",
              " '__add__',\n",
              " '__and__',\n",
              " '__bool__',\n",
              " '__ceil__',\n",
              " '__class__',\n",
              " '__delattr__',\n",
              " '__dir__',\n",
              " '__divmod__',\n",
              " '__doc__',\n",
              " '__eq__',\n",
              " '__float__',\n",
              " '__floor__',\n",
              " '__floordiv__',\n",
              " '__format__',\n",
              " '__ge__',\n",
              " '__getattribute__',\n",
              " '__getnewargs__',\n",
              " '__gt__',\n",
              " '__hash__',\n",
              " '__index__',\n",
              " '__init__',\n",
              " '__init_subclass__',\n",
              " '__int__',\n",
              " '__invert__',\n",
              " '__le__',\n",
              " '__lshift__',\n",
              " '__lt__',\n",
              " '__mod__',\n",
              " '__mul__',\n",
              " '__ne__',\n",
              " '__neg__',\n",
              " '__new__',\n",
              " '__or__',\n",
              " '__pos__',\n",
              " '__pow__',\n",
              " '__radd__',\n",
              " '__rand__',\n",
              " '__rdivmod__',\n",
              " '__reduce__',\n",
              " '__reduce_ex__',\n",
              " '__repr__',\n",
              " '__rfloordiv__',\n",
              " '__rlshift__',\n",
              " '__rmod__',\n",
              " '__rmul__',\n",
              " '__ror__',\n",
              " '__round__',\n",
              " '__rpow__',\n",
              " '__rrshift__',\n",
              " '__rshift__',\n",
              " '__rsub__',\n",
              " '__rtruediv__',\n",
              " '__rxor__',\n",
              " '__setattr__',\n",
              " '__sizeof__',\n",
              " '__str__',\n",
              " '__sub__',\n",
              " '__subclasshook__',\n",
              " '__truediv__',\n",
              " '__trunc__',\n",
              " '__xor__',\n",
              " 'bit_length',\n",
              " 'conjugate',\n",
              " 'denominator',\n",
              " 'from_bytes',\n",
              " 'imag',\n",
              " 'numerator',\n",
              " 'real',\n",
              " 'to_bytes']"
            ]
          },
          "metadata": {
            "tags": []
          },
          "execution_count": 17
        }
      ]
    },
    {
      "cell_type": "code",
      "metadata": {
        "colab": {
          "base_uri": "https://localhost:8080/"
        },
        "id": "HI9x8sVyAwhG",
        "outputId": "b59b68e5-0892-4355-c950-0619153f62f7"
      },
      "source": [
        "# 산술연산자(arithmetic operator): 덧셈(addition)\n",
        "1 + 1"
      ],
      "execution_count": null,
      "outputs": [
        {
          "output_type": "execute_result",
          "data": {
            "text/plain": [
              "2"
            ]
          },
          "metadata": {
            "tags": []
          },
          "execution_count": 18
        }
      ]
    },
    {
      "cell_type": "code",
      "metadata": {
        "colab": {
          "base_uri": "https://localhost:8080/"
        },
        "id": "Y8Z4faZwGUNi",
        "outputId": "506b8472-7e24-4e82-d7f8-25396af3d88c"
      },
      "source": [
        "# 산술연산자(arithmetic operator): 뺄셈(subtraction)\n",
        "2 - 1"
      ],
      "execution_count": null,
      "outputs": [
        {
          "output_type": "execute_result",
          "data": {
            "text/plain": [
              "1"
            ]
          },
          "metadata": {
            "tags": []
          },
          "execution_count": 19
        }
      ]
    },
    {
      "cell_type": "code",
      "metadata": {
        "colab": {
          "base_uri": "https://localhost:8080/"
        },
        "id": "VWQfj-jdAXF-",
        "outputId": "9eaefff6-06bd-4e5f-e4b8-d2290c72c9eb"
      },
      "source": [
        "# 산술연산자(arithmetic operator): 곱셈(multiplication)\n",
        "2 * 3"
      ],
      "execution_count": null,
      "outputs": [
        {
          "output_type": "execute_result",
          "data": {
            "text/plain": [
              "6"
            ]
          },
          "metadata": {
            "tags": []
          },
          "execution_count": 20
        }
      ]
    },
    {
      "cell_type": "code",
      "metadata": {
        "colab": {
          "base_uri": "https://localhost:8080/"
        },
        "id": "y1Ck7GflGZ7X",
        "outputId": "498b89d7-e858-48c5-cfb7-6601da5638cd"
      },
      "source": [
        "# 산술연산자(arithmetic operator): 실수형 나눗셈 (divison)\n",
        "5 / 2"
      ],
      "execution_count": null,
      "outputs": [
        {
          "output_type": "execute_result",
          "data": {
            "text/plain": [
              "2.5"
            ]
          },
          "metadata": {
            "tags": []
          },
          "execution_count": 21
        }
      ]
    },
    {
      "cell_type": "code",
      "metadata": {
        "colab": {
          "base_uri": "https://localhost:8080/"
        },
        "id": "fbr_rQ6RGZ9w",
        "outputId": "96242fbe-5b0d-4f4b-d3cb-824e364aae48"
      },
      "source": [
        "# 산술연산자(arithmetic operator): 정수형 나눗셈 (floor division, 몫을 계산)\n",
        "5 // 2"
      ],
      "execution_count": null,
      "outputs": [
        {
          "output_type": "execute_result",
          "data": {
            "text/plain": [
              "2"
            ]
          },
          "metadata": {
            "tags": []
          },
          "execution_count": 22
        }
      ]
    },
    {
      "cell_type": "code",
      "metadata": {
        "colab": {
          "base_uri": "https://localhost:8080/"
        },
        "id": "izWoU3R1GaAN",
        "outputId": "2709ebc9-1412-421c-ada4-3506f269349c"
      },
      "source": [
        "# 산술연산자(arithmetic operator): 나눗셈의 나머지 (modulus)\n",
        "5 % 2"
      ],
      "execution_count": null,
      "outputs": [
        {
          "output_type": "execute_result",
          "data": {
            "text/plain": [
              "1"
            ]
          },
          "metadata": {
            "tags": []
          },
          "execution_count": 23
        }
      ]
    },
    {
      "cell_type": "code",
      "metadata": {
        "colab": {
          "base_uri": "https://localhost:8080/"
        },
        "id": "JSv6AsXiHU7R",
        "outputId": "c03b18e5-aaac-4044-97f2-5e7182905bb2"
      },
      "source": [
        "# 산술연산자(arithmetic operator): 지수 (exponent)\n",
        "2 ** 3"
      ],
      "execution_count": null,
      "outputs": [
        {
          "output_type": "execute_result",
          "data": {
            "text/plain": [
              "8"
            ]
          },
          "metadata": {
            "tags": []
          },
          "execution_count": 24
        }
      ]
    },
    {
      "cell_type": "code",
      "metadata": {
        "colab": {
          "base_uri": "https://localhost:8080/"
        },
        "id": "quUBJNltJlDS",
        "outputId": "8404b02a-d08c-435a-ac01-45054285c130"
      },
      "source": [
        "# 비교연산자(comparison operator)\n",
        "2 == 3"
      ],
      "execution_count": null,
      "outputs": [
        {
          "output_type": "execute_result",
          "data": {
            "text/plain": [
              "False"
            ]
          },
          "metadata": {
            "tags": []
          },
          "execution_count": 25
        }
      ]
    },
    {
      "cell_type": "code",
      "metadata": {
        "colab": {
          "base_uri": "https://localhost:8080/"
        },
        "id": "zt_tEG_kJlGI",
        "outputId": "0776ea41-ba39-410c-ea7a-1b0064086e17"
      },
      "source": [
        "# 비교연산자(comparison operator)\n",
        "2 != 3"
      ],
      "execution_count": null,
      "outputs": [
        {
          "output_type": "execute_result",
          "data": {
            "text/plain": [
              "True"
            ]
          },
          "metadata": {
            "tags": []
          },
          "execution_count": 26
        }
      ]
    },
    {
      "cell_type": "code",
      "metadata": {
        "colab": {
          "base_uri": "https://localhost:8080/"
        },
        "id": "vtILISVJJlI8",
        "outputId": "704081d5-449e-46a6-8955-8f2692339a8e"
      },
      "source": [
        "# 비교연산자(comparison operator)\n",
        "2 > 3"
      ],
      "execution_count": null,
      "outputs": [
        {
          "output_type": "execute_result",
          "data": {
            "text/plain": [
              "False"
            ]
          },
          "metadata": {
            "tags": []
          },
          "execution_count": 27
        }
      ]
    },
    {
      "cell_type": "code",
      "metadata": {
        "colab": {
          "base_uri": "https://localhost:8080/"
        },
        "id": "bI5o_vqjJlL6",
        "outputId": "a94ea0fc-55df-4445-f191-faede6587093"
      },
      "source": [
        "# 비교연산자(comparison operator)\n",
        "2 >= 3"
      ],
      "execution_count": null,
      "outputs": [
        {
          "output_type": "execute_result",
          "data": {
            "text/plain": [
              "False"
            ]
          },
          "metadata": {
            "tags": []
          },
          "execution_count": 28
        }
      ]
    },
    {
      "cell_type": "code",
      "metadata": {
        "colab": {
          "base_uri": "https://localhost:8080/"
        },
        "id": "3ARyMSrVJlPK",
        "outputId": "15c00c97-3c22-422f-cc88-a11f5cdddf00"
      },
      "source": [
        "# 비교연산자(comparison operator)\n",
        "2 < 3"
      ],
      "execution_count": null,
      "outputs": [
        {
          "output_type": "execute_result",
          "data": {
            "text/plain": [
              "True"
            ]
          },
          "metadata": {
            "tags": []
          },
          "execution_count": 29
        }
      ]
    },
    {
      "cell_type": "code",
      "metadata": {
        "colab": {
          "base_uri": "https://localhost:8080/"
        },
        "id": "wUX40bfLJlR3",
        "outputId": "c6ff4eaa-382d-40c9-b9ba-b1e5fb14e6ec"
      },
      "source": [
        "# 비교연산자(comparison operator)\n",
        "2 <= 3"
      ],
      "execution_count": null,
      "outputs": [
        {
          "output_type": "execute_result",
          "data": {
            "text/plain": [
              "True"
            ]
          },
          "metadata": {
            "tags": []
          },
          "execution_count": 30
        }
      ]
    },
    {
      "cell_type": "code",
      "metadata": {
        "colab": {
          "base_uri": "https://localhost:8080/"
        },
        "id": "665rk6OxJlUl",
        "outputId": "d378b209-2f3f-4b95-e7f3-8ae2bcbed10b"
      },
      "source": [
        "# 논리연산자(logical operator)\n",
        "# 모두 True일때만 True\n",
        "(2 < 3) and (10 > 5)"
      ],
      "execution_count": null,
      "outputs": [
        {
          "output_type": "execute_result",
          "data": {
            "text/plain": [
              "True"
            ]
          },
          "metadata": {
            "tags": []
          },
          "execution_count": 31
        }
      ]
    },
    {
      "cell_type": "code",
      "metadata": {
        "colab": {
          "base_uri": "https://localhost:8080/"
        },
        "id": "DOYYxEFHJlW-",
        "outputId": "fbe73087-dc6a-4424-ef44-f043c14d6946"
      },
      "source": [
        "# 논리연산자(logical operator)\n",
        "# 하나만 True이면 True\n",
        "(2 < 3) or (10 < 5)"
      ],
      "execution_count": null,
      "outputs": [
        {
          "output_type": "execute_result",
          "data": {
            "text/plain": [
              "True"
            ]
          },
          "metadata": {
            "tags": []
          },
          "execution_count": 32
        }
      ]
    },
    {
      "cell_type": "code",
      "metadata": {
        "colab": {
          "base_uri": "https://localhost:8080/"
        },
        "id": "Hr8-qgc5KBHp",
        "outputId": "93d8d57f-fe70-4eb6-ce08-72cacfa4256c"
      },
      "source": [
        "# 논리연산자(logical operator)\n",
        "not (2 < 3)"
      ],
      "execution_count": null,
      "outputs": [
        {
          "output_type": "execute_result",
          "data": {
            "text/plain": [
              "False"
            ]
          },
          "metadata": {
            "tags": []
          },
          "execution_count": 33
        }
      ]
    },
    {
      "cell_type": "code",
      "metadata": {
        "colab": {
          "base_uri": "https://localhost:8080/"
        },
        "id": "ikiSDr04xrGD",
        "outputId": "fff8240c-f28d-48e0-bfa9-4e6364e968f2"
      },
      "source": [
        "# int() : 정수타입으로 변환\n",
        "int(\"123\")"
      ],
      "execution_count": null,
      "outputs": [
        {
          "output_type": "execute_result",
          "data": {
            "text/plain": [
              "123"
            ]
          },
          "metadata": {
            "tags": []
          },
          "execution_count": 34
        }
      ]
    },
    {
      "cell_type": "code",
      "metadata": {
        "colab": {
          "base_uri": "https://localhost:8080/",
          "height": 34
        },
        "id": "bGTBiOpdxrXV",
        "outputId": "68787844-d456-4545-b8f4-47ff907275fc"
      },
      "source": [
        "# str() : 문자열타입으로 변환\n",
        "str(123)"
      ],
      "execution_count": null,
      "outputs": [
        {
          "output_type": "execute_result",
          "data": {
            "application/vnd.google.colaboratory.intrinsic+json": {
              "type": "string"
            },
            "text/plain": [
              "'123'"
            ]
          },
          "metadata": {
            "tags": []
          },
          "execution_count": 35
        }
      ]
    },
    {
      "cell_type": "code",
      "metadata": {
        "colab": {
          "base_uri": "https://localhost:8080/"
        },
        "id": "VQK8MK75xrfm",
        "outputId": "33bfc523-545d-4f5b-a094-e0ef7f9f51a5"
      },
      "source": [
        "# float() : 실수타입으로 변환\n",
        "float('12.3')"
      ],
      "execution_count": null,
      "outputs": [
        {
          "output_type": "execute_result",
          "data": {
            "text/plain": [
              "12.3"
            ]
          },
          "metadata": {
            "tags": []
          },
          "execution_count": 36
        }
      ]
    },
    {
      "cell_type": "code",
      "metadata": {
        "id": "YI1mMKmkLgx7",
        "colab": {
          "base_uri": "https://localhost:8080/"
        },
        "outputId": "3d5758e4-6770-4355-8ecc-3fda050b12a6"
      },
      "source": [
        "# 연습문제\n",
        "# 다음 표현식(expression)의 값은 무엇인가? \n",
        "not ((10 == 9) and (2 > 3))"
      ],
      "execution_count": null,
      "outputs": [
        {
          "output_type": "execute_result",
          "data": {
            "text/plain": [
              "True"
            ]
          },
          "metadata": {
            "tags": []
          },
          "execution_count": 37
        }
      ]
    },
    {
      "cell_type": "markdown",
      "metadata": {
        "id": "dzvl_7qWIb_J"
      },
      "source": [
        "# 자료구조 (Data structure)\n",
        "* a collection of different types of data\n",
        "* built-in data structure in Python\n",
        "    * 리스트(list)\n",
        "    * 튜플(tuple)\n",
        "    * 딕셔너리(dictionary)\n",
        "    * 세트(set)\n",
        "* Sequence vs Non-sequence\n",
        "    * Sequence\n",
        "        * 순서가 부여되어 있고, 인덱스를 사용할수 있는 테이터 형\n",
        "        * 문자열, 리스트, 튜플\n",
        "    * Non-sequence\n",
        "        * 순서가 없고, 인덱스를 사용할수 없는 데이터 형\n",
        "        * 딕셔너리, 세트\n",
        "* Mutable vs immutable \n",
        "    * Mutable\n",
        "        * 값이 수정이 가능\n",
        "        * 리스트, 딕셔너리, 세트\n",
        "    * Immutable\n",
        "        * 값의 수정이 불가능\n",
        "        * 문자열, 튜플"
      ]
    },
    {
      "cell_type": "markdown",
      "metadata": {
        "id": "B-dXBN_hRD6y"
      },
      "source": [
        "# 문자열 (String)\n",
        "* 문자들의 집합\n",
        "* ' ' 나 \" \" 로 생성\n",
        "* 문자열은 **불변(immutable)**\n",
        "* 인덱스(index)는 0부터 시작하는 위치를 가리키는 값\n",
        "* 인덱싱(indexing)은 인덱싱 연산자 ([ ])를 사용하여 **하나의 요소(an element)**를 참조하는 연산\n",
        "* 슬라이싱(slicing)은 인덱싱 연산자 ([ ])를 사용하여 **여러개의 요소들(mulple elements)**를 참조하는 연산"
      ]
    },
    {
      "cell_type": "code",
      "metadata": {
        "id": "3AY0wd_TRK2b"
      },
      "source": [
        "# 문자열은 ' ' 나 \" \"로 생성\n",
        "s = 'Ewha Womans University'"
      ],
      "execution_count": null,
      "outputs": []
    },
    {
      "cell_type": "code",
      "metadata": {
        "colab": {
          "base_uri": "https://localhost:8080/",
          "height": 35
        },
        "id": "UJ4WtwsaUUUx",
        "outputId": "75cc79e5-2728-4bfe-a081-ffebeb80d8e1"
      },
      "source": [
        "# 파이썬의 인덱스는 0부터 시작\n",
        "# 처음부터 0, 1, 2, 3, ... \n",
        "s[0]"
      ],
      "execution_count": null,
      "outputs": [
        {
          "output_type": "execute_result",
          "data": {
            "application/vnd.google.colaboratory.intrinsic+json": {
              "type": "string"
            },
            "text/plain": [
              "'E'"
            ]
          },
          "metadata": {
            "tags": []
          },
          "execution_count": 6
        }
      ]
    },
    {
      "cell_type": "code",
      "metadata": {
        "colab": {
          "base_uri": "https://localhost:8080/",
          "height": 35
        },
        "id": "JNhkvd9zUkHk",
        "outputId": "1fbeec04-3586-443b-ba65-75f3054e29ef"
      },
      "source": [
        "# -1는 마지막 값\n",
        "# 마지막부터 -1, -2, -3, -4, ... \n",
        "s[-1]"
      ],
      "execution_count": null,
      "outputs": [
        {
          "output_type": "execute_result",
          "data": {
            "application/vnd.google.colaboratory.intrinsic+json": {
              "type": "string"
            },
            "text/plain": [
              "'y'"
            ]
          },
          "metadata": {
            "tags": []
          },
          "execution_count": 7
        }
      ]
    },
    {
      "cell_type": "code",
      "metadata": {
        "colab": {
          "base_uri": "https://localhost:8080/",
          "height": 35
        },
        "id": "HpWxTBT1Up_X",
        "outputId": "8d21468a-bf3e-4c1d-aca5-fd774edd0484"
      },
      "source": [
        "# string[ starting index : ending index ] 에서 ending index는 포함안됨 \n",
        "s[0:2]"
      ],
      "execution_count": null,
      "outputs": [
        {
          "output_type": "execute_result",
          "data": {
            "application/vnd.google.colaboratory.intrinsic+json": {
              "type": "string"
            },
            "text/plain": [
              "'Ew'"
            ]
          },
          "metadata": {
            "tags": []
          },
          "execution_count": 8
        }
      ]
    },
    {
      "cell_type": "code",
      "metadata": {
        "colab": {
          "base_uri": "https://localhost:8080/",
          "height": 35
        },
        "id": "RkJtemMKt6GG",
        "outputId": "c58212e6-7004-4c89-f504-4b1e280bbab5"
      },
      "source": [
        "# starting index 생략하면 처음부터 \n",
        "s[:2]"
      ],
      "execution_count": null,
      "outputs": [
        {
          "output_type": "execute_result",
          "data": {
            "application/vnd.google.colaboratory.intrinsic+json": {
              "type": "string"
            },
            "text/plain": [
              "'Ew'"
            ]
          },
          "metadata": {
            "tags": []
          },
          "execution_count": 9
        }
      ]
    },
    {
      "cell_type": "code",
      "metadata": {
        "colab": {
          "base_uri": "https://localhost:8080/",
          "height": 35
        },
        "id": "NARVFzTZuJ1i",
        "outputId": "0df1a49e-6fab-4c58-822c-8acecb131d07"
      },
      "source": [
        "# ending index 생략하면 마지막까지\n",
        "s[5:]"
      ],
      "execution_count": null,
      "outputs": [
        {
          "output_type": "execute_result",
          "data": {
            "application/vnd.google.colaboratory.intrinsic+json": {
              "type": "string"
            },
            "text/plain": [
              "'Womans University'"
            ]
          },
          "metadata": {
            "tags": []
          },
          "execution_count": 11
        }
      ]
    },
    {
      "cell_type": "code",
      "metadata": {
        "colab": {
          "base_uri": "https://localhost:8080/",
          "height": 35
        },
        "id": "sN3ggG1TuYjm",
        "outputId": "f46f751b-8cc4-4b93-8d4a-636e48922290"
      },
      "source": [
        "# string[ starting index : ending index : offset ]\n",
        "s[::2]"
      ],
      "execution_count": null,
      "outputs": [
        {
          "output_type": "execute_result",
          "data": {
            "application/vnd.google.colaboratory.intrinsic+json": {
              "type": "string"
            },
            "text/plain": [
              "'Eh oasUiest'"
            ]
          },
          "metadata": {
            "tags": []
          },
          "execution_count": 14
        }
      ]
    },
    {
      "cell_type": "code",
      "metadata": {
        "id": "c6qxZrGEWDMP",
        "colab": {
          "base_uri": "https://localhost:8080/"
        },
        "outputId": "0c058001-61e9-4e09-fbc3-7104c99d18a4"
      },
      "source": [
        "# 문자열 길이\n",
        "len(s)"
      ],
      "execution_count": null,
      "outputs": [
        {
          "output_type": "execute_result",
          "data": {
            "text/plain": [
              "22"
            ]
          },
          "metadata": {
            "tags": []
          },
          "execution_count": 12
        }
      ]
    },
    {
      "cell_type": "code",
      "metadata": {
        "colab": {
          "base_uri": "https://localhost:8080/"
        },
        "id": "Yr9ocAYYES7r",
        "outputId": "8afa3c72-587f-4af7-9ca9-ceb8a654efbf"
      },
      "source": [
        "dir(s)"
      ],
      "execution_count": null,
      "outputs": [
        {
          "output_type": "execute_result",
          "data": {
            "text/plain": [
              "['__add__',\n",
              " '__class__',\n",
              " '__contains__',\n",
              " '__delattr__',\n",
              " '__dir__',\n",
              " '__doc__',\n",
              " '__eq__',\n",
              " '__format__',\n",
              " '__ge__',\n",
              " '__getattribute__',\n",
              " '__getitem__',\n",
              " '__getnewargs__',\n",
              " '__gt__',\n",
              " '__hash__',\n",
              " '__init__',\n",
              " '__init_subclass__',\n",
              " '__iter__',\n",
              " '__le__',\n",
              " '__len__',\n",
              " '__lt__',\n",
              " '__mod__',\n",
              " '__mul__',\n",
              " '__ne__',\n",
              " '__new__',\n",
              " '__reduce__',\n",
              " '__reduce_ex__',\n",
              " '__repr__',\n",
              " '__rmod__',\n",
              " '__rmul__',\n",
              " '__setattr__',\n",
              " '__sizeof__',\n",
              " '__str__',\n",
              " '__subclasshook__',\n",
              " 'capitalize',\n",
              " 'casefold',\n",
              " 'center',\n",
              " 'count',\n",
              " 'encode',\n",
              " 'endswith',\n",
              " 'expandtabs',\n",
              " 'find',\n",
              " 'format',\n",
              " 'format_map',\n",
              " 'index',\n",
              " 'isalnum',\n",
              " 'isalpha',\n",
              " 'isascii',\n",
              " 'isdecimal',\n",
              " 'isdigit',\n",
              " 'isidentifier',\n",
              " 'islower',\n",
              " 'isnumeric',\n",
              " 'isprintable',\n",
              " 'isspace',\n",
              " 'istitle',\n",
              " 'isupper',\n",
              " 'join',\n",
              " 'ljust',\n",
              " 'lower',\n",
              " 'lstrip',\n",
              " 'maketrans',\n",
              " 'partition',\n",
              " 'replace',\n",
              " 'rfind',\n",
              " 'rindex',\n",
              " 'rjust',\n",
              " 'rpartition',\n",
              " 'rsplit',\n",
              " 'rstrip',\n",
              " 'split',\n",
              " 'splitlines',\n",
              " 'startswith',\n",
              " 'strip',\n",
              " 'swapcase',\n",
              " 'title',\n",
              " 'translate',\n",
              " 'upper',\n",
              " 'zfill']"
            ]
          },
          "metadata": {
            "tags": []
          },
          "execution_count": 14
        }
      ]
    },
    {
      "cell_type": "code",
      "metadata": {
        "colab": {
          "base_uri": "https://localhost:8080/"
        },
        "id": "EjatkSoDDn9W",
        "outputId": "4cabcb20-9418-4bb3-e47d-67bdc8e81f21"
      },
      "source": [
        "# s.isalpha() : 문자열 전체가 알파벳이면 True\n",
        "# 공백은 알파벳으로 취급되지 않음\n",
        "s.isalpha()"
      ],
      "execution_count": null,
      "outputs": [
        {
          "output_type": "execute_result",
          "data": {
            "text/plain": [
              "False"
            ]
          },
          "metadata": {
            "tags": []
          },
          "execution_count": 9
        }
      ]
    },
    {
      "cell_type": "code",
      "metadata": {
        "colab": {
          "base_uri": "https://localhost:8080/"
        },
        "id": "nRXYa7h_D2RD",
        "outputId": "85c35c5f-0426-417c-d929-70c079ccbbac"
      },
      "source": [
        "# s.isdigit() : 문자열 전체가 숫자이면 True\n",
        "s.isdigit()"
      ],
      "execution_count": null,
      "outputs": [
        {
          "output_type": "execute_result",
          "data": {
            "text/plain": [
              "False"
            ]
          },
          "metadata": {
            "tags": []
          },
          "execution_count": 10
        }
      ]
    },
    {
      "cell_type": "code",
      "metadata": {
        "colab": {
          "base_uri": "https://localhost:8080/"
        },
        "id": "-O-q7K2kEN4D",
        "outputId": "ff02cfc7-5f60-4ee7-90cf-ab6dc27c3289"
      },
      "source": [
        "# s.islower() : 문자열 전체가 소문자이면 True\n",
        "s.islower()"
      ],
      "execution_count": null,
      "outputs": [
        {
          "output_type": "execute_result",
          "data": {
            "text/plain": [
              "False"
            ]
          },
          "metadata": {
            "tags": []
          },
          "execution_count": 11
        }
      ]
    },
    {
      "cell_type": "code",
      "metadata": {
        "colab": {
          "base_uri": "https://localhost:8080/"
        },
        "id": "EHWvsdK8EQl1",
        "outputId": "ae991af2-3ac0-4e27-c43b-2e16d77546a4"
      },
      "source": [
        "# s.isupper() : 문자열 전체가 대문자이면 True\n",
        "s.isupper()"
      ],
      "execution_count": null,
      "outputs": [
        {
          "output_type": "execute_result",
          "data": {
            "text/plain": [
              "False"
            ]
          },
          "metadata": {
            "tags": []
          },
          "execution_count": 15
        }
      ]
    },
    {
      "cell_type": "code",
      "metadata": {
        "colab": {
          "base_uri": "https://localhost:8080/",
          "height": 35
        },
        "id": "YfWp0mlmEfQO",
        "outputId": "f06091f5-fe5d-4af6-e289-76eaacb6f3fc"
      },
      "source": [
        "# s.upper() : 소문자를 대문자로 변환\n",
        "s.upper()"
      ],
      "execution_count": null,
      "outputs": [
        {
          "output_type": "execute_result",
          "data": {
            "application/vnd.google.colaboratory.intrinsic+json": {
              "type": "string"
            },
            "text/plain": [
              "'EWHA WOMANS UNIVERSITY'"
            ]
          },
          "metadata": {
            "tags": []
          },
          "execution_count": 16
        }
      ]
    },
    {
      "cell_type": "code",
      "metadata": {
        "colab": {
          "base_uri": "https://localhost:8080/",
          "height": 35
        },
        "id": "tLf36y2oEh6q",
        "outputId": "76218401-41e5-4ca0-b08a-815649cee5f7"
      },
      "source": [
        "# s.lower() : 대문자를 소문자로 변환\n",
        "s.lower() "
      ],
      "execution_count": null,
      "outputs": [
        {
          "output_type": "execute_result",
          "data": {
            "application/vnd.google.colaboratory.intrinsic+json": {
              "type": "string"
            },
            "text/plain": [
              "'ewha womans university'"
            ]
          },
          "metadata": {
            "tags": []
          },
          "execution_count": 17
        }
      ]
    },
    {
      "cell_type": "code",
      "metadata": {
        "colab": {
          "base_uri": "https://localhost:8080/",
          "height": 35
        },
        "id": "a9KonSyOEltA",
        "outputId": "bb3ee96d-2411-4e7b-8418-1dcc2ef572e1"
      },
      "source": [
        "# s.capitalize() : 첫문자는 대문자로 변환하고, 나머지는 소문자로 변환\n",
        "s.capitalize()"
      ],
      "execution_count": null,
      "outputs": [
        {
          "output_type": "execute_result",
          "data": {
            "application/vnd.google.colaboratory.intrinsic+json": {
              "type": "string"
            },
            "text/plain": [
              "'Ewha womans university'"
            ]
          },
          "metadata": {
            "tags": []
          },
          "execution_count": 18
        }
      ]
    },
    {
      "cell_type": "code",
      "metadata": {
        "colab": {
          "base_uri": "https://localhost:8080/"
        },
        "id": "l0ttpGu2Eo8F",
        "outputId": "fad8bc5f-2366-45b0-f39b-d883bfe29e61"
      },
      "source": [
        "# s.count() : 인수로 지정된 특정 문자열의 개수 \n",
        "s.count('a')"
      ],
      "execution_count": null,
      "outputs": [
        {
          "output_type": "execute_result",
          "data": {
            "text/plain": [
              "2"
            ]
          },
          "metadata": {
            "tags": []
          },
          "execution_count": 21
        }
      ]
    },
    {
      "cell_type": "code",
      "metadata": {
        "colab": {
          "base_uri": "https://localhost:8080/",
          "height": 35
        },
        "id": "m31_-6PNE5uY",
        "outputId": "79e3f4aa-5692-4e09-a267-be1e44ff1375"
      },
      "source": [
        "# s.lstrip() : 문자열 왼쪽의 공백 문자를 삭제\n",
        "s.lstrip()"
      ],
      "execution_count": null,
      "outputs": [
        {
          "output_type": "execute_result",
          "data": {
            "application/vnd.google.colaboratory.intrinsic+json": {
              "type": "string"
            },
            "text/plain": [
              "'Ewha Womans University'"
            ]
          },
          "metadata": {
            "tags": []
          },
          "execution_count": 22
        }
      ]
    },
    {
      "cell_type": "code",
      "metadata": {
        "colab": {
          "base_uri": "https://localhost:8080/",
          "height": 35
        },
        "id": "pPhKDHhJFAJe",
        "outputId": "06c62b44-e8fc-4d6b-c555-4690ae968142"
      },
      "source": [
        "# s.rstrip() : 문자열 오른쪽의 공백 문자를 삭제\n",
        "s.rstrip()"
      ],
      "execution_count": null,
      "outputs": [
        {
          "output_type": "execute_result",
          "data": {
            "application/vnd.google.colaboratory.intrinsic+json": {
              "type": "string"
            },
            "text/plain": [
              "'Ewha Womans University'"
            ]
          },
          "metadata": {
            "tags": []
          },
          "execution_count": 23
        }
      ]
    },
    {
      "cell_type": "code",
      "metadata": {
        "colab": {
          "base_uri": "https://localhost:8080/",
          "height": 35
        },
        "id": "xDQcbXCCFFbD",
        "outputId": "9591e39b-e362-445c-8fa8-d92c32609efa"
      },
      "source": [
        "# s.strip() : 문자열 양쪽의 공백 문자를 삭제\n",
        "s.strip()"
      ],
      "execution_count": null,
      "outputs": [
        {
          "output_type": "execute_result",
          "data": {
            "application/vnd.google.colaboratory.intrinsic+json": {
              "type": "string"
            },
            "text/plain": [
              "'Ewha Womans University'"
            ]
          },
          "metadata": {
            "tags": []
          },
          "execution_count": 24
        }
      ]
    },
    {
      "cell_type": "code",
      "metadata": {
        "colab": {
          "base_uri": "https://localhost:8080/",
          "height": 35
        },
        "id": "3Qt7-KEiFJ5d",
        "outputId": "34a58765-b3f1-4db6-e15c-3e13309a0922"
      },
      "source": [
        "# s.replace() : 특정 문자를 다른 문자로 변환\n",
        "s.replace('Ewha', '이화')"
      ],
      "execution_count": null,
      "outputs": [
        {
          "output_type": "execute_result",
          "data": {
            "application/vnd.google.colaboratory.intrinsic+json": {
              "type": "string"
            },
            "text/plain": [
              "'이화 Womans University'"
            ]
          },
          "metadata": {
            "tags": []
          },
          "execution_count": 26
        }
      ]
    },
    {
      "cell_type": "code",
      "metadata": {
        "colab": {
          "base_uri": "https://localhost:8080/"
        },
        "id": "87H0fyfVFYvE",
        "outputId": "39bb35b3-5b7f-4337-d69b-65f0d545b249"
      },
      "source": [
        "# s.find() : 첫번째로 검색 되는 특정 문자의 인덱스 번호를 알려줌 (못찿으면 -1) \n",
        "s.find('m')"
      ],
      "execution_count": null,
      "outputs": [
        {
          "output_type": "execute_result",
          "data": {
            "text/plain": [
              "7"
            ]
          },
          "metadata": {
            "tags": []
          },
          "execution_count": 27
        }
      ]
    },
    {
      "cell_type": "code",
      "metadata": {
        "colab": {
          "base_uri": "https://localhost:8080/"
        },
        "id": "FH-aJlJFFgY-",
        "outputId": "5e464b1c-a5f6-42ed-a44c-c4a36fe27c77"
      },
      "source": [
        "# s.rfind() : 오른쪽에서 왼쪽으로 ... \n",
        "s.rfind('s')"
      ],
      "execution_count": null,
      "outputs": [
        {
          "output_type": "execute_result",
          "data": {
            "text/plain": [
              "18"
            ]
          },
          "metadata": {
            "tags": []
          },
          "execution_count": 28
        }
      ]
    },
    {
      "cell_type": "code",
      "metadata": {
        "colab": {
          "base_uri": "https://localhost:8080/"
        },
        "id": "7zrEXR53FrCi",
        "outputId": "2f4d3426-0a04-4148-8373-452db41bec3f"
      },
      "source": [
        "# s.split() : 공백이나 특정 문자를 기준으로 문자열을 나누어 리스트를 생성\n",
        "# 공백을 기준으로 문자열을 생성\n",
        "# s.split(“,”) 콤마를 기준으로 문자열을 나눈다\n",
        "s.split()"
      ],
      "execution_count": null,
      "outputs": [
        {
          "output_type": "execute_result",
          "data": {
            "text/plain": [
              "['Ewha', 'Womans', 'University']"
            ]
          },
          "metadata": {
            "tags": []
          },
          "execution_count": 29
        }
      ]
    },
    {
      "cell_type": "code",
      "metadata": {
        "colab": {
          "base_uri": "https://localhost:8080/",
          "height": 34
        },
        "id": "ocsudQrb-hxx",
        "outputId": "72da8421-72fc-480f-b14d-e2984f128e83"
      },
      "source": [
        "# 문자열의 덧셈연산\n",
        "'Ewha ' + 'Womans ' + 'University'"
      ],
      "execution_count": null,
      "outputs": [
        {
          "output_type": "execute_result",
          "data": {
            "application/vnd.google.colaboratory.intrinsic+json": {
              "type": "string"
            },
            "text/plain": [
              "'Ewha Womans University'"
            ]
          },
          "metadata": {
            "tags": []
          },
          "execution_count": 38
        }
      ]
    },
    {
      "cell_type": "code",
      "metadata": {
        "id": "fTQaT0L7G9K1",
        "colab": {
          "base_uri": "https://localhost:8080/",
          "height": 34
        },
        "outputId": "4047ce19-16ea-4572-fe22-ec7cc17d3352"
      },
      "source": [
        "# 연습문제\n",
        "# 다음과 같은 문자열 a:b:c:d가 있다. 문자열의 replace 함수를 사용하여 a#b#c#d로 바꿔서 출력해 보자.\n",
        "a = \"a:b:c:d\"\n",
        "a.replace(':', '#')"
      ],
      "execution_count": null,
      "outputs": [
        {
          "output_type": "execute_result",
          "data": {
            "application/vnd.google.colaboratory.intrinsic+json": {
              "type": "string"
            },
            "text/plain": [
              "'a#b#c#d'"
            ]
          },
          "metadata": {
            "tags": []
          },
          "execution_count": 39
        }
      ]
    },
    {
      "cell_type": "code",
      "metadata": {
        "id": "Do6_5OHlPawx",
        "colab": {
          "base_uri": "https://localhost:8080/",
          "height": 34
        },
        "outputId": "fd75f6b6-41e7-40d2-b7bb-b582681dc0fb"
      },
      "source": [
        "# 연습문제\n",
        "# 다음 문자열 a에서 세번째와 네번째 문자를 출력하시오. \n",
        "a = 'apple' \n",
        "a[2:4]"
      ],
      "execution_count": null,
      "outputs": [
        {
          "output_type": "execute_result",
          "data": {
            "application/vnd.google.colaboratory.intrinsic+json": {
              "type": "string"
            },
            "text/plain": [
              "'pl'"
            ]
          },
          "metadata": {
            "tags": []
          },
          "execution_count": 41
        }
      ]
    },
    {
      "cell_type": "code",
      "metadata": {
        "id": "e0GcLaGTs9wd",
        "colab": {
          "base_uri": "https://localhost:8080/",
          "height": 34
        },
        "outputId": "653f14ac-1ed1-41f4-b002-19f12dd56bb7"
      },
      "source": [
        "# 연습문제\n",
        "# 다음 문자열 license에서 마지막 4자리문자만 출력하시오. \n",
        "license = '1가 2345'\n",
        "license[-4:]"
      ],
      "execution_count": null,
      "outputs": [
        {
          "output_type": "execute_result",
          "data": {
            "application/vnd.google.colaboratory.intrinsic+json": {
              "type": "string"
            },
            "text/plain": [
              "'2345'"
            ]
          },
          "metadata": {
            "tags": []
          },
          "execution_count": 42
        }
      ]
    },
    {
      "cell_type": "code",
      "metadata": {
        "id": "UmsFXfpmu65Y",
        "colab": {
          "base_uri": "https://localhost:8080/",
          "height": 34
        },
        "outputId": "c06c01db-ab5e-4de3-f9ad-0cbd2c39dc5b"
      },
      "source": [
        "# 연습문제\n",
        "# 다음 문자열 a에서 홀만 출력하시오.\n",
        "a = '홀짝홀짝홀짝홀짝'\n",
        "a[: :2]"
      ],
      "execution_count": null,
      "outputs": [
        {
          "output_type": "execute_result",
          "data": {
            "application/vnd.google.colaboratory.intrinsic+json": {
              "type": "string"
            },
            "text/plain": [
              "'홀홀홀홀'"
            ]
          },
          "metadata": {
            "tags": []
          },
          "execution_count": 46
        }
      ]
    },
    {
      "cell_type": "code",
      "metadata": {
        "id": "8u8AlU7DvJ3r",
        "colab": {
          "base_uri": "https://localhost:8080/",
          "height": 35
        },
        "outputId": "a594d0ff-d971-4405-f63d-3ab4da89c34b"
      },
      "source": [
        "# 연습문제\n",
        "# 다음 문자열 phone에서 하이푼(-)을 제거하고 숫자만 출력하시오. \n",
        "# 010 1234 5678\n",
        "phone = '010-1234-5678'\n",
        "phone.replace('-',' ')"
      ],
      "execution_count": null,
      "outputs": [
        {
          "output_type": "execute_result",
          "data": {
            "application/vnd.google.colaboratory.intrinsic+json": {
              "type": "string"
            },
            "text/plain": [
              "'010 1234 5678'"
            ]
          },
          "metadata": {
            "tags": []
          },
          "execution_count": 4
        }
      ]
    },
    {
      "cell_type": "code",
      "metadata": {
        "id": "TSBkqwQRvgW_",
        "colab": {
          "base_uri": "https://localhost:8080/",
          "height": 35
        },
        "outputId": "68b563e6-a50c-413b-919e-d40e96d20cc1"
      },
      "source": [
        "# 연습문제\n",
        "# 다음 문자열 phone을 하이푼(-)을 제거하고 모두 붙여 출력하시오. \n",
        "# 01012345678\n",
        "phone = '010-1234-5678'\n",
        "phone.replace('-','')"
      ],
      "execution_count": null,
      "outputs": [
        {
          "output_type": "execute_result",
          "data": {
            "application/vnd.google.colaboratory.intrinsic+json": {
              "type": "string"
            },
            "text/plain": [
              "'01012345678'"
            ]
          },
          "metadata": {
            "tags": []
          },
          "execution_count": 5
        }
      ]
    },
    {
      "cell_type": "code",
      "metadata": {
        "id": "_HH7lwpGwGKS",
        "colab": {
          "base_uri": "https://localhost:8080/",
          "height": 34
        },
        "outputId": "a65833ce-bb65-4948-da8b-9ec7e6fb565b"
      },
      "source": [
        "# 연습문제\n",
        "# 다음 URL(Uniform Resource Locator)에서 도메인을 출력하시오. \n",
        "URL = 'https://www.ewha.ac.kr'\n",
        "URL[-2:]"
      ],
      "execution_count": null,
      "outputs": [
        {
          "output_type": "execute_result",
          "data": {
            "application/vnd.google.colaboratory.intrinsic+json": {
              "type": "string"
            },
            "text/plain": [
              "'kr'"
            ]
          },
          "metadata": {
            "tags": []
          },
          "execution_count": 47
        }
      ]
    },
    {
      "cell_type": "code",
      "metadata": {
        "colab": {
          "base_uri": "https://localhost:8080/",
          "height": 34
        },
        "id": "uhKyJVppN5Sv",
        "outputId": "20fcc639-2afc-4491-babd-f0cbb3fa61be"
      },
      "source": [
        "URL.split('.')[-1]"
      ],
      "execution_count": null,
      "outputs": [
        {
          "output_type": "execute_result",
          "data": {
            "application/vnd.google.colaboratory.intrinsic+json": {
              "type": "string"
            },
            "text/plain": [
              "'kr'"
            ]
          },
          "metadata": {
            "tags": []
          },
          "execution_count": 51
        }
      ]
    },
    {
      "cell_type": "code",
      "metadata": {
        "id": "P7oMzS2JN_Lf"
      },
      "source": [
        ""
      ],
      "execution_count": null,
      "outputs": []
    },
    {
      "cell_type": "code",
      "metadata": {
        "id": "JYNXXz4zN7xM"
      },
      "source": [
        ""
      ],
      "execution_count": null,
      "outputs": []
    },
    {
      "cell_type": "code",
      "metadata": {
        "id": "k0RUB7vLxeJo",
        "colab": {
          "base_uri": "https://localhost:8080/"
        },
        "outputId": "08b28490-5d13-4f9b-d37b-7fc4e2478222"
      },
      "source": [
        "# 연습문제\n",
        "# 다음 문자열 number를 콤마를 제거하고 정수로 변환하시오. \n",
        "number = '123,456,789'\n",
        "int(number.replace(',', ''))"
      ],
      "execution_count": null,
      "outputs": [
        {
          "output_type": "execute_result",
          "data": {
            "text/plain": [
              "123456789"
            ]
          },
          "metadata": {
            "tags": []
          },
          "execution_count": 12
        }
      ]
    },
    {
      "cell_type": "code",
      "metadata": {
        "id": "jB1GPo9mzT3w",
        "colab": {
          "base_uri": "https://localhost:8080/"
        },
        "outputId": "9fa509ce-6c0b-4878-c323-4aead1572fb6"
      },
      "source": [
        "# 연습문제\n",
        "# 다음 문자열 date를 연도,월,일로 나누어 보시오. \n",
        "date = '2021-05-04'\n",
        "date.split('-')"
      ],
      "execution_count": null,
      "outputs": [
        {
          "output_type": "execute_result",
          "data": {
            "text/plain": [
              "['2021', '05', '04']"
            ]
          },
          "metadata": {
            "tags": []
          },
          "execution_count": 53
        }
      ]
    },
    {
      "cell_type": "markdown",
      "metadata": {
        "id": "OAw__M8iZ4i-"
      },
      "source": [
        "# String formatting (old style)"
      ]
    },
    {
      "cell_type": "code",
      "metadata": {
        "colab": {
          "base_uri": "https://localhost:8080/"
        },
        "id": "1osWIEaYaDtT",
        "outputId": "2d1baef9-4115-43ac-f094-c3070e8a1c89"
      },
      "source": [
        "# %s: 이 위치에 문자열(string)을 넣으라는 뜻\n",
        "# %s 를 변환지시어(conversion specifier)라고 함\n",
        "# %s: 문자열(string)\n",
        "# %d: 정수(integer)\n",
        "# %f: 부동소수(float)\n",
        "print('My name is %s\"' % 'sunbok')"
      ],
      "execution_count": null,
      "outputs": [
        {
          "output_type": "stream",
          "text": [
            "My name is sunbok\"\n"
          ],
          "name": "stdout"
        }
      ]
    },
    {
      "cell_type": "code",
      "metadata": {
        "colab": {
          "base_uri": "https://localhost:8080/",
          "height": 35
        },
        "id": "S8y3RmByeJ9h",
        "outputId": "6877b0f6-c011-40af-c1dc-c7bc5ae135aa"
      },
      "source": [
        "# 대체할 값들은 튜플(tuple)로 묶어주어야 함\n",
        "# 기본형식: '  %d    %s   ' % (value, value)\n",
        "# 변환지시어와 값(value)은 타입이 일치해야 함\n",
        "'%s은 지난 %d년동안 %f%% 성장하였다.' % ('한국',10, 20)"
      ],
      "execution_count": null,
      "outputs": [
        {
          "output_type": "execute_result",
          "data": {
            "application/vnd.google.colaboratory.intrinsic+json": {
              "type": "string"
            },
            "text/plain": [
              "'한국은 지난 10년동안 20.000000% 성장하였다.'"
            ]
          },
          "metadata": {
            "tags": []
          },
          "execution_count": 1
        }
      ]
    },
    {
      "cell_type": "code",
      "metadata": {
        "colab": {
          "base_uri": "https://localhost:8080/",
          "height": 34
        },
        "id": "yaXVKGo8kCaX",
        "outputId": "a15490b8-234f-446f-8f90-9eb7858af34e"
      },
      "source": [
        "# %[flag][width][.precision]f\n",
        "# %10.2f: 전체 10자리, 오른쪽 정렬, 소수점 2자리\n",
        "# %% escape %\n",
        "'%s은 지난 %d동안 %2.2f%% 성장하였다.' % ('한국',10, 20)"
      ],
      "execution_count": null,
      "outputs": [
        {
          "output_type": "execute_result",
          "data": {
            "application/vnd.google.colaboratory.intrinsic+json": {
              "type": "string"
            },
            "text/plain": [
              "'한국은 지난 10동안 20.00% 성장하였다.'"
            ]
          },
          "metadata": {
            "tags": []
          },
          "execution_count": 56
        }
      ]
    },
    {
      "cell_type": "code",
      "metadata": {
        "colab": {
          "base_uri": "https://localhost:8080/",
          "height": 35
        },
        "id": "BHKxmaC7n9AK",
        "outputId": "1efc4dcf-eb98-4457-d3f1-d61da80aff32"
      },
      "source": [
        "# 대체할 값들로 딕셔너리(dictionary)도 가능\n",
        "# 기본형식: `   %(key)d  %(key)s    ` % { key : value, key : value}\n",
        "'%(국가)s은 지난 %(year)d동안 %(성장률)-10.2f%% 성장하였다.' % {'국가' : '한국', 'year' : 10, '성장률' : 20}"
      ],
      "execution_count": null,
      "outputs": [
        {
          "output_type": "execute_result",
          "data": {
            "application/vnd.google.colaboratory.intrinsic+json": {
              "type": "string"
            },
            "text/plain": [
              "'한국은 지난 10동안 20.00     % 성장하였다.'"
            ]
          },
          "metadata": {
            "tags": []
          },
          "execution_count": 30
        }
      ]
    },
    {
      "cell_type": "code",
      "metadata": {
        "id": "e9vGoH0eMlua",
        "colab": {
          "base_uri": "https://localhost:8080/",
          "height": 34
        },
        "outputId": "78acd461-7dc9-4472-be38-9c4ea9d9b640"
      },
      "source": [
        "# 연습문제\n",
        "# '이화여자대학교 일반대학원의 현재 정원은 2832명입니다.' 을 출력할때\n",
        "# '이화여자대학교'와 2832를 string formatting을 처리하여 출력\n",
        "'%s 일반대학원의 현재 정원은 %d명입니다.'%('이화여자대학교',2832)"
      ],
      "execution_count": null,
      "outputs": [
        {
          "output_type": "execute_result",
          "data": {
            "application/vnd.google.colaboratory.intrinsic+json": {
              "type": "string"
            },
            "text/plain": [
              "'이화여자대학교 일반대학원의 현재 정원은 2832명입니다.'"
            ]
          },
          "metadata": {
            "tags": []
          },
          "execution_count": 1
        }
      ]
    },
    {
      "cell_type": "markdown",
      "metadata": {
        "id": "GT200mwJd-x7"
      },
      "source": [
        "# String formatting (str.format() method, Python 3.0+)"
      ]
    },
    {
      "cell_type": "code",
      "metadata": {
        "colab": {
          "base_uri": "https://localhost:8080/",
          "height": 35
        },
        "id": "VjEH-aOQn8PQ",
        "outputId": "cbb4aa3a-322e-4593-904d-17b2f20c609f"
      },
      "source": [
        "# 변환지시자(conversion specifier)를 더이상 사용하지 않음\n",
        "# {0}은 format()메서드의 첫번째 전달인자(argument)로 대체됨 \n",
        "# {1}은 format()메서드의 두번째 전달인자(argument)로 대체됨 \n",
        "'{0}은 지난 {1}동안 {2}% 성장하였다.'.format('한국', 10, 20)"
      ],
      "execution_count": null,
      "outputs": [
        {
          "output_type": "execute_result",
          "data": {
            "application/vnd.google.colaboratory.intrinsic+json": {
              "type": "string"
            },
            "text/plain": [
              "'한국은 지난 10동안 20% 성장하였다.'"
            ]
          },
          "metadata": {
            "tags": []
          },
          "execution_count": 38
        }
      ]
    },
    {
      "cell_type": "code",
      "metadata": {
        "colab": {
          "base_uri": "https://localhost:8080/",
          "height": 35
        },
        "id": "W3nbggzPyFng",
        "outputId": "c6d87f5d-42e4-4975-d7f5-70e9e69e180b"
      },
      "source": [
        "# format()메서드의 전달인자를 순서대로 출력하는 경우는 {}안의 숫자생략가능\n",
        "'{}은 지난 {}동안 {}% 성장하였다.'.format('한국', 10, 20)"
      ],
      "execution_count": null,
      "outputs": [
        {
          "output_type": "execute_result",
          "data": {
            "application/vnd.google.colaboratory.intrinsic+json": {
              "type": "string"
            },
            "text/plain": [
              "'한국은 지난 10동안 20% 성장하였다.'"
            ]
          },
          "metadata": {
            "tags": []
          },
          "execution_count": 39
        }
      ]
    },
    {
      "cell_type": "code",
      "metadata": {
        "colab": {
          "base_uri": "https://localhost:8080/",
          "height": 35
        },
        "id": "d0lVL-DQz1TU",
        "outputId": "2c91ef6f-f243-49c9-8fe5-417610952912"
      },
      "source": [
        "# format()메서드의 전달인자를 순서대로 출력하는 경우는 {}안의 숫자생략가능\n",
        "'{국가}은 지난 {year}동안 {성장률}% 성장하였다.'.format(국가 = '한국', year = 10, 성장률 = 20)"
      ],
      "execution_count": null,
      "outputs": [
        {
          "output_type": "execute_result",
          "data": {
            "application/vnd.google.colaboratory.intrinsic+json": {
              "type": "string"
            },
            "text/plain": [
              "'한국은 지난 10동안 20% 성장하였다.'"
            ]
          },
          "metadata": {
            "tags": []
          },
          "execution_count": 40
        }
      ]
    },
    {
      "cell_type": "code",
      "metadata": {
        "colab": {
          "base_uri": "https://localhost:8080/",
          "height": 35
        },
        "id": "rYi7uHMgx2jz",
        "outputId": "2eb861f6-610d-4b26-8ba3-7713da827c15"
      },
      "source": [
        "# 왼쪽으로 정렬\n",
        "'{0}은 지난 {1}동안 {2:<10.2f}% 성장하였다.'.format('한국', 10, 20)"
      ],
      "execution_count": null,
      "outputs": [
        {
          "output_type": "execute_result",
          "data": {
            "application/vnd.google.colaboratory.intrinsic+json": {
              "type": "string"
            },
            "text/plain": [
              "'한국은 지난 10동안 20.00     % 성장하였다.'"
            ]
          },
          "metadata": {
            "tags": []
          },
          "execution_count": 36
        }
      ]
    },
    {
      "cell_type": "code",
      "metadata": {
        "colab": {
          "base_uri": "https://localhost:8080/",
          "height": 35
        },
        "id": "h-wWeSM5xvZF",
        "outputId": "0d22e3b5-7011-4f89-b2f7-1d94bd1bd350"
      },
      "source": [
        "# 오른쪽으로 정렬\n",
        "'{0}은 지난 {1}동안 {2:>10.2f}% 성장하였다.'.format('한국', 10, 20)"
      ],
      "execution_count": null,
      "outputs": [
        {
          "output_type": "execute_result",
          "data": {
            "application/vnd.google.colaboratory.intrinsic+json": {
              "type": "string"
            },
            "text/plain": [
              "'한국은 지난 10동안      20.00% 성장하였다.'"
            ]
          },
          "metadata": {
            "tags": []
          },
          "execution_count": 37
        }
      ]
    },
    {
      "cell_type": "code",
      "metadata": {
        "id": "QGkpzpqWJRf9",
        "colab": {
          "base_uri": "https://localhost:8080/",
          "height": 34
        },
        "outputId": "a02debd4-75a5-4140-b677-e2fecfb45ae4"
      },
      "source": [
        "# 연습문제\n",
        "# '이화여자대학교 일반대학원의 현재 정원은 2832명입니다.' 을 출력할때\n",
        "# '이화여자대학교'와 2832를 string formatting을 처리하여 출력하시오. \n",
        "'{0} 일반대학원의 현재 정원은 {1}명입니다.'.format('이화여자대학교','2832')"
      ],
      "execution_count": null,
      "outputs": [
        {
          "output_type": "execute_result",
          "data": {
            "application/vnd.google.colaboratory.intrinsic+json": {
              "type": "string"
            },
            "text/plain": [
              "'이화여자대학교 일반대학원의 현재 정원은 2832명입니다.'"
            ]
          },
          "metadata": {
            "tags": []
          },
          "execution_count": 58
        }
      ]
    },
    {
      "cell_type": "markdown",
      "metadata": {
        "id": "nAXBPoJAzesp"
      },
      "source": [
        "# String formatting (f-string, Python 3.6+)"
      ]
    },
    {
      "cell_type": "code",
      "metadata": {
        "id": "WSatJhSK0bqQ"
      },
      "source": [
        "name = '한국'\n",
        "year = 10\n",
        "growth = 20"
      ],
      "execution_count": null,
      "outputs": []
    },
    {
      "cell_type": "code",
      "metadata": {
        "colab": {
          "base_uri": "https://localhost:8080/",
          "height": 35
        },
        "id": "y8bI9s1607wc",
        "outputId": "d668a45d-4969-4276-9844-035ebe55dbde"
      },
      "source": [
        "# f'   {any Python expression}   '\n",
        "# 왼쪽 정렬\n",
        "f'{name}은 지난 {year}동안 {growth:<10.2f}% 성장하였다.'"
      ],
      "execution_count": null,
      "outputs": [
        {
          "output_type": "execute_result",
          "data": {
            "application/vnd.google.colaboratory.intrinsic+json": {
              "type": "string"
            },
            "text/plain": [
              "'한국은 지난 10동안 20.00     % 성장하였다.'"
            ]
          },
          "metadata": {
            "tags": []
          },
          "execution_count": 45
        }
      ]
    },
    {
      "cell_type": "code",
      "metadata": {
        "colab": {
          "base_uri": "https://localhost:8080/",
          "height": 35
        },
        "id": "0KntI9Wg1hzb",
        "outputId": "51df9c32-8937-4a9b-d5c1-0a600710eaa9"
      },
      "source": [
        "# 오른쪽 정렬\n",
        "f'{name}은 지난 {year}동안 {growth:>10.2f}% 성장하였다.'"
      ],
      "execution_count": null,
      "outputs": [
        {
          "output_type": "execute_result",
          "data": {
            "application/vnd.google.colaboratory.intrinsic+json": {
              "type": "string"
            },
            "text/plain": [
              "'한국은 지난 10동안      20.00% 성장하였다.'"
            ]
          },
          "metadata": {
            "tags": []
          },
          "execution_count": 47
        }
      ]
    },
    {
      "cell_type": "code",
      "metadata": {
        "colab": {
          "base_uri": "https://localhost:8080/",
          "height": 35
        },
        "id": "HBLTCalA112G",
        "outputId": "3778e654-d3c5-4f8c-dc97-7ccfa1c1b764"
      },
      "source": [
        "# 가운데 정렬\n",
        "f'{name}은 지난 {year}동안 {growth:^10.2f}% 성장하였다.'"
      ],
      "execution_count": null,
      "outputs": [
        {
          "output_type": "execute_result",
          "data": {
            "application/vnd.google.colaboratory.intrinsic+json": {
              "type": "string"
            },
            "text/plain": [
              "'한국은 지난 10동안   20.00   % 성장하였다.'"
            ]
          },
          "metadata": {
            "tags": []
          },
          "execution_count": 49
        }
      ]
    },
    {
      "cell_type": "code",
      "metadata": {
        "id": "86SBTl6P2h19"
      },
      "source": [
        "a = 1\n",
        "b = 2"
      ],
      "execution_count": null,
      "outputs": []
    },
    {
      "cell_type": "code",
      "metadata": {
        "colab": {
          "base_uri": "https://localhost:8080/",
          "height": 35
        },
        "id": "izxa1rkK2kTs",
        "outputId": "b8a3795e-16ab-4962-8155-2427a628f1c0"
      },
      "source": [
        "# { } 안에는 어떤 파이썬 표현식도 가능함\n",
        "f'a + b = {a + b}'"
      ],
      "execution_count": null,
      "outputs": [
        {
          "output_type": "execute_result",
          "data": {
            "application/vnd.google.colaboratory.intrinsic+json": {
              "type": "string"
            },
            "text/plain": [
              "'a + b = 3'"
            ]
          },
          "metadata": {
            "tags": []
          },
          "execution_count": 51
        }
      ]
    },
    {
      "cell_type": "code",
      "metadata": {
        "id": "AmkwCSl3JTGL",
        "colab": {
          "base_uri": "https://localhost:8080/",
          "height": 34
        },
        "outputId": "a14a07d9-92c3-4f4c-ec18-19f84aeed815"
      },
      "source": [
        "# 연습문제\n",
        "# '이화여자대학교 일반대학원의 현재 정원은 2832명입니다.' 을 출력할때\n",
        "# '이화여자대학교'와 2832를 string formatting을 처리하여 출력하시오. \n",
        "school = '이화여자대학교'\n",
        "num_students = 2832\n",
        "f'{school} 일반대학원의 현재 정원은 {num_students}명입니다.'"
      ],
      "execution_count": null,
      "outputs": [
        {
          "output_type": "execute_result",
          "data": {
            "application/vnd.google.colaboratory.intrinsic+json": {
              "type": "string"
            },
            "text/plain": [
              "'이화여자대학교 일반대학원의 현재 정원은 2832명입니다.'"
            ]
          },
          "metadata": {
            "tags": []
          },
          "execution_count": 60
        }
      ]
    },
    {
      "cell_type": "markdown",
      "metadata": {
        "id": "pOepF9RmJrD4"
      },
      "source": [
        "# 리스트 (List)\n",
        "* 리스트는 [ ]사이에 콤마로 분리된 값들\n",
        "* 리스트는 다른 타입의 값들을 가질수 있으나 보통은 같은 타입의 값을 가짐\n",
        "* 리스트는 가변(mutable)\n",
        "* 인덱싱과 슬라이싱은 문자열과 동일"
      ]
    },
    {
      "cell_type": "code",
      "metadata": {
        "id": "R7BxwV8ILXv6"
      },
      "source": [
        "# 리스트는 [ ]로 생성\n",
        "lst = [100, 90, 80, 70, 60]"
      ],
      "execution_count": null,
      "outputs": []
    },
    {
      "cell_type": "code",
      "metadata": {
        "id": "vpvS04eqLrx-"
      },
      "source": [
        "# nested list\n",
        "lst = [ [1,2,3], [4,5,6], [7,8,9] ]"
      ],
      "execution_count": null,
      "outputs": []
    },
    {
      "cell_type": "code",
      "metadata": {
        "colab": {
          "base_uri": "https://localhost:8080/"
        },
        "id": "OLmalT94Luhk",
        "outputId": "61592ddc-a825-48a4-e1e2-2731eb1f19ca"
      },
      "source": [
        "# nested list\n",
        "lst[0][0]"
      ],
      "execution_count": null,
      "outputs": [
        {
          "output_type": "execute_result",
          "data": {
            "text/plain": [
              "1"
            ]
          },
          "metadata": {
            "tags": []
          },
          "execution_count": 63
        }
      ]
    },
    {
      "cell_type": "code",
      "metadata": {
        "colab": {
          "base_uri": "https://localhost:8080/"
        },
        "id": "r23fGlRcL2I2",
        "outputId": "27c09645-8791-4c8a-a1c4-4c3bd226f531"
      },
      "source": [
        "# nested list\n",
        "lst[2][1]"
      ],
      "execution_count": null,
      "outputs": [
        {
          "output_type": "execute_result",
          "data": {
            "text/plain": [
              "8"
            ]
          },
          "metadata": {
            "tags": []
          },
          "execution_count": 64
        }
      ]
    },
    {
      "cell_type": "code",
      "metadata": {
        "colab": {
          "base_uri": "https://localhost:8080/"
        },
        "id": "_OuvmdZVL-P7",
        "outputId": "496cbe82-9cb4-4225-85c3-6a2e2f275465"
      },
      "source": [
        "# 곱셈 연산자로 요소 할당\n",
        "[1, 2, 3] * 3"
      ],
      "execution_count": null,
      "outputs": [
        {
          "output_type": "execute_result",
          "data": {
            "text/plain": [
              "[1, 2, 3, 1, 2, 3, 1, 2, 3]"
            ]
          },
          "metadata": {
            "tags": []
          },
          "execution_count": 65
        }
      ]
    },
    {
      "cell_type": "code",
      "metadata": {
        "colab": {
          "base_uri": "https://localhost:8080/"
        },
        "id": "_yjZA6ZnMMo8",
        "outputId": "20509f80-fe21-46f0-cf9e-ce2c3542ee29"
      },
      "source": [
        "# 덧셈 연산자로 리스트 결합하기 (concatanation)\n",
        "[1, 2] + [3, 4]"
      ],
      "execution_count": null,
      "outputs": [
        {
          "output_type": "execute_result",
          "data": {
            "text/plain": [
              "[1, 2, 3, 4]"
            ]
          },
          "metadata": {
            "tags": []
          },
          "execution_count": 66
        }
      ]
    },
    {
      "cell_type": "code",
      "metadata": {
        "colab": {
          "base_uri": "https://localhost:8080/"
        },
        "id": "KimY-vYfMTyG",
        "outputId": "ddeb671d-4a02-4b82-9e78-ffe40614d456"
      },
      "source": [
        "# in 연산자로 리스트 요소 확인하기\n",
        "2 in [1,2,3,4,5]"
      ],
      "execution_count": null,
      "outputs": [
        {
          "output_type": "execute_result",
          "data": {
            "text/plain": [
              "True"
            ]
          },
          "metadata": {
            "tags": []
          },
          "execution_count": 67
        }
      ]
    },
    {
      "cell_type": "code",
      "metadata": {
        "colab": {
          "base_uri": "https://localhost:8080/"
        },
        "id": "t663CHrSMbMY",
        "outputId": "a27b3460-aa48-4636-ff0a-f22ee1616971"
      },
      "source": [
        "# not in 연산자로 리스트 요소 확인하기\n",
        "2 not in [1,2,3,4,5]"
      ],
      "execution_count": null,
      "outputs": [
        {
          "output_type": "execute_result",
          "data": {
            "text/plain": [
              "False"
            ]
          },
          "metadata": {
            "tags": []
          },
          "execution_count": 68
        }
      ]
    },
    {
      "cell_type": "code",
      "metadata": {
        "colab": {
          "base_uri": "https://localhost:8080/"
        },
        "id": "Vc06-zcIMfq_",
        "outputId": "d210124b-627b-4e05-d20f-234a2451926f"
      },
      "source": [
        "# 슬라이싱\n",
        "lst = [ 0, 1, 2, [3, 4, 5] ] \n",
        "lst[3][0 : 2]"
      ],
      "execution_count": null,
      "outputs": [
        {
          "output_type": "execute_result",
          "data": {
            "text/plain": [
              "[3, 4]"
            ]
          },
          "metadata": {
            "tags": []
          },
          "execution_count": 69
        }
      ]
    },
    {
      "cell_type": "code",
      "metadata": {
        "colab": {
          "base_uri": "https://localhost:8080/"
        },
        "id": "CE8vQo8VMw43",
        "outputId": "1b1836bc-1518-4452-a36d-c950ac3aac1d"
      },
      "source": [
        "# 리스트 수정\n",
        "lst[0] = 1\n",
        "lst"
      ],
      "execution_count": null,
      "outputs": [
        {
          "output_type": "execute_result",
          "data": {
            "text/plain": [
              "[1, 1, 2, [3, 4, 5]]"
            ]
          },
          "metadata": {
            "tags": []
          },
          "execution_count": 70
        }
      ]
    },
    {
      "cell_type": "code",
      "metadata": {
        "colab": {
          "base_uri": "https://localhost:8080/"
        },
        "id": "QUqC78-lRAwg",
        "outputId": "1cc5513b-04e2-4d39-a55f-b002777c64d0"
      },
      "source": [
        "dir([1,2,3])"
      ],
      "execution_count": null,
      "outputs": [
        {
          "output_type": "execute_result",
          "data": {
            "text/plain": [
              "['__add__',\n",
              " '__class__',\n",
              " '__contains__',\n",
              " '__delattr__',\n",
              " '__delitem__',\n",
              " '__dir__',\n",
              " '__doc__',\n",
              " '__eq__',\n",
              " '__format__',\n",
              " '__ge__',\n",
              " '__getattribute__',\n",
              " '__getitem__',\n",
              " '__gt__',\n",
              " '__hash__',\n",
              " '__iadd__',\n",
              " '__imul__',\n",
              " '__init__',\n",
              " '__init_subclass__',\n",
              " '__iter__',\n",
              " '__le__',\n",
              " '__len__',\n",
              " '__lt__',\n",
              " '__mul__',\n",
              " '__ne__',\n",
              " '__new__',\n",
              " '__reduce__',\n",
              " '__reduce_ex__',\n",
              " '__repr__',\n",
              " '__reversed__',\n",
              " '__rmul__',\n",
              " '__setattr__',\n",
              " '__setitem__',\n",
              " '__sizeof__',\n",
              " '__str__',\n",
              " '__subclasshook__',\n",
              " 'append',\n",
              " 'clear',\n",
              " 'copy',\n",
              " 'count',\n",
              " 'extend',\n",
              " 'index',\n",
              " 'insert',\n",
              " 'pop',\n",
              " 'remove',\n",
              " 'reverse',\n",
              " 'sort']"
            ]
          },
          "metadata": {
            "tags": []
          },
          "execution_count": 39
        }
      ]
    },
    {
      "cell_type": "code",
      "metadata": {
        "id": "ewoPFAKvRCQK"
      },
      "source": [
        ""
      ],
      "execution_count": null,
      "outputs": []
    },
    {
      "cell_type": "code",
      "metadata": {
        "colab": {
          "base_uri": "https://localhost:8080/"
        },
        "id": "VYQST2bVM5Rn",
        "outputId": "755232c1-d334-481d-e468-b9264ae5d8f2"
      },
      "source": [
        "# extend() : 리스트에 여러개의 요소를 한번에 추가\n",
        "lst1 = [1, 2, 3]\n",
        "lst2 = [4, 5, 6]\n",
        "lst1.extend(lst2)\n",
        "lst1"
      ],
      "execution_count": null,
      "outputs": [
        {
          "output_type": "execute_result",
          "data": {
            "text/plain": [
              "[1, 2, 3, 4, 5, 6]"
            ]
          },
          "metadata": {
            "tags": []
          },
          "execution_count": 71
        }
      ]
    },
    {
      "cell_type": "code",
      "metadata": {
        "colab": {
          "base_uri": "https://localhost:8080/"
        },
        "id": "dR-R4sqRNOzq",
        "outputId": "f3d2416b-8579-445b-aeb2-0922bf22cc8d"
      },
      "source": [
        "# append() : 리스트에 제일 뒤에 1 개 요소를 추가\n",
        "lst = ['a', 'b', 'c']\n",
        "lst.append('d')\n",
        "lst"
      ],
      "execution_count": null,
      "outputs": [
        {
          "output_type": "execute_result",
          "data": {
            "text/plain": [
              "['a', 'b', 'c', 'd']"
            ]
          },
          "metadata": {
            "tags": []
          },
          "execution_count": 73
        }
      ]
    },
    {
      "cell_type": "code",
      "metadata": {
        "colab": {
          "base_uri": "https://localhost:8080/"
        },
        "id": "FgBPXb1VM3gT",
        "outputId": "f96671f9-5e98-4773-8649-d8f2826dc6d3"
      },
      "source": [
        "# insert() : 리스트의 특정 위치에 요소를 삽입\n",
        "lst = [1, 2, 3]\n",
        "lst.insert(1, 10)  \n",
        "lst"
      ],
      "execution_count": null,
      "outputs": [
        {
          "output_type": "execute_result",
          "data": {
            "text/plain": [
              "[1, 10, 2, 3]"
            ]
          },
          "metadata": {
            "tags": []
          },
          "execution_count": 74
        }
      ]
    },
    {
      "cell_type": "code",
      "metadata": {
        "colab": {
          "base_uri": "https://localhost:8080/"
        },
        "id": "qcAcpU3DOGgO",
        "outputId": "9f55a70e-38f7-43da-cf47-2fb4bce55fa2"
      },
      "source": [
        "# clear() : 리스트의 모든 요소를 삭제\n",
        "lst = [1, 2, 3]\n",
        "lst.clear()\n",
        "lst"
      ],
      "execution_count": null,
      "outputs": [
        {
          "output_type": "execute_result",
          "data": {
            "text/plain": [
              "[]"
            ]
          },
          "metadata": {
            "tags": []
          },
          "execution_count": 75
        }
      ]
    },
    {
      "cell_type": "code",
      "metadata": {
        "colab": {
          "base_uri": "https://localhost:8080/"
        },
        "id": "IAQOmBRAOUXR",
        "outputId": "1aba093c-4bc2-4095-fde2-0ebec559eb6c"
      },
      "source": [
        "# del : 리스트내 요소 삭제\n",
        "# del lst : lst 리스트 전체 삭제\n",
        "lst = [1, 2, 3]\n",
        "del lst[2]\n",
        "lst"
      ],
      "execution_count": null,
      "outputs": [
        {
          "output_type": "execute_result",
          "data": {
            "text/plain": [
              "[1, 2]"
            ]
          },
          "metadata": {
            "tags": []
          },
          "execution_count": 76
        }
      ]
    },
    {
      "cell_type": "code",
      "metadata": {
        "colab": {
          "base_uri": "https://localhost:8080/"
        },
        "id": "1loPuk3UOhqT",
        "outputId": "584ab788-6455-4cd9-ad50-7edafacb98af"
      },
      "source": [
        "# pop() : 마지막 요소를 출력한후 삭제\n",
        "lst = [1, 2, 3]\n",
        "lst.pop()"
      ],
      "execution_count": null,
      "outputs": [
        {
          "output_type": "execute_result",
          "data": {
            "text/plain": [
              "3"
            ]
          },
          "metadata": {
            "tags": []
          },
          "execution_count": 78
        }
      ]
    },
    {
      "cell_type": "code",
      "metadata": {
        "colab": {
          "base_uri": "https://localhost:8080/"
        },
        "id": "nt9A7V9wO_Lj",
        "outputId": "496e6061-f551-4910-9284-a207995e471f"
      },
      "source": [
        "lst"
      ],
      "execution_count": null,
      "outputs": [
        {
          "output_type": "execute_result",
          "data": {
            "text/plain": [
              "[1, 2]"
            ]
          },
          "metadata": {
            "tags": []
          },
          "execution_count": 79
        }
      ]
    },
    {
      "cell_type": "code",
      "metadata": {
        "colab": {
          "base_uri": "https://localhost:8080/"
        },
        "id": "joBsmHyVPQ-U",
        "outputId": "e75d1eac-ecd9-486e-ba54-77a0e5dceb17"
      },
      "source": [
        "# list() : 리스트로 변환\n",
        "list(\"Ewha\")"
      ],
      "execution_count": null,
      "outputs": [
        {
          "output_type": "execute_result",
          "data": {
            "text/plain": [
              "['E', 'w', 'h', 'a']"
            ]
          },
          "metadata": {
            "tags": []
          },
          "execution_count": 80
        }
      ]
    },
    {
      "cell_type": "code",
      "metadata": {
        "colab": {
          "base_uri": "https://localhost:8080/"
        },
        "id": "iTwduYqlQck3",
        "outputId": "bbdcf15e-74d2-4d76-ba2c-07542ffe3be0"
      },
      "source": [
        "# sort() : 리스트 정렬\n",
        "lst = [2, 3, 1]\n",
        "lst.sort()\n",
        "lst"
      ],
      "execution_count": null,
      "outputs": [
        {
          "output_type": "execute_result",
          "data": {
            "text/plain": [
              "[1, 2, 3]"
            ]
          },
          "metadata": {
            "tags": []
          },
          "execution_count": 81
        }
      ]
    },
    {
      "cell_type": "code",
      "metadata": {
        "colab": {
          "base_uri": "https://localhost:8080/"
        },
        "id": "lQQHtaANQoHM",
        "outputId": "6ea4e3ed-cc37-4a1c-8686-1fb0003f772a"
      },
      "source": [
        "# sort() : 리스트 정렬\n",
        "lst = [2, 3, 1]\n",
        "lst.sort(reverse = True)\n",
        "lst"
      ],
      "execution_count": null,
      "outputs": [
        {
          "output_type": "execute_result",
          "data": {
            "text/plain": [
              "[3, 2, 1]"
            ]
          },
          "metadata": {
            "tags": []
          },
          "execution_count": 85
        }
      ]
    },
    {
      "cell_type": "code",
      "metadata": {
        "colab": {
          "base_uri": "https://localhost:8080/"
        },
        "id": "v0h2t80oQuyz",
        "outputId": "9928983a-e25f-4dfb-a780-2e118c347b42"
      },
      "source": [
        "# reverse() : 리스트를 역순으로\n",
        "lst = [2, 3, 1]\n",
        "lst.reverse()\n",
        "lst"
      ],
      "execution_count": null,
      "outputs": [
        {
          "output_type": "execute_result",
          "data": {
            "text/plain": [
              "[1, 3, 2]"
            ]
          },
          "metadata": {
            "tags": []
          },
          "execution_count": 86
        }
      ]
    },
    {
      "cell_type": "code",
      "metadata": {
        "colab": {
          "base_uri": "https://localhost:8080/"
        },
        "id": "-oYlNOzgQ4Iq",
        "outputId": "0fc618fb-1587-461f-d59b-7fcf3497eed8"
      },
      "source": [
        "# index() : 인수로 지정된 요소의 인덱스 번호\n",
        "lst = [1, 2, 3, 4]\n",
        "lst.index(2)"
      ],
      "execution_count": null,
      "outputs": [
        {
          "output_type": "execute_result",
          "data": {
            "text/plain": [
              "1"
            ]
          },
          "metadata": {
            "tags": []
          },
          "execution_count": 87
        }
      ]
    },
    {
      "cell_type": "code",
      "metadata": {
        "colab": {
          "base_uri": "https://localhost:8080/"
        },
        "id": "-5bWbE_DRObz",
        "outputId": "3a5fb589-661e-4cae-92a0-e2cdeaa45354"
      },
      "source": [
        "# count() : 인수로 지정된 요소의 개수\n",
        "lst = [1, 2, 3, 2]\n",
        "lst.count(2)"
      ],
      "execution_count": null,
      "outputs": [
        {
          "output_type": "execute_result",
          "data": {
            "text/plain": [
              "2"
            ]
          },
          "metadata": {
            "tags": []
          },
          "execution_count": 88
        }
      ]
    },
    {
      "cell_type": "code",
      "metadata": {
        "colab": {
          "base_uri": "https://localhost:8080/"
        },
        "id": "uRjRumSbP-10",
        "outputId": "be13f204-1826-4af3-de64-5063dcdeb5a9"
      },
      "source": [
        "# sum() : 리스트 요소 값을 모두 더하는 함수\n",
        "lst = [1, 2, 3]\n",
        "sum(lst)"
      ],
      "execution_count": null,
      "outputs": [
        {
          "output_type": "execute_result",
          "data": {
            "text/plain": [
              "6"
            ]
          },
          "metadata": {
            "tags": []
          },
          "execution_count": 89
        }
      ]
    },
    {
      "cell_type": "code",
      "metadata": {
        "colab": {
          "base_uri": "https://localhost:8080/"
        },
        "id": "RGL5AW22QPlf",
        "outputId": "95b97240-fd4c-4451-ac9f-e325f0395b9b"
      },
      "source": [
        "# max(), min() : 리스트의 최대값과 최소값\n",
        "max(lst)\n",
        "min(lst)"
      ],
      "execution_count": null,
      "outputs": [
        {
          "output_type": "execute_result",
          "data": {
            "text/plain": [
              "1"
            ]
          },
          "metadata": {
            "tags": []
          },
          "execution_count": 91
        }
      ]
    },
    {
      "cell_type": "code",
      "metadata": {
        "id": "2uu-FqIl2POc",
        "colab": {
          "base_uri": "https://localhost:8080/"
        },
        "outputId": "cff7199a-6e01-40e7-fba2-2d2c035f579e"
      },
      "source": [
        "# 연습문제\n",
        "# 리스트 생성\n",
        "# '비와 당신의 이야기', '더 스파이', '내일의 기억' 로 리스트 lst를 생성하시오. \n",
        "lst = ['비와 당신의 이야기', '더 스파이', '내일의 기억']\n",
        "lst"
      ],
      "execution_count": null,
      "outputs": [
        {
          "output_type": "execute_result",
          "data": {
            "text/plain": [
              "['비와 당신의 이야기', '더 스파이', '내일의 기억']"
            ]
          },
          "metadata": {
            "tags": []
          },
          "execution_count": 104
        }
      ]
    },
    {
      "cell_type": "code",
      "metadata": {
        "id": "3yk4fo2r22Bq",
        "colab": {
          "base_uri": "https://localhost:8080/"
        },
        "outputId": "84221ea1-9ec7-49e6-b4f9-559f591263b6"
      },
      "source": [
        "# 연습문제\n",
        "# 요소 추가\n",
        "# 위 lst에 '미나리'를 추가하시오\n",
        "lst.append('미나리')\n",
        "lst"
      ],
      "execution_count": null,
      "outputs": [
        {
          "output_type": "execute_result",
          "data": {
            "text/plain": [
              "['비와 당신의 이야기', '더 스파이', '내일의 기억', '미나리']"
            ]
          },
          "metadata": {
            "tags": []
          },
          "execution_count": 105
        }
      ]
    },
    {
      "cell_type": "code",
      "metadata": {
        "id": "BlTC7VZ_3PP2",
        "colab": {
          "base_uri": "https://localhost:8080/"
        },
        "outputId": "a5a7eb3a-8726-4bda-c03b-8db8b8e7bdf2"
      },
      "source": [
        "# 연습문제\n",
        "# 요소 추가\n",
        "# 위 lst에 '내일의 기억'과 '미나리'사이에 '자산어보'를 추가하시오.\n",
        "lst.insert(3,'자산어보')\n",
        "lst"
      ],
      "execution_count": null,
      "outputs": [
        {
          "output_type": "execute_result",
          "data": {
            "text/plain": [
              "['비와 당신의 이야기', '더 스파이', '내일의 기억', '자산어보', '미나리']"
            ]
          },
          "metadata": {
            "tags": []
          },
          "execution_count": 106
        }
      ]
    },
    {
      "cell_type": "code",
      "metadata": {
        "id": "YrkSwFGg385D",
        "colab": {
          "base_uri": "https://localhost:8080/"
        },
        "outputId": "6899403a-3e14-4959-d40b-f1bd840092e0"
      },
      "source": [
        "# 연습문제\n",
        "# 요소 삭제\n",
        "# 위 lst에서 '내일의 기억'을 삭제하시오.\n",
        "lst.index('내일의 기억')\n",
        "del lst[2]\n",
        "lst"
      ],
      "execution_count": null,
      "outputs": [
        {
          "output_type": "execute_result",
          "data": {
            "text/plain": [
              "['비와 당신의 이야기', '더 스파이', '자산어보', '미나리']"
            ]
          },
          "metadata": {
            "tags": []
          },
          "execution_count": 107
        }
      ]
    },
    {
      "cell_type": "code",
      "metadata": {
        "id": "H0WdNlAe4Sil",
        "colab": {
          "base_uri": "https://localhost:8080/"
        },
        "outputId": "98ca6cf4-7762-4087-f001-439cdb9b526c"
      },
      "source": [
        "# 연습문제\n",
        "# 다음 리스트의 평균을 구하시오. \n",
        "a = [1, 2, 3, 4]\n",
        "sum(a)/len(a)"
      ],
      "execution_count": null,
      "outputs": [
        {
          "output_type": "execute_result",
          "data": {
            "text/plain": [
              "2.5"
            ]
          },
          "metadata": {
            "tags": []
          },
          "execution_count": 109
        }
      ]
    },
    {
      "cell_type": "markdown",
      "metadata": {
        "id": "6Mj6gjeDScIf"
      },
      "source": [
        "# 튜플 (Tuple)\n",
        "* 튜플은 ()사이에 콤마로 분리된 값들\n",
        "* 리스트 = mutable\n",
        "* 튜플 = immutable\n",
        "* 수정되어서는 안되는 값을 보관할때 튜플을 사용\n",
        "* 튜플은 리스트에 비해 처리 속도가 빠르다는 장점\n",
        "* 변하지 않는 여러개의 값을 자주 사용할때는 튜플에 저장"
      ]
    },
    {
      "cell_type": "code",
      "metadata": {
        "colab": {
          "base_uri": "https://localhost:8080/"
        },
        "id": "ITcOOltkS1nu",
        "outputId": "b8a65703-7bf7-4c70-be5a-59ea29ecbb8c"
      },
      "source": [
        "dir((1, 2, 3))"
      ],
      "execution_count": null,
      "outputs": [
        {
          "output_type": "execute_result",
          "data": {
            "text/plain": [
              "['__add__',\n",
              " '__class__',\n",
              " '__contains__',\n",
              " '__delattr__',\n",
              " '__dir__',\n",
              " '__doc__',\n",
              " '__eq__',\n",
              " '__format__',\n",
              " '__ge__',\n",
              " '__getattribute__',\n",
              " '__getitem__',\n",
              " '__getnewargs__',\n",
              " '__gt__',\n",
              " '__hash__',\n",
              " '__init__',\n",
              " '__init_subclass__',\n",
              " '__iter__',\n",
              " '__le__',\n",
              " '__len__',\n",
              " '__lt__',\n",
              " '__mul__',\n",
              " '__ne__',\n",
              " '__new__',\n",
              " '__reduce__',\n",
              " '__reduce_ex__',\n",
              " '__repr__',\n",
              " '__rmul__',\n",
              " '__setattr__',\n",
              " '__sizeof__',\n",
              " '__str__',\n",
              " '__subclasshook__',\n",
              " 'count',\n",
              " 'index']"
            ]
          },
          "metadata": {
            "tags": []
          },
          "execution_count": 110
        }
      ]
    },
    {
      "cell_type": "code",
      "metadata": {
        "id": "OGbf6mxjS4Z3"
      },
      "source": [
        "# 튜플 생성시 () 생략가능\n",
        "tp = 1, 2, 3, 2"
      ],
      "execution_count": null,
      "outputs": []
    },
    {
      "cell_type": "code",
      "metadata": {
        "colab": {
          "base_uri": "https://localhost:8080/"
        },
        "id": "pfdO7Sn6U-9p",
        "outputId": "ade9f537-e10b-482c-a473-7a851b6f0b01"
      },
      "source": [
        "# count() : 인수로 지정된 요소의 개수\n",
        "tp.count(2)"
      ],
      "execution_count": null,
      "outputs": [
        {
          "output_type": "execute_result",
          "data": {
            "text/plain": [
              "2"
            ]
          },
          "metadata": {
            "tags": []
          },
          "execution_count": 143
        }
      ]
    },
    {
      "cell_type": "code",
      "metadata": {
        "colab": {
          "base_uri": "https://localhost:8080/"
        },
        "id": "SNghCELBVFKF",
        "outputId": "f5d7497d-0ea1-4bbb-c164-1717bb3fda62"
      },
      "source": [
        "# index() : 인수로 지정된 요소의 인덱스 번호\n",
        "tp.index(2)"
      ],
      "execution_count": null,
      "outputs": [
        {
          "output_type": "execute_result",
          "data": {
            "text/plain": [
              "1"
            ]
          },
          "metadata": {
            "tags": []
          },
          "execution_count": 144
        }
      ]
    },
    {
      "cell_type": "code",
      "metadata": {
        "id": "TitLFGEtVYTt"
      },
      "source": [
        "# unpacking : 튜플로 묶여 있는 값들을 풀어내는것 \n",
        "x1, x2, x3, x4 = tp"
      ],
      "execution_count": null,
      "outputs": []
    },
    {
      "cell_type": "code",
      "metadata": {
        "colab": {
          "base_uri": "https://localhost:8080/"
        },
        "id": "XG7tAmN0VdKW",
        "outputId": "6922856b-d590-454c-881d-9935eaa92a1f"
      },
      "source": [
        "x1"
      ],
      "execution_count": null,
      "outputs": [
        {
          "output_type": "execute_result",
          "data": {
            "text/plain": [
              "1"
            ]
          },
          "metadata": {
            "tags": []
          },
          "execution_count": 133
        }
      ]
    },
    {
      "cell_type": "code",
      "metadata": {
        "colab": {
          "base_uri": "https://localhost:8080/"
        },
        "id": "tcG1R1ZQVeQE",
        "outputId": "417c588f-dbb5-4deb-810e-17a5c0a3277e"
      },
      "source": [
        "x2"
      ],
      "execution_count": null,
      "outputs": [
        {
          "output_type": "execute_result",
          "data": {
            "text/plain": [
              "2"
            ]
          },
          "metadata": {
            "tags": []
          },
          "execution_count": 134
        }
      ]
    },
    {
      "cell_type": "code",
      "metadata": {
        "colab": {
          "base_uri": "https://localhost:8080/"
        },
        "id": "S64TL8esVl4v",
        "outputId": "40faee0f-941c-4710-9df7-6b15c2a1395f"
      },
      "source": [
        "x3"
      ],
      "execution_count": null,
      "outputs": [
        {
          "output_type": "execute_result",
          "data": {
            "text/plain": [
              "3"
            ]
          },
          "metadata": {
            "tags": []
          },
          "execution_count": 135
        }
      ]
    },
    {
      "cell_type": "code",
      "metadata": {
        "colab": {
          "base_uri": "https://localhost:8080/"
        },
        "id": "NN63RYCJVmal",
        "outputId": "f81915d0-eb58-4bd9-cc2c-e714debdd2be"
      },
      "source": [
        "x4"
      ],
      "execution_count": null,
      "outputs": [
        {
          "output_type": "execute_result",
          "data": {
            "text/plain": [
              "2"
            ]
          },
          "metadata": {
            "tags": []
          },
          "execution_count": 136
        }
      ]
    },
    {
      "cell_type": "code",
      "metadata": {
        "id": "lknCzBJBVm64"
      },
      "source": [
        "# * : 언패킹 과정에서 둘 이상의 값을 리스트로 묶어서 하나의 변수에 저장\n",
        "x1, x2, *others = tp"
      ],
      "execution_count": null,
      "outputs": []
    },
    {
      "cell_type": "code",
      "metadata": {
        "colab": {
          "base_uri": "https://localhost:8080/"
        },
        "id": "sLlMddtwV0Pk",
        "outputId": "35ab4cfc-f160-47a1-8170-c05f086c05ca"
      },
      "source": [
        "x1"
      ],
      "execution_count": null,
      "outputs": [
        {
          "output_type": "execute_result",
          "data": {
            "text/plain": [
              "1"
            ]
          },
          "metadata": {
            "tags": []
          },
          "execution_count": 146
        }
      ]
    },
    {
      "cell_type": "code",
      "metadata": {
        "colab": {
          "base_uri": "https://localhost:8080/"
        },
        "id": "KVgbJw7IV1M-",
        "outputId": "9398d915-ffba-4160-fcb6-8ce70b088fe3"
      },
      "source": [
        "x2"
      ],
      "execution_count": null,
      "outputs": [
        {
          "output_type": "execute_result",
          "data": {
            "text/plain": [
              "2"
            ]
          },
          "metadata": {
            "tags": []
          },
          "execution_count": 147
        }
      ]
    },
    {
      "cell_type": "code",
      "metadata": {
        "colab": {
          "base_uri": "https://localhost:8080/"
        },
        "id": "iZmQSYMYV5Ir",
        "outputId": "00a702a3-08d3-403d-8331-021ff058ef11"
      },
      "source": [
        "others"
      ],
      "execution_count": null,
      "outputs": [
        {
          "output_type": "execute_result",
          "data": {
            "text/plain": [
              "[3, 2]"
            ]
          },
          "metadata": {
            "tags": []
          },
          "execution_count": 148
        }
      ]
    },
    {
      "cell_type": "code",
      "metadata": {
        "id": "KFuC6x6JV5xk"
      },
      "source": [
        "# 리스트도 언패킹 가능\n",
        "x1, x2, *others = [1, 2, 3, 2]"
      ],
      "execution_count": null,
      "outputs": []
    },
    {
      "cell_type": "code",
      "metadata": {
        "colab": {
          "base_uri": "https://localhost:8080/"
        },
        "id": "wcdqiL4AWISj",
        "outputId": "2379038c-3e9e-4dc4-d61e-c0f0a0cd5665"
      },
      "source": [
        "x1"
      ],
      "execution_count": null,
      "outputs": [
        {
          "output_type": "execute_result",
          "data": {
            "text/plain": [
              "1"
            ]
          },
          "metadata": {
            "tags": []
          },
          "execution_count": 150
        }
      ]
    },
    {
      "cell_type": "code",
      "metadata": {
        "colab": {
          "base_uri": "https://localhost:8080/"
        },
        "id": "n1OmLXj6WJmx",
        "outputId": "110aef8b-5023-43fd-d4d1-ae117d28d62a"
      },
      "source": [
        "x2"
      ],
      "execution_count": null,
      "outputs": [
        {
          "output_type": "execute_result",
          "data": {
            "text/plain": [
              "2"
            ]
          },
          "metadata": {
            "tags": []
          },
          "execution_count": 151
        }
      ]
    },
    {
      "cell_type": "code",
      "metadata": {
        "colab": {
          "base_uri": "https://localhost:8080/"
        },
        "id": "TiBAL87wWKE5",
        "outputId": "9b152013-14c5-444e-efea-ad9c7c6a64cb"
      },
      "source": [
        "others"
      ],
      "execution_count": null,
      "outputs": [
        {
          "output_type": "execute_result",
          "data": {
            "text/plain": [
              "[3, 2]"
            ]
          },
          "metadata": {
            "tags": []
          },
          "execution_count": 152
        }
      ]
    },
    {
      "cell_type": "code",
      "metadata": {
        "colab": {
          "base_uri": "https://localhost:8080/"
        },
        "id": "AegBllheWaTL",
        "outputId": "570325ae-e3d4-4bea-cda8-b4dda9a651a1"
      },
      "source": [
        "# tuple() : 문자열, 리스트, 딕셔너리, 세트등을 튜플로 변환\n",
        "tuple([1, 2, 3])"
      ],
      "execution_count": null,
      "outputs": [
        {
          "output_type": "execute_result",
          "data": {
            "text/plain": [
              "(1, 2, 3)"
            ]
          },
          "metadata": {
            "tags": []
          },
          "execution_count": 153
        }
      ]
    },
    {
      "cell_type": "code",
      "metadata": {
        "id": "ITvL-3hb4__S"
      },
      "source": [
        "# 연습문제\n",
        "# '비와 당신의 이야기', '더 스파이', '내일의 기억'로 튜플 tp를 생성하시오. \n",
        "tp = '비와 당신의 이야기', '더 스파이', '내일의 기억' "
      ],
      "execution_count": null,
      "outputs": []
    },
    {
      "cell_type": "code",
      "metadata": {
        "id": "Zfg7xEEw51mk",
        "colab": {
          "base_uri": "https://localhost:8080/"
        },
        "outputId": "a59dbc7a-a4d4-4dc5-8ab0-9ce162d21de6"
      },
      "source": [
        "# 연습문제\n",
        "# 위 튜플을 리스트 lst로 변환하시오. \n",
        "list(tp)"
      ],
      "execution_count": null,
      "outputs": [
        {
          "output_type": "execute_result",
          "data": {
            "text/plain": [
              "['비와 당신의 이야기', '더 스파이', '내일의 기억']"
            ]
          },
          "metadata": {
            "tags": []
          },
          "execution_count": 157
        }
      ]
    },
    {
      "cell_type": "code",
      "metadata": {
        "id": "Dv3_9UXh6BJb",
        "colab": {
          "base_uri": "https://localhost:8080/"
        },
        "outputId": "f0f81cd0-a2b5-415b-c51a-547f648dc0fa"
      },
      "source": [
        "# 연습문제\n",
        "# 1부터 99까지의 정수중 짝수로만 이루어진 튜플을 (2, 4, 6, ..., 98) 생성하시오. \n",
        "# range(start, stop[, step]) : produces a sequence of integers from start(inclusive) to stop(exclusive) by step\n",
        "print(tuple(range(2,100,2)))"
      ],
      "execution_count": null,
      "outputs": [
        {
          "output_type": "stream",
          "text": [
            "(2, 4, 6, 8, 10, 12, 14, 16, 18, 20, 22, 24, 26, 28, 30, 32, 34, 36, 38, 40, 42, 44, 46, 48, 50, 52, 54, 56, 58, 60, 62, 64, 66, 68, 70, 72, 74, 76, 78, 80, 82, 84, 86, 88, 90, 92, 94, 96, 98)\n"
          ],
          "name": "stdout"
        }
      ]
    },
    {
      "cell_type": "markdown",
      "metadata": {
        "id": "MCZFE2uoWPa9"
      },
      "source": [
        "# 딕셔너리 (Dictionary)\n",
        "* { key : value, key : value, ... }\n",
        "* 사전에서 “단어를 기준으로 해설” 을 찿듯이 “키를 기준으로 값” 을 찿는 기능\n",
        "* 값은 중복될수 있으나, 키는 중복되지 않아야 한다\n",
        "* 키는 숫자, 문자열, 튜플과 같이 수정이 불가능한 (immutable) 데이터 형이어야 한다.\n",
        "* 인덱스가 아닌 키로 값을 찿는다\n",
        "* 리스트 = 인덱스로 값을 찿는다\n",
        "* 딕셔너리 = 키로 값을 찿는다\n",
        "* 찿는 속도가 빠르다\n",
        "* 리스트 : 값으로만 사용가능\n",
        "* 튜플 : 키와 값으로 모두 사용 가능"
      ]
    },
    {
      "cell_type": "code",
      "metadata": {
        "colab": {
          "base_uri": "https://localhost:8080/"
        },
        "id": "J2tnpkRLXMHo",
        "outputId": "74ae6c56-5580-4c4a-ee9a-456eaa3b438a"
      },
      "source": [
        "# 딕셔너리 생성\n",
        "# { } 내에 키:값 기술\n",
        "dic = { 'john' : 20, 'mike' : 10}\n",
        "dic"
      ],
      "execution_count": null,
      "outputs": [
        {
          "output_type": "execute_result",
          "data": {
            "text/plain": [
              "{'john': 20, 'mike': 10}"
            ]
          },
          "metadata": {
            "tags": []
          },
          "execution_count": 173
        }
      ]
    },
    {
      "cell_type": "code",
      "metadata": {
        "colab": {
          "base_uri": "https://localhost:8080/"
        },
        "id": "7k6G71dWXWk3",
        "outputId": "77aa10cd-7201-4b08-c8e6-611b49ed9c02"
      },
      "source": [
        "# 딕셔너리 생성\n",
        "# dict() 함수내에 {키:값} 기술\n",
        "dic = dict({ 'john' : 20, 'mike' : 10}) \n",
        "dic"
      ],
      "execution_count": null,
      "outputs": [
        {
          "output_type": "execute_result",
          "data": {
            "text/plain": [
              "{'john': 20, 'mike': 10}"
            ]
          },
          "metadata": {
            "tags": []
          },
          "execution_count": 174
        }
      ]
    },
    {
      "cell_type": "code",
      "metadata": {
        "colab": {
          "base_uri": "https://localhost:8080/"
        },
        "id": "tZZkKnHBXbnv",
        "outputId": "70c22304-58ad-49fc-89c0-42777697b070"
      },
      "source": [
        "# 딕셔너리 생성\n",
        "# 튜플로 구성된 리스트 사용\n",
        "dic = dict([('john',10), ('mike',20)]) \n",
        "dic"
      ],
      "execution_count": null,
      "outputs": [
        {
          "output_type": "execute_result",
          "data": {
            "text/plain": [
              "{'john': 10, 'mike': 20}"
            ]
          },
          "metadata": {
            "tags": []
          },
          "execution_count": 175
        }
      ]
    },
    {
      "cell_type": "code",
      "metadata": {
        "colab": {
          "base_uri": "https://localhost:8080/"
        },
        "id": "zakKnhq4Xbql",
        "outputId": "790c702d-697d-421d-fc63-2474c4e8c27f"
      },
      "source": [
        "# 딕셔너리 생성\n",
        "# = 기호 사용\n",
        "dic = dict(john = 10, mike = 20) \n",
        "dic"
      ],
      "execution_count": null,
      "outputs": [
        {
          "output_type": "execute_result",
          "data": {
            "text/plain": [
              "{'john': 10, 'mike': 20}"
            ]
          },
          "metadata": {
            "tags": []
          },
          "execution_count": 176
        }
      ]
    },
    {
      "cell_type": "code",
      "metadata": {
        "colab": {
          "base_uri": "https://localhost:8080/"
        },
        "id": "1KgdA6_q8KZk",
        "outputId": "c47879d4-3605-4405-fe79-16115cef245a"
      },
      "source": [
        "# 딕셔너리 추가\n",
        "dic2 = {'peter' : 15, 'tom' : 45}\n",
        "dic.update(dic2)\n",
        "dic"
      ],
      "execution_count": null,
      "outputs": [
        {
          "output_type": "execute_result",
          "data": {
            "text/plain": [
              "{'john': 10, 'mike': 20, 'peter': 15, 'tom': 45}"
            ]
          },
          "metadata": {
            "tags": []
          },
          "execution_count": 177
        }
      ]
    },
    {
      "cell_type": "code",
      "metadata": {
        "colab": {
          "base_uri": "https://localhost:8080/"
        },
        "id": "7aPdJg1Q8xdC",
        "outputId": "5da93fa9-39d9-4d60-ae93-3046449889bc"
      },
      "source": [
        "# zip()을 이용하여 두개의 튜플을 하나의 딕셔너리로 변환\n",
        "keys = ('john', 'mike', 'peter', 'tom')\n",
        "values = (10, 20, 15, 45)\n",
        "dict(zip(keys, values))"
      ],
      "execution_count": null,
      "outputs": [
        {
          "output_type": "execute_result",
          "data": {
            "text/plain": [
              "{'john': 10, 'mike': 20, 'peter': 15, 'tom': 45}"
            ]
          },
          "metadata": {
            "tags": []
          },
          "execution_count": 178
        }
      ]
    },
    {
      "cell_type": "code",
      "metadata": {
        "colab": {
          "base_uri": "https://localhost:8080/"
        },
        "id": "pXEtf5_1Xbv1",
        "outputId": "936bd3a4-56d0-440d-9d13-524ef1402217"
      },
      "source": [
        "# 값추출\n",
        "# 딕셔너리[키]\n",
        "dic['mike']"
      ],
      "execution_count": null,
      "outputs": [
        {
          "output_type": "execute_result",
          "data": {
            "text/plain": [
              "20"
            ]
          },
          "metadata": {
            "tags": []
          },
          "execution_count": 179
        }
      ]
    },
    {
      "cell_type": "code",
      "metadata": {
        "id": "-2QAsc4zYWVf"
      },
      "source": [
        "# 값추출\n",
        "# 해당키가 없으면 에러\n",
        "# dic['steve']"
      ],
      "execution_count": null,
      "outputs": []
    },
    {
      "cell_type": "code",
      "metadata": {
        "colab": {
          "base_uri": "https://localhost:8080/"
        },
        "id": "B0ouEcXoZqV9",
        "outputId": "4b9eb7a5-74a9-481d-965d-979cbf0c9f09"
      },
      "source": [
        "dir(dic)"
      ],
      "execution_count": null,
      "outputs": [
        {
          "output_type": "execute_result",
          "data": {
            "text/plain": [
              "['__class__',\n",
              " '__contains__',\n",
              " '__delattr__',\n",
              " '__delitem__',\n",
              " '__dir__',\n",
              " '__doc__',\n",
              " '__eq__',\n",
              " '__format__',\n",
              " '__ge__',\n",
              " '__getattribute__',\n",
              " '__getitem__',\n",
              " '__gt__',\n",
              " '__hash__',\n",
              " '__init__',\n",
              " '__init_subclass__',\n",
              " '__iter__',\n",
              " '__le__',\n",
              " '__len__',\n",
              " '__lt__',\n",
              " '__ne__',\n",
              " '__new__',\n",
              " '__reduce__',\n",
              " '__reduce_ex__',\n",
              " '__repr__',\n",
              " '__setattr__',\n",
              " '__setitem__',\n",
              " '__sizeof__',\n",
              " '__str__',\n",
              " '__subclasshook__',\n",
              " 'clear',\n",
              " 'copy',\n",
              " 'fromkeys',\n",
              " 'get',\n",
              " 'items',\n",
              " 'keys',\n",
              " 'pop',\n",
              " 'popitem',\n",
              " 'setdefault',\n",
              " 'update',\n",
              " 'values']"
            ]
          },
          "metadata": {
            "tags": []
          },
          "execution_count": 181
        }
      ]
    },
    {
      "cell_type": "code",
      "metadata": {
        "colab": {
          "base_uri": "https://localhost:8080/"
        },
        "id": "L0BeWe_WYlQv",
        "outputId": "b875a335-bfc0-4420-961e-431b358dfb7d"
      },
      "source": [
        "# 값추출\n",
        "dic.get('mike')"
      ],
      "execution_count": null,
      "outputs": [
        {
          "output_type": "execute_result",
          "data": {
            "text/plain": [
              "20"
            ]
          },
          "metadata": {
            "tags": []
          },
          "execution_count": 182
        }
      ]
    },
    {
      "cell_type": "code",
      "metadata": {
        "id": "4dSFRZ2lYxjH"
      },
      "source": [
        "# 값추출\n",
        "# 해당키가 없어도 에러 표시 안함\n",
        "dic.get('steve')"
      ],
      "execution_count": null,
      "outputs": []
    },
    {
      "cell_type": "code",
      "metadata": {
        "colab": {
          "base_uri": "https://localhost:8080/",
          "height": 35
        },
        "id": "AzNZKzj2YzlI",
        "outputId": "5f7edcf0-88f5-4084-9d38-612722efbddd"
      },
      "source": [
        "# 값추출\n",
        "# 해당키가 없어도 에러 표시 안함\n",
        "# 두번째 인수로 키가 없을때으 메세지를 지정\n",
        "dic.get('steve', 'no')"
      ],
      "execution_count": null,
      "outputs": [
        {
          "output_type": "execute_result",
          "data": {
            "application/vnd.google.colaboratory.intrinsic+json": {
              "type": "string"
            },
            "text/plain": [
              "'no'"
            ]
          },
          "metadata": {
            "tags": []
          },
          "execution_count": 131
        }
      ]
    },
    {
      "cell_type": "code",
      "metadata": {
        "id": "QXzQGCPjZBl8"
      },
      "source": [
        "# 값 수정가능\n",
        "dic['mike'] = 200"
      ],
      "execution_count": null,
      "outputs": []
    },
    {
      "cell_type": "code",
      "metadata": {
        "colab": {
          "base_uri": "https://localhost:8080/"
        },
        "id": "ueyxdYm6ZL_r",
        "outputId": "2045f7fe-64a8-4172-a19d-381fc7ba388b"
      },
      "source": [
        "dic"
      ],
      "execution_count": null,
      "outputs": [
        {
          "output_type": "execute_result",
          "data": {
            "text/plain": [
              "{'john': 10, 'mike': 200}"
            ]
          },
          "metadata": {
            "tags": []
          },
          "execution_count": 133
        }
      ]
    },
    {
      "cell_type": "code",
      "metadata": {
        "colab": {
          "base_uri": "https://localhost:8080/"
        },
        "id": "RKsig4hmZMxo",
        "outputId": "eb61b6f8-db84-411d-c541-a01b16fe401b"
      },
      "source": [
        "# {} 로 삭제 : 키는 남고, 값만 삭제\n",
        "dic['mike'] = {}\n",
        "dic"
      ],
      "execution_count": null,
      "outputs": [
        {
          "output_type": "execute_result",
          "data": {
            "text/plain": [
              "{'john': 10, 'mike': {}}"
            ]
          },
          "metadata": {
            "tags": []
          },
          "execution_count": 135
        }
      ]
    },
    {
      "cell_type": "code",
      "metadata": {
        "colab": {
          "base_uri": "https://localhost:8080/"
        },
        "id": "giGLDuTSZXl3",
        "outputId": "bad596e9-0792-4e2c-fbd1-7b8396f7d3fb"
      },
      "source": [
        "# del 로 삭제 : 키와 값이 모두 삭제\n",
        "del dic['mike']\n",
        "dic"
      ],
      "execution_count": null,
      "outputs": [
        {
          "output_type": "execute_result",
          "data": {
            "text/plain": [
              "{'john': 10}"
            ]
          },
          "metadata": {
            "tags": []
          },
          "execution_count": 140
        }
      ]
    },
    {
      "cell_type": "code",
      "metadata": {
        "colab": {
          "base_uri": "https://localhost:8080/"
        },
        "id": "WxQo7KwNZelO",
        "outputId": "2dae060e-21ae-459a-a480-627989581f77"
      },
      "source": [
        "# keys() : 딕셔너리에서 키들만 모아서 목록을 만듬\n",
        "dic.keys()"
      ],
      "execution_count": null,
      "outputs": [
        {
          "output_type": "execute_result",
          "data": {
            "text/plain": [
              "dict_keys(['john', 'mike'])"
            ]
          },
          "metadata": {
            "tags": []
          },
          "execution_count": 143
        }
      ]
    },
    {
      "cell_type": "code",
      "metadata": {
        "colab": {
          "base_uri": "https://localhost:8080/"
        },
        "id": "PjS_rEIHZ-og",
        "outputId": "d7ea5733-deba-4b6f-e855-5650f675c330"
      },
      "source": [
        "# 리스트로 변환\n",
        "list(dic.keys())"
      ],
      "execution_count": null,
      "outputs": [
        {
          "output_type": "execute_result",
          "data": {
            "text/plain": [
              "['john', 'mike']"
            ]
          },
          "metadata": {
            "tags": []
          },
          "execution_count": 144
        }
      ]
    },
    {
      "cell_type": "code",
      "metadata": {
        "colab": {
          "base_uri": "https://localhost:8080/"
        },
        "id": "sp4KhxYkaJlx",
        "outputId": "a0e518d3-8eb6-4668-ad0a-4c635d20a944"
      },
      "source": [
        "# values() : 딕셔너리에서 값들만 모아 목록을 만든다\n",
        "dic.values()"
      ],
      "execution_count": null,
      "outputs": [
        {
          "output_type": "execute_result",
          "data": {
            "text/plain": [
              "dict_values([20, 10])"
            ]
          },
          "metadata": {
            "tags": []
          },
          "execution_count": 145
        }
      ]
    },
    {
      "cell_type": "code",
      "metadata": {
        "colab": {
          "base_uri": "https://localhost:8080/"
        },
        "id": "3MoAvpA7aVON",
        "outputId": "f7f6a95c-fdd3-49b8-a37f-8eb9736ba073"
      },
      "source": [
        "# 튜플로 변환\n",
        "tuple(dic.values())"
      ],
      "execution_count": null,
      "outputs": [
        {
          "output_type": "execute_result",
          "data": {
            "text/plain": [
              "(20, 10)"
            ]
          },
          "metadata": {
            "tags": []
          },
          "execution_count": 146
        }
      ]
    },
    {
      "cell_type": "code",
      "metadata": {
        "colab": {
          "base_uri": "https://localhost:8080/"
        },
        "id": "F762iUb_aZkE",
        "outputId": "9c385dca-b780-4c8b-96ac-292038eb90df"
      },
      "source": [
        "# clear() : 데이터는 모두 삭제되나 빈 딕셔너리는 남음\n",
        "dic.clear()\n",
        "dic"
      ],
      "execution_count": null,
      "outputs": [
        {
          "output_type": "execute_result",
          "data": {
            "text/plain": [
              "{}"
            ]
          },
          "metadata": {
            "tags": []
          },
          "execution_count": 148
        }
      ]
    },
    {
      "cell_type": "code",
      "metadata": {
        "colab": {
          "base_uri": "https://localhost:8080/"
        },
        "id": "7PcAe0Fnam7o",
        "outputId": "a79756fa-55e6-46c2-930a-d878295bd95c"
      },
      "source": [
        "# 딕셔너리 생성\n",
        "# { } 내에 키:값 기술\n",
        "dic = { 'john' : 20, 'mike' : 10}\n",
        "dic"
      ],
      "execution_count": null,
      "outputs": [
        {
          "output_type": "execute_result",
          "data": {
            "text/plain": [
              "{'john': 20, 'mike': 10}"
            ]
          },
          "metadata": {
            "tags": []
          },
          "execution_count": 67
        }
      ]
    },
    {
      "cell_type": "code",
      "metadata": {
        "id": "ksvUoxkdal4v"
      },
      "source": [
        "# del dic : 딕셔너리 자체가 삭제\n",
        "del dic\n",
        "# dic"
      ],
      "execution_count": null,
      "outputs": []
    },
    {
      "cell_type": "code",
      "metadata": {
        "id": "8a_dV3Mw9dc2",
        "colab": {
          "base_uri": "https://localhost:8080/"
        },
        "outputId": "3ba3e7af-11f1-4ac4-864e-c76f75239d2c"
      },
      "source": [
        "# 연습문제\n",
        "# 사과 : 2000, 배 : 3000, 귤 : 4000 의 정보를 포함하는 딕셔너리 dic를 생성하시오.\n",
        "# { } 내에 키:값 기술\n",
        "dic = { '사과' : 2000, '배' : 3000, '귤': 4000}\n",
        "dic"
      ],
      "execution_count": null,
      "outputs": [
        {
          "output_type": "execute_result",
          "data": {
            "text/plain": [
              "{'귤': 4000, '배': 3000, '사과': 2000}"
            ]
          },
          "metadata": {
            "tags": []
          },
          "execution_count": 2
        }
      ]
    },
    {
      "cell_type": "code",
      "metadata": {
        "id": "OvykDUC4Q27X",
        "colab": {
          "base_uri": "https://localhost:8080/"
        },
        "outputId": "5c70acdb-15aa-49fc-a19a-5cb944176da2"
      },
      "source": [
        "# 연습문제\n",
        "# 포도 : 5000, 바나나 : 6000 의 정보를 포함하는 딕셔너리 dic2를 생성해서 dic에 dic2를 추가하시오.\n",
        "dic2 = dict(포도 = 5000, 바나나 = 6000) \n",
        "dic2\n",
        "dic.update(dic2)\n",
        "dic"
      ],
      "execution_count": null,
      "outputs": [
        {
          "output_type": "execute_result",
          "data": {
            "text/plain": [
              "{'귤': 4000, '바나나': 6000, '배': 3000, '사과': 2000, '포도': 5000}"
            ]
          },
          "metadata": {
            "tags": []
          },
          "execution_count": 5
        }
      ]
    },
    {
      "cell_type": "code",
      "metadata": {
        "id": "XmFq3zEyRP-o",
        "colab": {
          "base_uri": "https://localhost:8080/"
        },
        "outputId": "c8cf07ad-8df2-4896-85ca-6da3f457744e"
      },
      "source": [
        "# 연습문제\n",
        "# dic에서 사과의 가격을 출력하시오.\n",
        "dic.get('사과')"
      ],
      "execution_count": null,
      "outputs": [
        {
          "output_type": "execute_result",
          "data": {
            "text/plain": [
              "2000"
            ]
          },
          "metadata": {
            "tags": []
          },
          "execution_count": 6
        }
      ]
    },
    {
      "cell_type": "code",
      "metadata": {
        "id": "R7JFCCzTRWN4",
        "colab": {
          "base_uri": "https://localhost:8080/"
        },
        "outputId": "4b65e6dc-49a3-42fc-8c16-774a9e6c8cb5"
      },
      "source": [
        "# 연습문제\n",
        "# dic에서 포도를 삭제하시오. \n",
        "del dic['포도']\n",
        "dic"
      ],
      "execution_count": null,
      "outputs": [
        {
          "output_type": "execute_result",
          "data": {
            "text/plain": [
              "{'귤': 4000, '바나나': 6000, '배': 3000, '사과': 2000}"
            ]
          },
          "metadata": {
            "tags": []
          },
          "execution_count": 7
        }
      ]
    },
    {
      "cell_type": "code",
      "metadata": {
        "id": "JbkEFDDrRtij",
        "colab": {
          "base_uri": "https://localhost:8080/"
        },
        "outputId": "90c28706-89af-44c2-c94b-e136169a90c8"
      },
      "source": [
        "# 연습문제\n",
        "# 사과, 배, 귤 로 key의 튜플을, 2000, 3000, 4000으로 value의 튜플을 생성하고 zip을 통해 딕셔너리를 생성하시오. \n",
        "# 딕셔너리 생성\n",
        "keys = ('사과','배','귤')\n",
        "values = (2000, 3000, 4000)\n",
        "dict(zip(keys, values))"
      ],
      "execution_count": null,
      "outputs": [
        {
          "output_type": "execute_result",
          "data": {
            "text/plain": [
              "{'귤': 4000, '배': 3000, '사과': 2000}"
            ]
          },
          "metadata": {
            "tags": []
          },
          "execution_count": 8
        }
      ]
    },
    {
      "cell_type": "markdown",
      "metadata": {
        "id": "OF38XMBViBAk"
      },
      "source": [
        "# 조건문 (conditional statement)\n"
      ]
    },
    {
      "cell_type": "code",
      "metadata": {
        "colab": {
          "base_uri": "https://localhost:8080/"
        },
        "id": "voHP6TEsiFPy",
        "outputId": "02bd17bd-9b9c-4467-ee60-26c4eb3c983a"
      },
      "source": [
        "# 조건문(conditional statement)은 조건(condition)을 검사하고 조건에 따라 프로그램의 동작을 바꿀 수 있다. \n",
        "# if 다음에 오는 불 표현식(boolean expression)을 조건(condition)이라고 한다. 조건이 참이면 들여쓰기한 문장이 실행되고 그렇지 않으면 실행되지 않는다.\n",
        "# if <조건>:\n",
        "#     <조건>이 True일때 실행할 문장들\n",
        "# else:\n",
        "#     <조건>이 False일때 실행할 문장들\n",
        "x = -1\n",
        "if x > 0:       \n",
        "  print(\"x is positive\")\n",
        "else: \n",
        "  print(\"x is zero or negative\")"
      ],
      "execution_count": null,
      "outputs": [
        {
          "output_type": "stream",
          "text": [
            "x is zero or negative\n"
          ],
          "name": "stdout"
        }
      ]
    },
    {
      "cell_type": "code",
      "metadata": {
        "colab": {
          "base_uri": "https://localhost:8080/"
        },
        "id": "dSzKJ-BBTG0a",
        "outputId": "13879f7d-1cff-47bb-ccd8-997f2a0bfa53"
      },
      "source": [
        "# if <조건1>:\n",
        "#     <조건1>이 True일때 실행할 문장들\n",
        "# elif <조건2>:\n",
        "#     <조건2>가 True일때 실행할 문장들\n",
        "# else:\n",
        "#     <조건1>과 <조건2>가 모두 False일때 실행할 문장들\n",
        "x = 10\n",
        "if x > 0:       \n",
        "  print(\"x is positive\")\n",
        "elif x == 0: \n",
        "  print(\"x is zero\")\n",
        "else:\n",
        "  print(\"x is negative\")"
      ],
      "execution_count": null,
      "outputs": [
        {
          "output_type": "stream",
          "text": [
            "x is positive\n"
          ],
          "name": "stdout"
        }
      ]
    },
    {
      "cell_type": "code",
      "metadata": {
        "id": "FaQUMF8jVQB_",
        "colab": {
          "base_uri": "https://localhost:8080/"
        },
        "outputId": "39523d8b-a62d-44a1-e79c-6a12f0b2b319"
      },
      "source": [
        "# 연습문제\n",
        "# input(\"입력값: \")은 \"입력값: \"을 프린트하고 사용자로부터 값을 입력받아 문자열을 반환한다. \n",
        "# 사용자로부터 입력받은 값에 20을 더한후 출력하라. 단 더한 결과값이 255을 초과하는 경우 255을 출력해야 한다. \n",
        "user = input('입력값: ')\n",
        "num = int(user) + 20\n",
        "if num > 255:\n",
        "  print(255)\n",
        "else:\n",
        "  print(num)"
      ],
      "execution_count": null,
      "outputs": [
        {
          "output_type": "stream",
          "text": [
            "입력값: 20\n",
            "40\n"
          ],
          "name": "stdout"
        }
      ]
    },
    {
      "cell_type": "code",
      "metadata": {
        "id": "wGqnlJoPWeZM",
        "colab": {
          "base_uri": "https://localhost:8080/"
        },
        "outputId": "2ea8b105-4605-4f3f-d748-6ced746db06a"
      },
      "source": [
        "# 연습문제\n",
        "# 사용자로부터 문자 한개를 입력받고, 소문자일 경우는 대문자로 대문자일 경우는 소문자로 변경하여 출력하라. \n",
        "user = input('영문문자 한개를 입력하시오: ')\n",
        "if user.islower():\n",
        "  print(user.upper())\n",
        "else:\n",
        "  print(user.lower())"
      ],
      "execution_count": null,
      "outputs": [
        {
          "output_type": "stream",
          "text": [
            "영문문자 한개를 입력하시오: w\n",
            "W\n"
          ],
          "name": "stdout"
        }
      ]
    },
    {
      "cell_type": "code",
      "metadata": {
        "id": "3Wn9kMxrXP8O",
        "colab": {
          "base_uri": "https://localhost:8080/",
          "height": 218
        },
        "outputId": "924af560-2f68-46e2-8fff-1d1f5007b1ed"
      },
      "source": [
        "# 연습문제\n",
        "# 전화번호 지역번호가 서울(02), 경기도(031), 인천(032)만 있다고 할때, 사용자로부터 다음과 같이 전화번호를 입력받고 지역을 출력하라. \n",
        "# input('전화번호를 000-0000-0000 형식으로 입력하시오: ')\n",
        "num = input('전화번호를 000-0000-0000 형식으로 입력하시오:')\n",
        "region_num = num.split('-')[0]\n",
        "if region_num == '02':\n",
        "    print('서울')\n",
        "elif region_num == '031':\n",
        "    print('경기도')\n",
        "elif region_num =='032':\n",
        "    print('인천')\n",
        "else:\n",
        "    raise ValueError('지역번호는 서울(02), 경기도(031), 인천(032) 중 하나여만 합니다.')"
      ],
      "execution_count": 8,
      "outputs": [
        {
          "output_type": "stream",
          "text": [
            "전화번호를 000-0000-0000 형식으로 입력하시오:010-2323-2323\n"
          ],
          "name": "stdout"
        },
        {
          "output_type": "error",
          "ename": "ValueError",
          "evalue": "ignored",
          "traceback": [
            "\u001b[0;31m---------------------------------------------------------------------------\u001b[0m",
            "\u001b[0;31mValueError\u001b[0m                                Traceback (most recent call last)",
            "\u001b[0;32m<ipython-input-8-699a6ce05b7a>\u001b[0m in \u001b[0;36m<module>\u001b[0;34m()\u001b[0m\n\u001b[1;32m     11\u001b[0m     \u001b[0mprint\u001b[0m\u001b[0;34m(\u001b[0m\u001b[0;34m'인천'\u001b[0m\u001b[0;34m)\u001b[0m\u001b[0;34m\u001b[0m\u001b[0;34m\u001b[0m\u001b[0m\n\u001b[1;32m     12\u001b[0m \u001b[0;32melse\u001b[0m\u001b[0;34m:\u001b[0m\u001b[0;34m\u001b[0m\u001b[0;34m\u001b[0m\u001b[0m\n\u001b[0;32m---> 13\u001b[0;31m     \u001b[0;32mraise\u001b[0m \u001b[0mValueError\u001b[0m\u001b[0;34m(\u001b[0m\u001b[0;34m'지역번호는 서울(02), 경기도(031), 인천(032) 중 하나여만 합니다.'\u001b[0m\u001b[0;34m)\u001b[0m\u001b[0;34m\u001b[0m\u001b[0;34m\u001b[0m\u001b[0m\n\u001b[0m",
            "\u001b[0;31mValueError\u001b[0m: 지역번호는 서울(02), 경기도(031), 인천(032) 중 하나여만 합니다."
          ]
        }
      ]
    },
    {
      "cell_type": "code",
      "metadata": {
        "id": "Li0jyRK9fRM0"
      },
      "source": [
        ""
      ],
      "execution_count": null,
      "outputs": []
    },
    {
      "cell_type": "markdown",
      "metadata": {
        "id": "tIzYjWdGmvBI"
      },
      "source": [
        "# 반복 (iteration)"
      ]
    },
    {
      "cell_type": "code",
      "metadata": {
        "colab": {
          "base_uri": "https://localhost:8080/"
        },
        "id": "8Ww4K59EZfx2",
        "outputId": "6171d159-5f74-4703-b8d4-5d6b66ae9920"
      },
      "source": [
        "# for 변수 in iterable: \n",
        "#   반복되는 문장\n",
        "# 리스트, 튜플, 문자열과 같은 시퀀스 타입 자료형은 iterable이다. \n",
        "for i in [1,2,3]:\n",
        "  print(i)"
      ],
      "execution_count": 9,
      "outputs": [
        {
          "output_type": "stream",
          "text": [
            "1\n",
            "2\n",
            "3\n"
          ],
          "name": "stdout"
        }
      ]
    },
    {
      "cell_type": "code",
      "metadata": {
        "colab": {
          "base_uri": "https://localhost:8080/"
        },
        "id": "osVyp5M3aDoZ",
        "outputId": "f9730c02-41c6-4fa3-ecf4-e74705a4081f"
      },
      "source": [
        "# 튜플\n",
        "for i in (1,2,3):\n",
        "  print(i)"
      ],
      "execution_count": 10,
      "outputs": [
        {
          "output_type": "stream",
          "text": [
            "1\n",
            "2\n",
            "3\n"
          ],
          "name": "stdout"
        }
      ]
    },
    {
      "cell_type": "code",
      "metadata": {
        "colab": {
          "base_uri": "https://localhost:8080/"
        },
        "id": "yyVQG37kaD1k",
        "outputId": "cc927e8e-48ba-49f8-e657-da367384e4df"
      },
      "source": [
        "# 문자열\n",
        "for i in 'apple':\n",
        "  print(i)"
      ],
      "execution_count": 11,
      "outputs": [
        {
          "output_type": "stream",
          "text": [
            "a\n",
            "p\n",
            "p\n",
            "l\n",
            "e\n"
          ],
          "name": "stdout"
        }
      ]
    },
    {
      "cell_type": "code",
      "metadata": {
        "colab": {
          "base_uri": "https://localhost:8080/"
        },
        "id": "_yIRVtSjbJR6",
        "outputId": "b4e9a2ad-d753-4c4f-e977-e4ad30f63e37"
      },
      "source": [
        "# 리스트\n",
        "for i in ['사과', '배', '귤']:\n",
        "  print(i)"
      ],
      "execution_count": 12,
      "outputs": [
        {
          "output_type": "stream",
          "text": [
            "사과\n",
            "배\n",
            "귤\n"
          ],
          "name": "stdout"
        }
      ]
    },
    {
      "cell_type": "code",
      "metadata": {
        "colab": {
          "base_uri": "https://localhost:8080/"
        },
        "id": "cH4mEhQUbxIU",
        "outputId": "223177eb-f4b9-4c45-8adc-96f1bf8f523f"
      },
      "source": [
        "# 반복되는 문장\n",
        "print(10); print(20); print(30)"
      ],
      "execution_count": 13,
      "outputs": [
        {
          "output_type": "stream",
          "text": [
            "10\n",
            "20\n",
            "30\n"
          ],
          "name": "stdout"
        }
      ]
    },
    {
      "cell_type": "code",
      "metadata": {
        "colab": {
          "base_uri": "https://localhost:8080/"
        },
        "id": "VqWix91BbgyM",
        "outputId": "e5179ad7-6b29-4e48-9a68-91292cb6c2ba"
      },
      "source": [
        "# for loop는 반복되는 문장을 대체한다.\n",
        "for i in [10, 20, 30]:\n",
        "  print(i)"
      ],
      "execution_count": 14,
      "outputs": [
        {
          "output_type": "stream",
          "text": [
            "10\n",
            "20\n",
            "30\n"
          ],
          "name": "stdout"
        }
      ]
    },
    {
      "cell_type": "code",
      "metadata": {
        "colab": {
          "base_uri": "https://localhost:8080/"
        },
        "id": "nd9Wch6naSIq",
        "outputId": "53eb3e22-b205-45ea-a4d9-b33391e6c3de"
      },
      "source": [
        "# 리스트\n",
        "sum = 0 \n",
        "for i in [1,2,3,4,5,6,7,8,9,10]: \n",
        "  sum = sum + i \n",
        "print(sum)"
      ],
      "execution_count": 18,
      "outputs": [
        {
          "output_type": "stream",
          "text": [
            "55\n"
          ],
          "name": "stdout"
        }
      ]
    },
    {
      "cell_type": "code",
      "metadata": {
        "colab": {
          "base_uri": "https://localhost:8080/"
        },
        "id": "EjinzmFNaD5h",
        "outputId": "54159bf5-0879-4c8a-cdd6-80eea5778c84"
      },
      "source": [
        "# range(start, stop) generates the sequence of integer from start(inclusive) to stop(exclusive)\n",
        "# an index in python starts from 0 not 1\n",
        "sum = 0 \n",
        "for i in range(1, 11): \n",
        "  sum = sum + i \n",
        "print(sum)"
      ],
      "execution_count": 19,
      "outputs": [
        {
          "output_type": "stream",
          "text": [
            "55\n"
          ],
          "name": "stdout"
        }
      ]
    },
    {
      "cell_type": "code",
      "metadata": {
        "colab": {
          "base_uri": "https://localhost:8080/"
        },
        "id": "TdRfH26NcRG-",
        "outputId": "ef651406-c8c9-4f56-99d6-67ae1b00867b"
      },
      "source": [
        "# '이화여대'를 10번 반복해서 출력하라\n",
        "# range(start:stop)의 stop이 포함 안되는 이유\n",
        "for i in range(10):\n",
        "  print('이화여대')"
      ],
      "execution_count": 20,
      "outputs": [
        {
          "output_type": "stream",
          "text": [
            "이화여대\n",
            "이화여대\n",
            "이화여대\n",
            "이화여대\n",
            "이화여대\n",
            "이화여대\n",
            "이화여대\n",
            "이화여대\n",
            "이화여대\n",
            "이화여대\n"
          ],
          "name": "stdout"
        }
      ]
    },
    {
      "cell_type": "code",
      "metadata": {
        "colab": {
          "base_uri": "https://localhost:8080/"
        },
        "id": "z5Z2t-rnoCp-",
        "outputId": "94fe09d6-3adb-46ce-860e-599c3e0e1bdc"
      },
      "source": [
        "# 리스트의 값을 두배를 해서 새로운 리스트에 저장\n",
        "r1 = [1, 2, 3, 4, 5]\n",
        "r2 = []  # 빈 리스트 생성\n",
        "for i in r1:\n",
        "  r2.append(i*2)\n",
        "r2"
      ],
      "execution_count": 21,
      "outputs": [
        {
          "output_type": "execute_result",
          "data": {
            "text/plain": [
              "[2, 4, 6, 8, 10]"
            ]
          },
          "metadata": {
            "tags": []
          },
          "execution_count": 21
        }
      ]
    },
    {
      "cell_type": "code",
      "metadata": {
        "colab": {
          "base_uri": "https://localhost:8080/"
        },
        "id": "_BNfRxwroXtK",
        "outputId": "93d498fb-07b2-4485-a5a6-71b5f53c3ecc"
      },
      "source": [
        "# 리스트 컴프리핸션 (list comprehension): 규칙과 조건으로 리스트 생성\n",
        "r1 = [1, 2, 3, 4, 5]\n",
        "r2 = [x*2 for x in r1]   # r1에 값들을 하나씩 x에 넣어서, x*2의 결과를 만들어 리스트에 저장\n",
        "r2"
      ],
      "execution_count": 22,
      "outputs": [
        {
          "output_type": "execute_result",
          "data": {
            "text/plain": [
              "[2, 4, 6, 8, 10]"
            ]
          },
          "metadata": {
            "tags": []
          },
          "execution_count": 22
        }
      ]
    },
    {
      "cell_type": "code",
      "metadata": {
        "colab": {
          "base_uri": "https://localhost:8080/"
        },
        "id": "eyF1FL4foxkJ",
        "outputId": "3c0b7e97-c225-46a8-82ba-37d784b00bfe"
      },
      "source": [
        "# 홀수인 경우에만 리스트의 값을 두배를 해서 새로운 리스트에 저장\n",
        "r1 = [1, 2, 3, 4, 5]\n",
        "r2 = []  # 빈 리스트 생성\n",
        "for i in r1:\n",
        "  if i % 2 == 1:\n",
        "    r2.append(i*2)\n",
        "r2"
      ],
      "execution_count": 23,
      "outputs": [
        {
          "output_type": "execute_result",
          "data": {
            "text/plain": [
              "[2, 6, 10]"
            ]
          },
          "metadata": {
            "tags": []
          },
          "execution_count": 23
        }
      ]
    },
    {
      "cell_type": "code",
      "metadata": {
        "colab": {
          "base_uri": "https://localhost:8080/"
        },
        "id": "eL9GVoFkpPz6",
        "outputId": "36a820b2-b34f-478d-d64d-ac30a2e6e34b"
      },
      "source": [
        "# 리스트 컴프리핸션 (list comprehension): 규칙과 조건으로 리스트 생성\n",
        "r1 = [1, 2, 3, 4, 5]\n",
        "r2 = [x*2 for x in r1 if x % 2 == 1]   # r1에 값들을 하나씩 x에 넣어서, x % 2 == 1인지 확인하고, True이면 x*2의 결과를 만들어 리스트에 저장\n",
        "r2"
      ],
      "execution_count": 24,
      "outputs": [
        {
          "output_type": "execute_result",
          "data": {
            "text/plain": [
              "[2, 6, 10]"
            ]
          },
          "metadata": {
            "tags": []
          },
          "execution_count": 24
        }
      ]
    },
    {
      "cell_type": "code",
      "metadata": {
        "id": "Y_XBBjE1cvFv",
        "colab": {
          "base_uri": "https://localhost:8080/"
        },
        "outputId": "a355400d-f869-433b-d54e-c8e9c9713abd"
      },
      "source": [
        "# 연습문제\n",
        "# 주어진 리스트 lst = [-10, 10, -30, 20, 30] 에서 음수를 출력하시오. \n",
        "lst = [-10, 10, -30, 20, 30]\n",
        "r3 = []\n",
        "r3 = [i for i in lst if i < 0]\n",
        "r3"
      ],
      "execution_count": 37,
      "outputs": [
        {
          "output_type": "execute_result",
          "data": {
            "text/plain": [
              "[-10, -30]"
            ]
          },
          "metadata": {
            "tags": []
          },
          "execution_count": 37
        }
      ]
    },
    {
      "cell_type": "code",
      "metadata": {
        "colab": {
          "base_uri": "https://localhost:8080/"
        },
        "id": "gy1s4I56hpiF",
        "outputId": "e0741e31-f256-4876-c10f-9fe4b116e74b"
      },
      "source": [
        "lst = [-10, 10, -30, 20, 30] \n",
        "r4 = []\n",
        "for i in lst:\n",
        "    if i < 0 :\n",
        "        r4.append(i)\n",
        "r4"
      ],
      "execution_count": 36,
      "outputs": [
        {
          "output_type": "execute_result",
          "data": {
            "text/plain": [
              "[-10, -30]"
            ]
          },
          "metadata": {
            "tags": []
          },
          "execution_count": 36
        }
      ]
    },
    {
      "cell_type": "code",
      "metadata": {
        "id": "p_6QXpx4dXfs",
        "colab": {
          "base_uri": "https://localhost:8080/"
        },
        "outputId": "3a0e050e-c675-4806-bdd0-dcf260ca88c2"
      },
      "source": [
        "# 연습문제\n",
        "# 주어진 리스트 lst = [3, 100, 23, 45]에서 3의 배수만을 출력하시오. \n",
        "lst = [3, 100, 23, 45]\n",
        "r5 = [i for i in lst if i%3==0]\n",
        "r5"
      ],
      "execution_count": 39,
      "outputs": [
        {
          "output_type": "execute_result",
          "data": {
            "text/plain": [
              "[3, 45]"
            ]
          },
          "metadata": {
            "tags": []
          },
          "execution_count": 39
        }
      ]
    },
    {
      "cell_type": "code",
      "metadata": {
        "id": "kl5rGF9bd6dv",
        "colab": {
          "base_uri": "https://localhost:8080/"
        },
        "outputId": "5012bc2f-5752-437e-ebce-c7e28cdcf565"
      },
      "source": [
        "# 연습문제\n",
        "# 주어진 리스트 lst = [3, 100, 23, 45]에서 20보다 작은 3의 배수만을 출력하시오.\n",
        "lst = [3, 100, 23, 45]\n",
        "r6 = [i for i in lst if i <20 and i%3==0]\n",
        "r6"
      ],
      "execution_count": 40,
      "outputs": [
        {
          "output_type": "execute_result",
          "data": {
            "text/plain": [
              "[3]"
            ]
          },
          "metadata": {
            "tags": []
          },
          "execution_count": 40
        }
      ]
    },
    {
      "cell_type": "code",
      "metadata": {
        "id": "KWS3t_PbeF2d",
        "colab": {
          "base_uri": "https://localhost:8080/"
        },
        "outputId": "e02278e8-5e85-4e0b-af97-41723ce33baa"
      },
      "source": [
        "# 연습문제\n",
        "# 주어진 리스트 lst = ['I', 'am', 'study', 'Python']에서 세글자 이상의 단어만 출력하시오. \n",
        "lst = ['I', 'am', 'study', 'Python']\n",
        "r7 = [i for i in lst if len(i) >= 3]\n",
        "r7"
      ],
      "execution_count": 44,
      "outputs": [
        {
          "output_type": "execute_result",
          "data": {
            "text/plain": [
              "['study', 'Python']"
            ]
          },
          "metadata": {
            "tags": []
          },
          "execution_count": 44
        }
      ]
    },
    {
      "cell_type": "code",
      "metadata": {
        "id": "gV-m0_Hxg-mp"
      },
      "source": [
        "# 연습문제\n",
        "# 리스트 lst에는 6일 간의 종가 데이터가 저장되어 있다. 종가 데이터의 3일 이동 평균을 계산하고 이를 화면에 출력하라.\n",
        "lst = [1,2,3,4,5,6]\n"
      ],
      "execution_count": null,
      "outputs": []
    },
    {
      "cell_type": "code",
      "metadata": {
        "id": "JAFqijERh6JS"
      },
      "source": [
        "# 연습문제\n",
        "# 리스트에 5일간의 저가, 고가 정보가 저장돼 있다. 고가와 저가의 차를 변동폭이라고 정의할 때, low, high 두 개의 리스트를 사용해서 5일간의 변동폭을 volatility 리스트에 저장한다고 할때 _______ 에 필요한 함수는? "
      ],
      "execution_count": null,
      "outputs": []
    },
    {
      "cell_type": "markdown",
      "metadata": {
        "id": "jcCQMN-5bsvr"
      },
      "source": [
        "# 함수 (function)\n",
        "\"왜 함수인가? 프로그램을 함수로 분할하는 번거로움을 감수할 가치가 있는지는 명확하지 않을 수 있다. 여기에는 몇가지 이유가 있다.\n",
        "\n",
        "* 새 함수를 만들면 여러 문장을 묶어서 이름을 붙일 수 있고, 이렇게 하면 프로그램을 읽거나 디버그 하는게 쉬워진다.\n",
        "\n",
        "* 함수를 사용하면 반복되는 코드를 제거해서 프로그램을 더 작게 만들 수 있다. 나중에 프로그램을 변경할 때도 한 부분에서만 수정할 수 있다.\n",
        "\n",
        "* 긴 프로그램을 함수로 나누면 한번에 한 부분씩 디버그 할 수 있고, 부분을 결합해서 동작하는 전체를 만들 수 있다.\n",
        "\n",
        "* 잘 설계된 함수는 프로그램에서도 유용하게 쓰일 수 있다. 함수를 작성하고 디버그 했다면 이를 재사용 할 수 있다.\" \n",
        "\n",
        "(싱크 파이썬, p63)\n"
      ]
    },
    {
      "cell_type": "code",
      "metadata": {
        "colab": {
          "base_uri": "https://localhost:8080/"
        },
        "id": "IcIL3yvHcFc0",
        "outputId": "2236d515-f9f6-4977-edbf-1610bf103e76"
      },
      "source": [
        "# 함수(function)은 어떤 계산을 수행하는 문장들에 이름을 붙인것이다. \n",
        "# 함수는 여러문장을 담아놓은 상자와도 같다. \n",
        "# 우리는 함수를 호출(call)한다. \n",
        "# 예를들어 type()에서 type은 함수의 이름이고, 괄호안에 들어간 표현식을 함수의 인수(argument)라고 한다. \n",
        "# 함수는 인수(argument)을 받고 결과값을 반환(return)한다. \n",
        "type(42.0)"
      ],
      "execution_count": null,
      "outputs": [
        {
          "output_type": "execute_result",
          "data": {
            "text/plain": [
              "float"
            ]
          },
          "metadata": {
            "tags": []
          },
          "execution_count": 1
        }
      ]
    },
    {
      "cell_type": "code",
      "metadata": {
        "id": "vMHR7g-TcKHZ"
      },
      "source": [
        "# 우리는 함수를 정의(define)할 수 있다. \n",
        "# 함수의 정의는 함수의 이름과 함수가 호출될 때 실행할 문장들을 지정한다. \n",
        "# 함수정의의 첫번째 줄을 헤더(header)하고 하고 나머지를 바디(body)라고 한다. \n",
        "# 함수의 이름은 소문자로만 만드는것이 관행\n",
        "def my_sum(a, b): \n",
        "  c = a + b + 1 \n",
        "  return c"
      ],
      "execution_count": null,
      "outputs": []
    },
    {
      "cell_type": "code",
      "metadata": {
        "colab": {
          "base_uri": "https://localhost:8080/"
        },
        "id": "ND1AnfQ2cORy",
        "outputId": "d71bf5ea-8d0a-4c69-8de4-f4c7e327244c"
      },
      "source": [
        "# 우리가 정의한 함수를 호출(call)할 수 있다. \n",
        "# 함수를 정의할 때의 변수를 인자(parameter), 호출할 때 전달하는 값을 인수(argument)라고 한다. \n",
        "my_sum(1, 2)"
      ],
      "execution_count": null,
      "outputs": [
        {
          "output_type": "execute_result",
          "data": {
            "text/plain": [
              "4"
            ]
          },
          "metadata": {
            "tags": []
          },
          "execution_count": 4
        }
      ]
    },
    {
      "cell_type": "code",
      "metadata": {
        "colab": {
          "base_uri": "https://localhost:8080/"
        },
        "id": "HNHcmr2sdY9t",
        "outputId": "ad088acb-0685-4f5e-f3f0-15687f4b4a0b"
      },
      "source": [
        "# 함수 정의시 매개변수 앞에 *는 이후의 값들을 튜플로 묶어 전달\n",
        "def print_nums(x1, x2, *others):\n",
        "  print(x1, x2, others)\n",
        "print_nums(1, 2, 3, 4, 5)"
      ],
      "execution_count": null,
      "outputs": [
        {
          "output_type": "stream",
          "text": [
            "1 2 (3, 4, 5)\n"
          ],
          "name": "stdout"
        }
      ]
    },
    {
      "cell_type": "code",
      "metadata": {
        "id": "GzrDH1jMcOU2"
      },
      "source": [
        "# 연습문제\n",
        "# 인자로 제공받은 리스트에 저장되어 있는 모든 값의 합을 반환하는 함수를 만드시오. \n",
        "# 예를 들어 이 함수는 다음과 같이 작동해야 합니다. \n",
        "# sum_list([1,2,3])   # 6 출력"
      ],
      "execution_count": null,
      "outputs": []
    },
    {
      "cell_type": "code",
      "metadata": {
        "id": "q8e8g2KpijR0"
      },
      "source": [
        "# 연습문제\n",
        "# 콤마가 포함된 문자열 숫자를 입력받아 정수로 변환하는 convert_int 함수를 정의하라."
      ],
      "execution_count": null,
      "outputs": []
    },
    {
      "cell_type": "code",
      "metadata": {
        "id": "A8QG1VlFkx9b"
      },
      "source": [
        "# 연습문제\n",
        "# 아래 코드의 실행 결과를 예측하시오. \n",
        "def 함수1(num) :\n",
        "    return num + 4\n",
        "\n",
        "def 함수2(num) :\n",
        "    return num * 10\n",
        "\n",
        "a = 함수1(10)\n",
        "c = 함수2(a)\n",
        "print(c)"
      ],
      "execution_count": null,
      "outputs": []
    },
    {
      "cell_type": "code",
      "metadata": {
        "id": "Kw7U1NQ9lJZ0"
      },
      "source": [
        "# 연습문제\n",
        "# 아래 코드의 실행 결과를 예측하라.\n",
        "def 함수0(num) :\n",
        "    return num * 2\n",
        "\n",
        "def 함수1(num) :\n",
        "    return 함수0(num + 2)\n",
        "\n",
        "def 함수2(num) :\n",
        "    num = num + 10\n",
        "    return 함수1(num)\n",
        "\n",
        "c = 함수2(2)\n",
        "print(c)"
      ],
      "execution_count": null,
      "outputs": []
    },
    {
      "cell_type": "markdown",
      "metadata": {
        "id": "mx4js1KtZPPS"
      },
      "source": [
        "# 모듈 (module), 패키지 (package), import\n",
        "* 모듈은 변수, 함수, 클래스 등이 정의되어 있는 파일(.py)\n",
        "* 패키지는 모듈을 디렉토리형식으로 구조화한 것\n",
        "* 패키지 내부의 모듈은 점표기법(dot notation)으로 접근(access)\n",
        "* 한 모듈에 있는 파이썬 코드는 import 문을 통해서 다른 모듈에 있는 코드들에 대한 접근권을 얻음"
      ]
    },
    {
      "cell_type": "code",
      "metadata": {
        "id": "k5mDOjxfcjQS"
      },
      "source": [
        "# import 모듈\n",
        "# import 모듈1, 모듈2\n",
        "# 모듈.변수\n",
        "# 모듈.함수()\n",
        "# 모듈.클래스()\n",
        "import math"
      ],
      "execution_count": null,
      "outputs": []
    },
    {
      "cell_type": "code",
      "metadata": {
        "colab": {
          "base_uri": "https://localhost:8080/"
        },
        "id": "YwHgjQTzNJ4w",
        "outputId": "43dab885-e76a-41c0-bc55-91900853e6cd"
      },
      "source": [
        "# math 모듈의 pi라는 속성에 접근\n",
        "math.pi"
      ],
      "execution_count": null,
      "outputs": [
        {
          "output_type": "execute_result",
          "data": {
            "text/plain": [
              "3.141592653589793"
            ]
          },
          "metadata": {
            "tags": []
          },
          "execution_count": 28
        }
      ]
    },
    {
      "cell_type": "code",
      "metadata": {
        "colab": {
          "base_uri": "https://localhost:8080/"
        },
        "id": "vgeW8m5dcu0W",
        "outputId": "2076f594-6e27-4c75-df85-7e0bfbe957f1"
      },
      "source": [
        "# math 모듈의 변수와 함수반환\n",
        "dir(math)"
      ],
      "execution_count": null,
      "outputs": [
        {
          "output_type": "execute_result",
          "data": {
            "text/plain": [
              "['__doc__',\n",
              " '__loader__',\n",
              " '__name__',\n",
              " '__package__',\n",
              " '__spec__',\n",
              " 'acos',\n",
              " 'acosh',\n",
              " 'asin',\n",
              " 'asinh',\n",
              " 'atan',\n",
              " 'atan2',\n",
              " 'atanh',\n",
              " 'ceil',\n",
              " 'copysign',\n",
              " 'cos',\n",
              " 'cosh',\n",
              " 'degrees',\n",
              " 'e',\n",
              " 'erf',\n",
              " 'erfc',\n",
              " 'exp',\n",
              " 'expm1',\n",
              " 'fabs',\n",
              " 'factorial',\n",
              " 'floor',\n",
              " 'fmod',\n",
              " 'frexp',\n",
              " 'fsum',\n",
              " 'gamma',\n",
              " 'gcd',\n",
              " 'hypot',\n",
              " 'inf',\n",
              " 'isclose',\n",
              " 'isfinite',\n",
              " 'isinf',\n",
              " 'isnan',\n",
              " 'ldexp',\n",
              " 'lgamma',\n",
              " 'log',\n",
              " 'log10',\n",
              " 'log1p',\n",
              " 'log2',\n",
              " 'modf',\n",
              " 'nan',\n",
              " 'pi',\n",
              " 'pow',\n",
              " 'radians',\n",
              " 'remainder',\n",
              " 'sin',\n",
              " 'sinh',\n",
              " 'sqrt',\n",
              " 'tan',\n",
              " 'tanh',\n",
              " 'tau',\n",
              " 'trunc']"
            ]
          },
          "metadata": {
            "tags": []
          },
          "execution_count": 30
        }
      ]
    },
    {
      "cell_type": "code",
      "metadata": {
        "id": "07x_gU1WjakP",
        "colab": {
          "base_uri": "https://localhost:8080/"
        },
        "outputId": "8fc8c84d-ee61-4caa-9cf1-bf26775cadd0"
      },
      "source": [
        "# math 모듈의 sqrt() 메서드 호출\n",
        "math.sqrt(2)"
      ],
      "execution_count": null,
      "outputs": [
        {
          "output_type": "execute_result",
          "data": {
            "text/plain": [
              "1.4142135623730951"
            ]
          },
          "metadata": {
            "tags": []
          },
          "execution_count": 31
        }
      ]
    },
    {
      "cell_type": "code",
      "metadata": {
        "id": "fahU-wfXNrf9",
        "colab": {
          "base_uri": "https://localhost:8080/"
        },
        "outputId": "389f1dd4-96ce-4ef8-fe37-436f76e78b27"
      },
      "source": [
        "# import 모듈 as 이름\n",
        "# math 모듈을 가져오면서 이름을 m으로 지정\n",
        "import math as m    \n",
        "m.sqrt(2)"
      ],
      "execution_count": null,
      "outputs": [
        {
          "output_type": "execute_result",
          "data": {
            "text/plain": [
              "1.4142135623730951"
            ]
          },
          "metadata": {
            "tags": []
          },
          "execution_count": 6
        }
      ]
    },
    {
      "cell_type": "code",
      "metadata": {
        "id": "p0VOxGOGNpUi",
        "colab": {
          "base_uri": "https://localhost:8080/"
        },
        "outputId": "6e984032-df9f-4e4d-a75c-332e6de385e1"
      },
      "source": [
        "# from 모듈 import 변수\n",
        "from math import pi  \n",
        "pi"
      ],
      "execution_count": null,
      "outputs": [
        {
          "output_type": "execute_result",
          "data": {
            "text/plain": [
              "3.141592653589793"
            ]
          },
          "metadata": {
            "tags": []
          },
          "execution_count": 32
        }
      ]
    },
    {
      "cell_type": "code",
      "metadata": {
        "colab": {
          "base_uri": "https://localhost:8080/"
        },
        "id": "zYeLYocte3uj",
        "outputId": "af665a72-4450-4241-dfe5-d5765eb7147c"
      },
      "source": [
        "# from 모듈 import 함수\n",
        "# math 모듈에서 sqrt 함수만 가져옴\n",
        "from math import sqrt    \n",
        "sqrt(2)"
      ],
      "execution_count": null,
      "outputs": [
        {
          "output_type": "execute_result",
          "data": {
            "text/plain": [
              "1.4142135623730951"
            ]
          },
          "metadata": {
            "tags": []
          },
          "execution_count": 33
        }
      ]
    },
    {
      "cell_type": "code",
      "metadata": {
        "id": "HU_XBoJQe_ff"
      },
      "source": [
        "# from 모듈 import *\n",
        "# math 모듈의 모든 변수, 함수, 클래스를 가져옴\n",
        "# Don't do this\n",
        "from math import *    "
      ],
      "execution_count": null,
      "outputs": []
    },
    {
      "cell_type": "code",
      "metadata": {
        "id": "6QYgZVRyNnlE",
        "colab": {
          "base_uri": "https://localhost:8080/"
        },
        "outputId": "e65ccbcc-8215-46bd-bd5e-db746e33dde4"
      },
      "source": [
        "# from 모듈 import 변수 as 이름\n",
        "# from 모듈 import 함수 as 이름\n",
        "# from 모듈 import 클래스 as 이름\n",
        "# math 모듈에서 sqrt 함수를 가져오면서 이름을 s로 지정\n",
        "from math import sqrt as s    \n",
        "s(2)"
      ],
      "execution_count": null,
      "outputs": [
        {
          "output_type": "execute_result",
          "data": {
            "text/plain": [
              "1.4142135623730951"
            ]
          },
          "metadata": {
            "tags": []
          },
          "execution_count": 9
        }
      ]
    },
    {
      "cell_type": "code",
      "metadata": {
        "id": "R6p8zY6UfcT_"
      },
      "source": [
        "import numpy as np"
      ],
      "execution_count": null,
      "outputs": []
    },
    {
      "cell_type": "code",
      "metadata": {
        "id": "vJQRH36bf2An"
      },
      "source": [
        "dir(np)"
      ],
      "execution_count": null,
      "outputs": []
    },
    {
      "cell_type": "code",
      "metadata": {
        "id": "VvnOOX5yf3dt"
      },
      "source": [
        "import pandas as pd"
      ],
      "execution_count": null,
      "outputs": []
    },
    {
      "cell_type": "code",
      "metadata": {
        "id": "ggKTRJDjgD0x"
      },
      "source": [
        "dir(pd)"
      ],
      "execution_count": null,
      "outputs": []
    },
    {
      "cell_type": "code",
      "metadata": {
        "id": "BpuGWhXPgV2v"
      },
      "source": [
        "# Author: Gael Varoquaux <gael dot varoquaux at normalesup dot org>\n",
        "# License: BSD 3 clause\n",
        "\n",
        "# Standard scientific Python imports\n",
        "import matplotlib.pyplot as plt\n",
        "\n",
        "# Import datasets, classifiers and performance metrics\n",
        "from sklearn import datasets, svm, metrics\n",
        "from sklearn.model_selection import train_test_split"
      ],
      "execution_count": null,
      "outputs": []
    }
  ]
}
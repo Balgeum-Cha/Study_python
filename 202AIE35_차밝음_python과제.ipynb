{
  "nbformat": 4,
  "nbformat_minor": 0,
  "metadata": {
    "colab": {
      "name": "202AIE35_차밝음_python과제",
      "provenance": [],
      "collapsed_sections": [
        "dzvl_7qWIb_J"
      ],
      "include_colab_link": true
    },
    "kernelspec": {
      "name": "python3",
      "display_name": "Python 3"
    },
    "language_info": {
      "name": "python"
    }
  },
  "cells": [
    {
      "cell_type": "markdown",
      "metadata": {
        "id": "view-in-github",
        "colab_type": "text"
      },
      "source": [
        "<a href=\"https://colab.research.google.com/github/Balgeum-Cha/Study_python/blob/master/202AIE35_%EC%B0%A8%EB%B0%9D%EC%9D%8C_python%EA%B3%BC%EC%A0%9C.ipynb\" target=\"_parent\"><img src=\"https://colab.research.google.com/assets/colab-badge.svg\" alt=\"Open In Colab\"/></a>"
      ]
    },
    {
      "cell_type": "markdown",
      "metadata": {
        "id": "KLqY5W6iIf_L"
      },
      "source": [
        "이화여대 교육용 프로그래밍의 이해 2 파이썬 노트 (이 선복)\n",
        "연습문제 과제 : 차밝음"
      ]
    },
    {
      "cell_type": "markdown",
      "metadata": {
        "id": "v0yg-coZCpyK"
      },
      "source": [
        "# 파이썬 용어집 (Glossary)\n",
        "* 파이썬언어에서 사용되는 용어들의 정확한 정의제공\n",
        "* https://docs.python.org/3/glossary.html\n"
      ]
    },
    {
      "cell_type": "markdown",
      "metadata": {
        "id": "b3Vng3hnIGMS"
      },
      "source": [
        ""
      ]
    },
    {
      "cell_type": "markdown",
      "metadata": {
        "id": "xbzZ02v2JrIS"
      },
      "source": [
        "# 객체(object)와 클래스(class)\n",
        "* 객체를 이해하는 두가지 관점\n",
        "    * 실제 사물(object)의 **기능**과 **속성**을 프로그램 객체(object)의  **함수**와 **변수**로 표현\n",
        "    * **변수**에 저장된 값과 그 값을 조작할 수 있는 **함수**를 가지고 있는 **사용자정의 자료형 (user-defined data type)**\n",
        "* 객체(object) = 변수(variable) + 함수(function)\n",
        "* 클래스는 객체를 만드는 설계도\n",
        "* (python tutorial) \"Classes provide a means of bundling **data** and **functionality** together. Creating a new class creates a new type of object, allowing new instances of that type to be made. Each class instance can have **attributes** attached to it for maintaining its state. Class instances can also have **methods** (defined by its class) for modifying its state.\" \n",
        "* (씽크 파이썬) \"프로그래머 정의 타입을 **클래스(class)**라고 부르고 클래스의 새 **객체(Object)**를 생성하는것을 **인스턴스화(instantiation)**라고 하며 그렇게 생성된 객체는 클래스의 **인스턴스(instance)**라고 한다.\" \n",
        "* 우리가 파이썬에서 다루는 모든 것들(자료형, 모듈, 함수, ...)은 객체 (Everything in Python in an object). \n",
        "* 파이썬은 **객체지향 프로그래밍(Object Oritented Programming, OOP)** 언어\n"
      ]
    },
    {
      "cell_type": "code",
      "metadata": {
        "id": "kVOLsrbzXhu0"
      },
      "source": [
        "# 클래스정의(class definition)는 속성(attribute)과 메서드(method)를 정의\n",
        "# 아래 MyClass는 my_attribute라는 속성과 my_method()라는 메서드를 정의\n",
        "# 스페셜 메서드(__name__)는 파이썬에 의해 호출\n",
        "# self는 해당 클래스의 인스턴스를 나타냄 \n",
        "class MyClass:   # 클래스 이름은 CapWords 방식이 관행\n",
        "    def __init__(self, x):   # 클래스 생성자(class constructor)\n",
        "      self.my_attribute = x  # 함수와 변수이름은 소문자가 관행\n",
        "    \n",
        "    def my_method(self): \n",
        "      self.my_attribute = self.my_attribute + 1\n",
        "      return self.my_attribute"
      ],
      "execution_count": null,
      "outputs": []
    },
    {
      "cell_type": "code",
      "metadata": {
        "id": "B_wR1oLob-l5"
      },
      "source": [
        "# 인스턴스(instance) 생성\n",
        "# 클래스 생성자를 위한 인수(argument)를 전달해야함 \n",
        "my_instance = MyClass(1)"
      ],
      "execution_count": null,
      "outputs": []
    },
    {
      "cell_type": "code",
      "metadata": {
        "id": "RyxSS-N3cFci",
        "colab": {
          "base_uri": "https://localhost:8080/"
        },
        "outputId": "4156957f-76a9-4e31-f09f-a75f5e09b48d"
      },
      "source": [
        "# type()은 객체의 타입을 반환\n",
        "type(my_instance)"
      ],
      "execution_count": null,
      "outputs": [
        {
          "output_type": "execute_result",
          "data": {
            "text/plain": [
              "__main__.MyClass"
            ]
          },
          "metadata": {
            "tags": []
          },
          "execution_count": 92
        }
      ]
    },
    {
      "cell_type": "code",
      "metadata": {
        "colab": {
          "base_uri": "https://localhost:8080/"
        },
        "id": "Ni_UAiH3XFe-",
        "outputId": "d031e46b-db34-43c5-c765-c0f02e93a8e5"
      },
      "source": [
        "# help() print help\n",
        "help(my_instance)"
      ],
      "execution_count": null,
      "outputs": [
        {
          "output_type": "stream",
          "text": [
            "Help on MyClass in module __main__ object:\n",
            "\n",
            "class MyClass(builtins.object)\n",
            " |  MyClass(x)\n",
            " |  \n",
            " |  Methods defined here:\n",
            " |  \n",
            " |  __init__(self, x)\n",
            " |      Initialize self.  See help(type(self)) for accurate signature.\n",
            " |  \n",
            " |  my_method(self)\n",
            " |  \n",
            " |  ----------------------------------------------------------------------\n",
            " |  Data descriptors defined here:\n",
            " |  \n",
            " |  __dict__\n",
            " |      dictionary for instance variables (if defined)\n",
            " |  \n",
            " |  __weakref__\n",
            " |      list of weak references to the object (if defined)\n",
            "\n"
          ],
          "name": "stdout"
        }
      ]
    },
    {
      "cell_type": "code",
      "metadata": {
        "colab": {
          "base_uri": "https://localhost:8080/"
        },
        "id": "savqGlGKBeRs",
        "outputId": "07cb074a-f044-48a8-906f-2551ba5b2b4c"
      },
      "source": [
        "# 해당 객체의 변수와 메서드 반환\n",
        "dir(my_instance)"
      ],
      "execution_count": null,
      "outputs": [
        {
          "output_type": "execute_result",
          "data": {
            "text/plain": [
              "['__class__',\n",
              " '__delattr__',\n",
              " '__dict__',\n",
              " '__dir__',\n",
              " '__doc__',\n",
              " '__eq__',\n",
              " '__format__',\n",
              " '__ge__',\n",
              " '__getattribute__',\n",
              " '__gt__',\n",
              " '__hash__',\n",
              " '__init__',\n",
              " '__init_subclass__',\n",
              " '__le__',\n",
              " '__lt__',\n",
              " '__module__',\n",
              " '__ne__',\n",
              " '__new__',\n",
              " '__reduce__',\n",
              " '__reduce_ex__',\n",
              " '__repr__',\n",
              " '__setattr__',\n",
              " '__sizeof__',\n",
              " '__str__',\n",
              " '__subclasshook__',\n",
              " '__weakref__',\n",
              " 'my_attribute',\n",
              " 'my_method']"
            ]
          },
          "metadata": {
            "tags": []
          },
          "execution_count": 94
        }
      ]
    },
    {
      "cell_type": "code",
      "metadata": {
        "colab": {
          "base_uri": "https://localhost:8080/"
        },
        "id": "qk3DJotGWHLJ",
        "outputId": "c235a1ab-6cc6-4267-b394-0c2fc6153d36"
      },
      "source": [
        "# 객체의 속성(attribute)에 접근(access)하기위해 점표기법(dot notation)사용\n",
        "my_instance.my_attribute"
      ],
      "execution_count": null,
      "outputs": [
        {
          "output_type": "execute_result",
          "data": {
            "text/plain": [
              "1"
            ]
          },
          "metadata": {
            "tags": []
          },
          "execution_count": 95
        }
      ]
    },
    {
      "cell_type": "code",
      "metadata": {
        "colab": {
          "base_uri": "https://localhost:8080/"
        },
        "id": "2-JdgWYaWR04",
        "outputId": "e3e99644-1103-4171-ad6b-daea1cd32ec2"
      },
      "source": [
        "# 객체의 메서드(method)를 호출(call)하기위해 점표기법(dot notation)사용\n",
        "my_instance.my_method()"
      ],
      "execution_count": null,
      "outputs": [
        {
          "output_type": "execute_result",
          "data": {
            "text/plain": [
              "2"
            ]
          },
          "metadata": {
            "tags": []
          },
          "execution_count": 96
        }
      ]
    },
    {
      "cell_type": "code",
      "metadata": {
        "colab": {
          "base_uri": "https://localhost:8080/"
        },
        "id": "Qh-bp0dtx1gV",
        "outputId": "a0b3f753-a35d-4de0-8e8f-96a66c19daab"
      },
      "source": [
        "# 문자열도 객체\n",
        "'apple'.isnumeric()"
      ],
      "execution_count": null,
      "outputs": [
        {
          "output_type": "execute_result",
          "data": {
            "text/plain": [
              "False"
            ]
          },
          "metadata": {
            "tags": []
          },
          "execution_count": 97
        }
      ]
    },
    {
      "cell_type": "code",
      "metadata": {
        "colab": {
          "base_uri": "https://localhost:8080/"
        },
        "id": "OCxCTijHE8d5",
        "outputId": "4223467a-dfd0-4c04-c30b-b67d7878ab0f"
      },
      "source": [
        "dir('apple')"
      ],
      "execution_count": null,
      "outputs": [
        {
          "output_type": "execute_result",
          "data": {
            "text/plain": [
              "['__add__',\n",
              " '__class__',\n",
              " '__contains__',\n",
              " '__delattr__',\n",
              " '__dir__',\n",
              " '__doc__',\n",
              " '__eq__',\n",
              " '__format__',\n",
              " '__ge__',\n",
              " '__getattribute__',\n",
              " '__getitem__',\n",
              " '__getnewargs__',\n",
              " '__gt__',\n",
              " '__hash__',\n",
              " '__init__',\n",
              " '__init_subclass__',\n",
              " '__iter__',\n",
              " '__le__',\n",
              " '__len__',\n",
              " '__lt__',\n",
              " '__mod__',\n",
              " '__mul__',\n",
              " '__ne__',\n",
              " '__new__',\n",
              " '__reduce__',\n",
              " '__reduce_ex__',\n",
              " '__repr__',\n",
              " '__rmod__',\n",
              " '__rmul__',\n",
              " '__setattr__',\n",
              " '__sizeof__',\n",
              " '__str__',\n",
              " '__subclasshook__',\n",
              " 'capitalize',\n",
              " 'casefold',\n",
              " 'center',\n",
              " 'count',\n",
              " 'encode',\n",
              " 'endswith',\n",
              " 'expandtabs',\n",
              " 'find',\n",
              " 'format',\n",
              " 'format_map',\n",
              " 'index',\n",
              " 'isalnum',\n",
              " 'isalpha',\n",
              " 'isascii',\n",
              " 'isdecimal',\n",
              " 'isdigit',\n",
              " 'isidentifier',\n",
              " 'islower',\n",
              " 'isnumeric',\n",
              " 'isprintable',\n",
              " 'isspace',\n",
              " 'istitle',\n",
              " 'isupper',\n",
              " 'join',\n",
              " 'ljust',\n",
              " 'lower',\n",
              " 'lstrip',\n",
              " 'maketrans',\n",
              " 'partition',\n",
              " 'replace',\n",
              " 'rfind',\n",
              " 'rindex',\n",
              " 'rjust',\n",
              " 'rpartition',\n",
              " 'rsplit',\n",
              " 'rstrip',\n",
              " 'split',\n",
              " 'splitlines',\n",
              " 'startswith',\n",
              " 'strip',\n",
              " 'swapcase',\n",
              " 'title',\n",
              " 'translate',\n",
              " 'upper',\n",
              " 'zfill']"
            ]
          },
          "metadata": {
            "tags": []
          },
          "execution_count": 98
        }
      ]
    },
    {
      "cell_type": "code",
      "metadata": {
        "id": "GSXIjt_9E-pI"
      },
      "source": [
        ""
      ],
      "execution_count": null,
      "outputs": []
    },
    {
      "cell_type": "code",
      "metadata": {
        "id": "8SRuZmuzECNS"
      },
      "source": [
        "# 연습문제\n",
        "# 사람의 이름과 전화번호정보를 담을 수 있는 클래스를 정의하라. \n",
        "# 이때 이 클래스는 다음과 같이 동작해야 한다. \n",
        "# f = Friend('홍길동', '010-123-4567')  # 객체생성\n",
        "# f.get_name()  # 이름반환\n",
        "# f.get_phone()  # 전화번호반환\n",
        "class Friend:\n",
        "\n",
        "  def __init__(self, name, phone):\n",
        "    self.name = name\n",
        "    self.phone = phone\n",
        "\n",
        "  def get_name(self):\n",
        "    return self.name\n",
        "\n",
        "  def get_phone(self):\n",
        "    return self.phone"
      ],
      "execution_count": null,
      "outputs": []
    },
    {
      "cell_type": "code",
      "metadata": {
        "id": "pKQBljqER7Sa"
      },
      "source": [
        "f = Friend('홍길동', '123-3234-2322')"
      ],
      "execution_count": null,
      "outputs": []
    },
    {
      "cell_type": "code",
      "metadata": {
        "colab": {
          "base_uri": "https://localhost:8080/"
        },
        "id": "ZfGgz1oXSCgK",
        "outputId": "915d41b1-b43b-485e-dfb8-b4dc8d5b4d01"
      },
      "source": [
        "type(f)"
      ],
      "execution_count": null,
      "outputs": [
        {
          "output_type": "execute_result",
          "data": {
            "text/plain": [
              "__main__.Friend"
            ]
          },
          "metadata": {
            "tags": []
          },
          "execution_count": 101
        }
      ]
    },
    {
      "cell_type": "code",
      "metadata": {
        "colab": {
          "base_uri": "https://localhost:8080/"
        },
        "id": "5-jYRvfMSELs",
        "outputId": "3b48203d-fdf4-4525-9bfc-266f83d7dc90"
      },
      "source": [
        "dir(f)"
      ],
      "execution_count": null,
      "outputs": [
        {
          "output_type": "execute_result",
          "data": {
            "text/plain": [
              "['__class__',\n",
              " '__delattr__',\n",
              " '__dict__',\n",
              " '__dir__',\n",
              " '__doc__',\n",
              " '__eq__',\n",
              " '__format__',\n",
              " '__ge__',\n",
              " '__getattribute__',\n",
              " '__gt__',\n",
              " '__hash__',\n",
              " '__init__',\n",
              " '__init_subclass__',\n",
              " '__le__',\n",
              " '__lt__',\n",
              " '__module__',\n",
              " '__ne__',\n",
              " '__new__',\n",
              " '__reduce__',\n",
              " '__reduce_ex__',\n",
              " '__repr__',\n",
              " '__setattr__',\n",
              " '__sizeof__',\n",
              " '__str__',\n",
              " '__subclasshook__',\n",
              " '__weakref__',\n",
              " 'get_name',\n",
              " 'get_phone',\n",
              " 'name',\n",
              " 'phone']"
            ]
          },
          "metadata": {
            "tags": []
          },
          "execution_count": 102
        }
      ]
    },
    {
      "cell_type": "code",
      "metadata": {
        "colab": {
          "base_uri": "https://localhost:8080/",
          "height": 34
        },
        "id": "lFI0AGCJSFyB",
        "outputId": "1ec3269b-ce6f-47f3-9281-540bc28d959a"
      },
      "source": [
        "f.get_name()"
      ],
      "execution_count": null,
      "outputs": [
        {
          "output_type": "execute_result",
          "data": {
            "application/vnd.google.colaboratory.intrinsic+json": {
              "type": "string"
            },
            "text/plain": [
              "'홍길동'"
            ]
          },
          "metadata": {
            "tags": []
          },
          "execution_count": 103
        }
      ]
    },
    {
      "cell_type": "code",
      "metadata": {
        "colab": {
          "base_uri": "https://localhost:8080/",
          "height": 34
        },
        "id": "_ka0RWkpSO80",
        "outputId": "bf3f68dd-776d-4c0d-d7cb-7b24fe5727d4"
      },
      "source": [
        "f.get_phone()"
      ],
      "execution_count": null,
      "outputs": [
        {
          "output_type": "execute_result",
          "data": {
            "application/vnd.google.colaboratory.intrinsic+json": {
              "type": "string"
            },
            "text/plain": [
              "'123-3234-2322'"
            ]
          },
          "metadata": {
            "tags": []
          },
          "execution_count": 104
        }
      ]
    },
    {
      "cell_type": "code",
      "metadata": {
        "id": "1mnG9P65SReE"
      },
      "source": [
        ""
      ],
      "execution_count": null,
      "outputs": []
    },
    {
      "cell_type": "markdown",
      "metadata": {
        "id": "cFQsm9cF5Es-"
      },
      "source": [
        "# 자료형 (Data type)\n",
        "* the most **primitive data structure**\n",
        "* **building blocks** for data manipulation\n",
        "* Python has four basic data type\n",
        "    * 정수(Integer)\n",
        "    * 실수(float)\n",
        "    * 문자열(string)\n",
        "    * 불자료형(boolean)"
      ]
    },
    {
      "cell_type": "code",
      "metadata": {
        "id": "91_jcvnhACVx",
        "colab": {
          "base_uri": "https://localhost:8080/"
        },
        "outputId": "fdfecadd-6ba8-4e60-8950-af8c717aa35c"
      },
      "source": [
        "# 정수(integer)\n",
        "# type()은 객체의 타입(the object's type)을 반환\n",
        "type(1)"
      ],
      "execution_count": null,
      "outputs": [
        {
          "output_type": "execute_result",
          "data": {
            "text/plain": [
              "int"
            ]
          },
          "metadata": {
            "tags": []
          },
          "execution_count": 105
        }
      ]
    },
    {
      "cell_type": "code",
      "metadata": {
        "id": "uHc0yJjnADlN",
        "colab": {
          "base_uri": "https://localhost:8080/"
        },
        "outputId": "17106de2-81b1-4ce6-cb4c-45e5006845a7"
      },
      "source": [
        "# 실수(float)\n",
        "# 실수는 컴퓨터 내부에 부동소수점(floating point number)방식으로 저장\n",
        "type(1.2)"
      ],
      "execution_count": null,
      "outputs": [
        {
          "output_type": "execute_result",
          "data": {
            "text/plain": [
              "float"
            ]
          },
          "metadata": {
            "tags": []
          },
          "execution_count": 106
        }
      ]
    },
    {
      "cell_type": "code",
      "metadata": {
        "id": "NycI729qADzj",
        "colab": {
          "base_uri": "https://localhost:8080/"
        },
        "outputId": "ee64e165-d6db-462b-9d0f-2ba52330f98b"
      },
      "source": [
        "# 문자열(string)\n",
        "# 문자들의 집합 (a collection of characters)\n",
        "# ' ' 나 \" \" 을 이용하여 만듬\n",
        "type('apple')"
      ],
      "execution_count": null,
      "outputs": [
        {
          "output_type": "execute_result",
          "data": {
            "text/plain": [
              "str"
            ]
          },
          "metadata": {
            "tags": []
          },
          "execution_count": 107
        }
      ]
    },
    {
      "cell_type": "code",
      "metadata": {
        "colab": {
          "base_uri": "https://localhost:8080/"
        },
        "id": "PLFtvmT2AD--",
        "outputId": "f242e2c9-e98e-485f-9315-218d54e65600"
      },
      "source": [
        "# 불 자료형 (boolean): True, False\n",
        "# 파이썬이 자동으로 True를 1로 False를 0으로 변환시킬수도 있음\n",
        "type(True)"
      ],
      "execution_count": null,
      "outputs": [
        {
          "output_type": "execute_result",
          "data": {
            "text/plain": [
              "bool"
            ]
          },
          "metadata": {
            "tags": []
          },
          "execution_count": 108
        }
      ]
    },
    {
      "cell_type": "code",
      "metadata": {
        "colab": {
          "base_uri": "https://localhost:8080/"
        },
        "id": "djwu1jxUASme",
        "outputId": "8ab6248f-c984-4fbb-b071-167c2d2183ee"
      },
      "source": [
        "# 해당 객체의 변수와 메서드 반환\n",
        "dir(1)"
      ],
      "execution_count": null,
      "outputs": [
        {
          "output_type": "execute_result",
          "data": {
            "text/plain": [
              "['__abs__',\n",
              " '__add__',\n",
              " '__and__',\n",
              " '__bool__',\n",
              " '__ceil__',\n",
              " '__class__',\n",
              " '__delattr__',\n",
              " '__dir__',\n",
              " '__divmod__',\n",
              " '__doc__',\n",
              " '__eq__',\n",
              " '__float__',\n",
              " '__floor__',\n",
              " '__floordiv__',\n",
              " '__format__',\n",
              " '__ge__',\n",
              " '__getattribute__',\n",
              " '__getnewargs__',\n",
              " '__gt__',\n",
              " '__hash__',\n",
              " '__index__',\n",
              " '__init__',\n",
              " '__init_subclass__',\n",
              " '__int__',\n",
              " '__invert__',\n",
              " '__le__',\n",
              " '__lshift__',\n",
              " '__lt__',\n",
              " '__mod__',\n",
              " '__mul__',\n",
              " '__ne__',\n",
              " '__neg__',\n",
              " '__new__',\n",
              " '__or__',\n",
              " '__pos__',\n",
              " '__pow__',\n",
              " '__radd__',\n",
              " '__rand__',\n",
              " '__rdivmod__',\n",
              " '__reduce__',\n",
              " '__reduce_ex__',\n",
              " '__repr__',\n",
              " '__rfloordiv__',\n",
              " '__rlshift__',\n",
              " '__rmod__',\n",
              " '__rmul__',\n",
              " '__ror__',\n",
              " '__round__',\n",
              " '__rpow__',\n",
              " '__rrshift__',\n",
              " '__rshift__',\n",
              " '__rsub__',\n",
              " '__rtruediv__',\n",
              " '__rxor__',\n",
              " '__setattr__',\n",
              " '__sizeof__',\n",
              " '__str__',\n",
              " '__sub__',\n",
              " '__subclasshook__',\n",
              " '__truediv__',\n",
              " '__trunc__',\n",
              " '__xor__',\n",
              " 'bit_length',\n",
              " 'conjugate',\n",
              " 'denominator',\n",
              " 'from_bytes',\n",
              " 'imag',\n",
              " 'numerator',\n",
              " 'real',\n",
              " 'to_bytes']"
            ]
          },
          "metadata": {
            "tags": []
          },
          "execution_count": 109
        }
      ]
    },
    {
      "cell_type": "code",
      "metadata": {
        "colab": {
          "base_uri": "https://localhost:8080/"
        },
        "id": "HI9x8sVyAwhG",
        "outputId": "6679d32a-2c48-464d-96f3-9914f010c145"
      },
      "source": [
        "# 산술연산자(arithmetic operator): 덧셈(addition)\n",
        "1 + 1"
      ],
      "execution_count": null,
      "outputs": [
        {
          "output_type": "execute_result",
          "data": {
            "text/plain": [
              "2"
            ]
          },
          "metadata": {
            "tags": []
          },
          "execution_count": 110
        }
      ]
    },
    {
      "cell_type": "code",
      "metadata": {
        "colab": {
          "base_uri": "https://localhost:8080/"
        },
        "id": "Y8Z4faZwGUNi",
        "outputId": "efe4c9ae-2415-4864-f6da-5a68cb683c61"
      },
      "source": [
        "# 산술연산자(arithmetic operator): 뺄셈(subtraction)\n",
        "2 - 1"
      ],
      "execution_count": null,
      "outputs": [
        {
          "output_type": "execute_result",
          "data": {
            "text/plain": [
              "1"
            ]
          },
          "metadata": {
            "tags": []
          },
          "execution_count": 111
        }
      ]
    },
    {
      "cell_type": "code",
      "metadata": {
        "colab": {
          "base_uri": "https://localhost:8080/"
        },
        "id": "VWQfj-jdAXF-",
        "outputId": "d79e762e-4112-4cf4-b697-124cf187944a"
      },
      "source": [
        "# 산술연산자(arithmetic operator): 곱셈(multiplication)\n",
        "2 * 3"
      ],
      "execution_count": null,
      "outputs": [
        {
          "output_type": "execute_result",
          "data": {
            "text/plain": [
              "6"
            ]
          },
          "metadata": {
            "tags": []
          },
          "execution_count": 112
        }
      ]
    },
    {
      "cell_type": "code",
      "metadata": {
        "colab": {
          "base_uri": "https://localhost:8080/"
        },
        "id": "y1Ck7GflGZ7X",
        "outputId": "387769c1-16d4-44d1-baff-0885389396a6"
      },
      "source": [
        "# 산술연산자(arithmetic operator): 실수형 나눗셈 (divison)\n",
        "5 / 2"
      ],
      "execution_count": null,
      "outputs": [
        {
          "output_type": "execute_result",
          "data": {
            "text/plain": [
              "2.5"
            ]
          },
          "metadata": {
            "tags": []
          },
          "execution_count": 113
        }
      ]
    },
    {
      "cell_type": "code",
      "metadata": {
        "colab": {
          "base_uri": "https://localhost:8080/"
        },
        "id": "fbr_rQ6RGZ9w",
        "outputId": "d4998be8-1373-414e-a118-33046da774cf"
      },
      "source": [
        "# 산술연산자(arithmetic operator): 정수형 나눗셈 (floor division, 몫을 계산)\n",
        "5 // 2"
      ],
      "execution_count": null,
      "outputs": [
        {
          "output_type": "execute_result",
          "data": {
            "text/plain": [
              "2"
            ]
          },
          "metadata": {
            "tags": []
          },
          "execution_count": 114
        }
      ]
    },
    {
      "cell_type": "code",
      "metadata": {
        "colab": {
          "base_uri": "https://localhost:8080/"
        },
        "id": "izWoU3R1GaAN",
        "outputId": "4ce989f6-6580-4f17-d307-171f57d8b429"
      },
      "source": [
        "# 산술연산자(arithmetic operator): 나눗셈의 나머지 (modulus)\n",
        "5 % 2"
      ],
      "execution_count": null,
      "outputs": [
        {
          "output_type": "execute_result",
          "data": {
            "text/plain": [
              "1"
            ]
          },
          "metadata": {
            "tags": []
          },
          "execution_count": 115
        }
      ]
    },
    {
      "cell_type": "code",
      "metadata": {
        "colab": {
          "base_uri": "https://localhost:8080/"
        },
        "id": "JSv6AsXiHU7R",
        "outputId": "cd4d0cfe-2a11-4bac-e8c1-fd596d6ed788"
      },
      "source": [
        "# 산술연산자(arithmetic operator): 지수 (exponent)\n",
        "2 ** 3"
      ],
      "execution_count": null,
      "outputs": [
        {
          "output_type": "execute_result",
          "data": {
            "text/plain": [
              "8"
            ]
          },
          "metadata": {
            "tags": []
          },
          "execution_count": 116
        }
      ]
    },
    {
      "cell_type": "code",
      "metadata": {
        "colab": {
          "base_uri": "https://localhost:8080/"
        },
        "id": "quUBJNltJlDS",
        "outputId": "2263d7f1-a740-4763-f0c9-2d611e2244d9"
      },
      "source": [
        "# 비교연산자(comparison operator)\n",
        "2 == 3"
      ],
      "execution_count": null,
      "outputs": [
        {
          "output_type": "execute_result",
          "data": {
            "text/plain": [
              "False"
            ]
          },
          "metadata": {
            "tags": []
          },
          "execution_count": 117
        }
      ]
    },
    {
      "cell_type": "code",
      "metadata": {
        "colab": {
          "base_uri": "https://localhost:8080/"
        },
        "id": "zt_tEG_kJlGI",
        "outputId": "77811cac-6825-4788-f74a-f2904f361140"
      },
      "source": [
        "# 비교연산자(comparison operator)\n",
        "2 != 3"
      ],
      "execution_count": null,
      "outputs": [
        {
          "output_type": "execute_result",
          "data": {
            "text/plain": [
              "True"
            ]
          },
          "metadata": {
            "tags": []
          },
          "execution_count": 118
        }
      ]
    },
    {
      "cell_type": "code",
      "metadata": {
        "colab": {
          "base_uri": "https://localhost:8080/"
        },
        "id": "vtILISVJJlI8",
        "outputId": "17365620-07a8-4fff-b0d6-8fc5cebb0a38"
      },
      "source": [
        "# 비교연산자(comparison operator)\n",
        "2 > 3"
      ],
      "execution_count": null,
      "outputs": [
        {
          "output_type": "execute_result",
          "data": {
            "text/plain": [
              "False"
            ]
          },
          "metadata": {
            "tags": []
          },
          "execution_count": 119
        }
      ]
    },
    {
      "cell_type": "code",
      "metadata": {
        "colab": {
          "base_uri": "https://localhost:8080/"
        },
        "id": "bI5o_vqjJlL6",
        "outputId": "0e8bc08a-379f-4b94-e8fb-27c885c0acd3"
      },
      "source": [
        "# 비교연산자(comparison operator)\n",
        "2 >= 3"
      ],
      "execution_count": null,
      "outputs": [
        {
          "output_type": "execute_result",
          "data": {
            "text/plain": [
              "False"
            ]
          },
          "metadata": {
            "tags": []
          },
          "execution_count": 120
        }
      ]
    },
    {
      "cell_type": "code",
      "metadata": {
        "colab": {
          "base_uri": "https://localhost:8080/"
        },
        "id": "3ARyMSrVJlPK",
        "outputId": "8430c212-c7b4-477b-e28e-a728b4021a7d"
      },
      "source": [
        "# 비교연산자(comparison operator)\n",
        "2 < 3"
      ],
      "execution_count": null,
      "outputs": [
        {
          "output_type": "execute_result",
          "data": {
            "text/plain": [
              "True"
            ]
          },
          "metadata": {
            "tags": []
          },
          "execution_count": 121
        }
      ]
    },
    {
      "cell_type": "code",
      "metadata": {
        "colab": {
          "base_uri": "https://localhost:8080/"
        },
        "id": "wUX40bfLJlR3",
        "outputId": "8d43e87c-5ab4-4de0-c8c6-c7fcfa703483"
      },
      "source": [
        "# 비교연산자(comparison operator)\n",
        "2 <= 3"
      ],
      "execution_count": null,
      "outputs": [
        {
          "output_type": "execute_result",
          "data": {
            "text/plain": [
              "True"
            ]
          },
          "metadata": {
            "tags": []
          },
          "execution_count": 122
        }
      ]
    },
    {
      "cell_type": "code",
      "metadata": {
        "colab": {
          "base_uri": "https://localhost:8080/"
        },
        "id": "665rk6OxJlUl",
        "outputId": "e1bb2d45-f0d0-40d1-d10e-9effe395755a"
      },
      "source": [
        "# 논리연산자(logical operator)\n",
        "# 모두 True일때만 True\n",
        "(2 < 3) and (10 > 5)"
      ],
      "execution_count": null,
      "outputs": [
        {
          "output_type": "execute_result",
          "data": {
            "text/plain": [
              "True"
            ]
          },
          "metadata": {
            "tags": []
          },
          "execution_count": 123
        }
      ]
    },
    {
      "cell_type": "code",
      "metadata": {
        "colab": {
          "base_uri": "https://localhost:8080/"
        },
        "id": "DOYYxEFHJlW-",
        "outputId": "ef92dbc2-7886-4672-bc7b-f23c8f2ff2bb"
      },
      "source": [
        "# 논리연산자(logical operator)\n",
        "# 하나만 True이면 True\n",
        "(2 < 3) or (10 < 5)"
      ],
      "execution_count": null,
      "outputs": [
        {
          "output_type": "execute_result",
          "data": {
            "text/plain": [
              "True"
            ]
          },
          "metadata": {
            "tags": []
          },
          "execution_count": 124
        }
      ]
    },
    {
      "cell_type": "code",
      "metadata": {
        "colab": {
          "base_uri": "https://localhost:8080/"
        },
        "id": "Hr8-qgc5KBHp",
        "outputId": "1bddde8f-b569-4096-af25-ee610af95c17"
      },
      "source": [
        "# 논리연산자(logical operator)\n",
        "not (2 < 3)"
      ],
      "execution_count": null,
      "outputs": [
        {
          "output_type": "execute_result",
          "data": {
            "text/plain": [
              "False"
            ]
          },
          "metadata": {
            "tags": []
          },
          "execution_count": 125
        }
      ]
    },
    {
      "cell_type": "code",
      "metadata": {
        "colab": {
          "base_uri": "https://localhost:8080/"
        },
        "id": "ikiSDr04xrGD",
        "outputId": "35377456-d4ab-4225-fe9f-fd9513dfc758"
      },
      "source": [
        "# int() : 정수타입으로 변환\n",
        "int(\"123\")"
      ],
      "execution_count": null,
      "outputs": [
        {
          "output_type": "execute_result",
          "data": {
            "text/plain": [
              "123"
            ]
          },
          "metadata": {
            "tags": []
          },
          "execution_count": 126
        }
      ]
    },
    {
      "cell_type": "code",
      "metadata": {
        "colab": {
          "base_uri": "https://localhost:8080/",
          "height": 34
        },
        "id": "bGTBiOpdxrXV",
        "outputId": "f154e775-8ba3-4ec8-aaec-f4546c917e1b"
      },
      "source": [
        "# str() : 문자열타입으로 변환\n",
        "str(123)"
      ],
      "execution_count": null,
      "outputs": [
        {
          "output_type": "execute_result",
          "data": {
            "application/vnd.google.colaboratory.intrinsic+json": {
              "type": "string"
            },
            "text/plain": [
              "'123'"
            ]
          },
          "metadata": {
            "tags": []
          },
          "execution_count": 127
        }
      ]
    },
    {
      "cell_type": "code",
      "metadata": {
        "colab": {
          "base_uri": "https://localhost:8080/"
        },
        "id": "VQK8MK75xrfm",
        "outputId": "fabf4b93-b9b7-4d81-8c37-302860e09236"
      },
      "source": [
        "# float() : 실수타입으로 변환\n",
        "float('12.3')"
      ],
      "execution_count": null,
      "outputs": [
        {
          "output_type": "execute_result",
          "data": {
            "text/plain": [
              "12.3"
            ]
          },
          "metadata": {
            "tags": []
          },
          "execution_count": 128
        }
      ]
    },
    {
      "cell_type": "code",
      "metadata": {
        "id": "YI1mMKmkLgx7",
        "colab": {
          "base_uri": "https://localhost:8080/"
        },
        "outputId": "68d292ac-2a34-47d3-eba3-044ecab67aab"
      },
      "source": [
        "# 연습문제\n",
        "# 다음 표현식(expression)의 값은 무엇인가? \n",
        "not ((10 == 9) and (2 > 3))"
      ],
      "execution_count": null,
      "outputs": [
        {
          "output_type": "execute_result",
          "data": {
            "text/plain": [
              "True"
            ]
          },
          "metadata": {
            "tags": []
          },
          "execution_count": 129
        }
      ]
    },
    {
      "cell_type": "markdown",
      "metadata": {
        "id": "dzvl_7qWIb_J"
      },
      "source": [
        "# 자료구조 (Data structure)\n",
        "* a collection of different types of data\n",
        "* built-in data structure in Python\n",
        "    * 리스트(list)\n",
        "    * 튜플(tuple)\n",
        "    * 딕셔너리(dictionary)\n",
        "    * 세트(set)\n",
        "* Sequence vs Non-sequence\n",
        "    * Sequence\n",
        "        * 순서가 부여되어 있고, 인덱스를 사용할수 있는 테이터 형\n",
        "        * 문자열, 리스트, 튜플\n",
        "    * Non-sequence\n",
        "        * 순서가 없고, 인덱스를 사용할수 없는 데이터 형\n",
        "        * 딕셔너리, 세트\n",
        "* Mutable vs immutable \n",
        "    * Mutable\n",
        "        * 값이 수정이 가능\n",
        "        * 리스트, 딕셔너리, 세트\n",
        "    * Immutable\n",
        "        * 값의 수정이 불가능\n",
        "        * 문자열, 튜플"
      ]
    },
    {
      "cell_type": "markdown",
      "metadata": {
        "id": "B-dXBN_hRD6y"
      },
      "source": [
        "# 문자열 (String)\n",
        "* 문자들의 집합\n",
        "* ' ' 나 \" \" 로 생성\n",
        "* 문자열은 **불변(immutable)**\n",
        "* 인덱스(index)는 0부터 시작하는 위치를 가리키는 값\n",
        "* 인덱싱(indexing)은 인덱싱 연산자 ([ ])를 사용하여 **하나의 요소(an element)**를 참조하는 연산\n",
        "* 슬라이싱(slicing)은 인덱싱 연산자 ([ ])를 사용하여 **여러개의 요소들(mulple elements)**를 참조하는 연산"
      ]
    },
    {
      "cell_type": "code",
      "metadata": {
        "id": "3AY0wd_TRK2b"
      },
      "source": [
        "# 문자열은 ' ' 나 \" \"로 생성\n",
        "s = 'Ewha Womans University'"
      ],
      "execution_count": null,
      "outputs": []
    },
    {
      "cell_type": "code",
      "metadata": {
        "colab": {
          "base_uri": "https://localhost:8080/",
          "height": 34
        },
        "id": "UJ4WtwsaUUUx",
        "outputId": "5585bfc8-bd03-4d25-c5d3-825cbe597ad6"
      },
      "source": [
        "# 파이썬의 인덱스는 0부터 시작\n",
        "# 처음부터 0, 1, 2, 3, ... \n",
        "s[0]"
      ],
      "execution_count": null,
      "outputs": [
        {
          "output_type": "execute_result",
          "data": {
            "application/vnd.google.colaboratory.intrinsic+json": {
              "type": "string"
            },
            "text/plain": [
              "'E'"
            ]
          },
          "metadata": {
            "tags": []
          },
          "execution_count": 131
        }
      ]
    },
    {
      "cell_type": "code",
      "metadata": {
        "colab": {
          "base_uri": "https://localhost:8080/",
          "height": 34
        },
        "id": "JNhkvd9zUkHk",
        "outputId": "af230812-0b1e-4e14-9561-21f54e65f87a"
      },
      "source": [
        "# -1는 마지막 값\n",
        "# 마지막부터 -1, -2, -3, -4, ... \n",
        "s[-1]"
      ],
      "execution_count": null,
      "outputs": [
        {
          "output_type": "execute_result",
          "data": {
            "application/vnd.google.colaboratory.intrinsic+json": {
              "type": "string"
            },
            "text/plain": [
              "'y'"
            ]
          },
          "metadata": {
            "tags": []
          },
          "execution_count": 132
        }
      ]
    },
    {
      "cell_type": "code",
      "metadata": {
        "colab": {
          "base_uri": "https://localhost:8080/",
          "height": 34
        },
        "id": "HpWxTBT1Up_X",
        "outputId": "a4764268-6f09-40ed-bf57-4bc3f5685a74"
      },
      "source": [
        "# string[ starting index : ending index ] 에서 ending index는 포함안됨 \n",
        "s[0:2]"
      ],
      "execution_count": null,
      "outputs": [
        {
          "output_type": "execute_result",
          "data": {
            "application/vnd.google.colaboratory.intrinsic+json": {
              "type": "string"
            },
            "text/plain": [
              "'Ew'"
            ]
          },
          "metadata": {
            "tags": []
          },
          "execution_count": 133
        }
      ]
    },
    {
      "cell_type": "code",
      "metadata": {
        "colab": {
          "base_uri": "https://localhost:8080/",
          "height": 34
        },
        "id": "RkJtemMKt6GG",
        "outputId": "9a750de3-4132-4b04-b891-023aae25278f"
      },
      "source": [
        "# starting index 생략하면 처음부터 \n",
        "s[:2]"
      ],
      "execution_count": null,
      "outputs": [
        {
          "output_type": "execute_result",
          "data": {
            "application/vnd.google.colaboratory.intrinsic+json": {
              "type": "string"
            },
            "text/plain": [
              "'Ew'"
            ]
          },
          "metadata": {
            "tags": []
          },
          "execution_count": 134
        }
      ]
    },
    {
      "cell_type": "code",
      "metadata": {
        "colab": {
          "base_uri": "https://localhost:8080/",
          "height": 34
        },
        "id": "NARVFzTZuJ1i",
        "outputId": "3800c08c-0fed-4cb6-e0d7-ab01efa06318"
      },
      "source": [
        "# ending index 생략하면 마지막까지\n",
        "s[5:]"
      ],
      "execution_count": null,
      "outputs": [
        {
          "output_type": "execute_result",
          "data": {
            "application/vnd.google.colaboratory.intrinsic+json": {
              "type": "string"
            },
            "text/plain": [
              "'Womans University'"
            ]
          },
          "metadata": {
            "tags": []
          },
          "execution_count": 135
        }
      ]
    },
    {
      "cell_type": "code",
      "metadata": {
        "colab": {
          "base_uri": "https://localhost:8080/",
          "height": 34
        },
        "id": "sN3ggG1TuYjm",
        "outputId": "4e47d991-69bb-4c44-c367-cba9e0ea926d"
      },
      "source": [
        "# string[ starting index : ending index : offset ]\n",
        "s[::2]"
      ],
      "execution_count": null,
      "outputs": [
        {
          "output_type": "execute_result",
          "data": {
            "application/vnd.google.colaboratory.intrinsic+json": {
              "type": "string"
            },
            "text/plain": [
              "'Eh oasUiest'"
            ]
          },
          "metadata": {
            "tags": []
          },
          "execution_count": 136
        }
      ]
    },
    {
      "cell_type": "code",
      "metadata": {
        "id": "c6qxZrGEWDMP",
        "colab": {
          "base_uri": "https://localhost:8080/"
        },
        "outputId": "e75d41a1-e647-4e7a-bb70-38bb41cc25c0"
      },
      "source": [
        "# 문자열 길이\n",
        "len(s)"
      ],
      "execution_count": null,
      "outputs": [
        {
          "output_type": "execute_result",
          "data": {
            "text/plain": [
              "22"
            ]
          },
          "metadata": {
            "tags": []
          },
          "execution_count": 137
        }
      ]
    },
    {
      "cell_type": "code",
      "metadata": {
        "colab": {
          "base_uri": "https://localhost:8080/"
        },
        "id": "Yr9ocAYYES7r",
        "outputId": "24ab296a-ccec-4ddb-d4a6-18f03dbcbddb"
      },
      "source": [
        "dir(s)"
      ],
      "execution_count": null,
      "outputs": [
        {
          "output_type": "execute_result",
          "data": {
            "text/plain": [
              "['__add__',\n",
              " '__class__',\n",
              " '__contains__',\n",
              " '__delattr__',\n",
              " '__dir__',\n",
              " '__doc__',\n",
              " '__eq__',\n",
              " '__format__',\n",
              " '__ge__',\n",
              " '__getattribute__',\n",
              " '__getitem__',\n",
              " '__getnewargs__',\n",
              " '__gt__',\n",
              " '__hash__',\n",
              " '__init__',\n",
              " '__init_subclass__',\n",
              " '__iter__',\n",
              " '__le__',\n",
              " '__len__',\n",
              " '__lt__',\n",
              " '__mod__',\n",
              " '__mul__',\n",
              " '__ne__',\n",
              " '__new__',\n",
              " '__reduce__',\n",
              " '__reduce_ex__',\n",
              " '__repr__',\n",
              " '__rmod__',\n",
              " '__rmul__',\n",
              " '__setattr__',\n",
              " '__sizeof__',\n",
              " '__str__',\n",
              " '__subclasshook__',\n",
              " 'capitalize',\n",
              " 'casefold',\n",
              " 'center',\n",
              " 'count',\n",
              " 'encode',\n",
              " 'endswith',\n",
              " 'expandtabs',\n",
              " 'find',\n",
              " 'format',\n",
              " 'format_map',\n",
              " 'index',\n",
              " 'isalnum',\n",
              " 'isalpha',\n",
              " 'isascii',\n",
              " 'isdecimal',\n",
              " 'isdigit',\n",
              " 'isidentifier',\n",
              " 'islower',\n",
              " 'isnumeric',\n",
              " 'isprintable',\n",
              " 'isspace',\n",
              " 'istitle',\n",
              " 'isupper',\n",
              " 'join',\n",
              " 'ljust',\n",
              " 'lower',\n",
              " 'lstrip',\n",
              " 'maketrans',\n",
              " 'partition',\n",
              " 'replace',\n",
              " 'rfind',\n",
              " 'rindex',\n",
              " 'rjust',\n",
              " 'rpartition',\n",
              " 'rsplit',\n",
              " 'rstrip',\n",
              " 'split',\n",
              " 'splitlines',\n",
              " 'startswith',\n",
              " 'strip',\n",
              " 'swapcase',\n",
              " 'title',\n",
              " 'translate',\n",
              " 'upper',\n",
              " 'zfill']"
            ]
          },
          "metadata": {
            "tags": []
          },
          "execution_count": 138
        }
      ]
    },
    {
      "cell_type": "code",
      "metadata": {
        "colab": {
          "base_uri": "https://localhost:8080/"
        },
        "id": "EjatkSoDDn9W",
        "outputId": "e9d3c6d7-0ce6-47bd-91aa-a59494e00541"
      },
      "source": [
        "# s.isalpha() : 문자열 전체가 알파벳이면 True\n",
        "# 공백은 알파벳으로 취급되지 않음\n",
        "s.isalpha()"
      ],
      "execution_count": null,
      "outputs": [
        {
          "output_type": "execute_result",
          "data": {
            "text/plain": [
              "False"
            ]
          },
          "metadata": {
            "tags": []
          },
          "execution_count": 139
        }
      ]
    },
    {
      "cell_type": "code",
      "metadata": {
        "colab": {
          "base_uri": "https://localhost:8080/"
        },
        "id": "nRXYa7h_D2RD",
        "outputId": "e96946a2-bacd-42d6-c69e-30f4d64850ad"
      },
      "source": [
        "# s.isdigit() : 문자열 전체가 숫자이면 True\n",
        "s.isdigit()"
      ],
      "execution_count": null,
      "outputs": [
        {
          "output_type": "execute_result",
          "data": {
            "text/plain": [
              "False"
            ]
          },
          "metadata": {
            "tags": []
          },
          "execution_count": 140
        }
      ]
    },
    {
      "cell_type": "code",
      "metadata": {
        "colab": {
          "base_uri": "https://localhost:8080/"
        },
        "id": "-O-q7K2kEN4D",
        "outputId": "4856aa82-1582-4cf9-d13d-affd1926bc3b"
      },
      "source": [
        "# s.islower() : 문자열 전체가 소문자이면 True\n",
        "s.islower()"
      ],
      "execution_count": null,
      "outputs": [
        {
          "output_type": "execute_result",
          "data": {
            "text/plain": [
              "False"
            ]
          },
          "metadata": {
            "tags": []
          },
          "execution_count": 141
        }
      ]
    },
    {
      "cell_type": "code",
      "metadata": {
        "colab": {
          "base_uri": "https://localhost:8080/"
        },
        "id": "EHWvsdK8EQl1",
        "outputId": "08519859-3ece-40cb-871e-165a2ac77d71"
      },
      "source": [
        "# s.isupper() : 문자열 전체가 대문자이면 True\n",
        "s.isupper()"
      ],
      "execution_count": null,
      "outputs": [
        {
          "output_type": "execute_result",
          "data": {
            "text/plain": [
              "False"
            ]
          },
          "metadata": {
            "tags": []
          },
          "execution_count": 142
        }
      ]
    },
    {
      "cell_type": "code",
      "metadata": {
        "colab": {
          "base_uri": "https://localhost:8080/",
          "height": 34
        },
        "id": "YfWp0mlmEfQO",
        "outputId": "845e2c9f-528b-40bf-986c-24f1b0fe064e"
      },
      "source": [
        "# s.upper() : 소문자를 대문자로 변환\n",
        "s.upper()"
      ],
      "execution_count": null,
      "outputs": [
        {
          "output_type": "execute_result",
          "data": {
            "application/vnd.google.colaboratory.intrinsic+json": {
              "type": "string"
            },
            "text/plain": [
              "'EWHA WOMANS UNIVERSITY'"
            ]
          },
          "metadata": {
            "tags": []
          },
          "execution_count": 143
        }
      ]
    },
    {
      "cell_type": "code",
      "metadata": {
        "colab": {
          "base_uri": "https://localhost:8080/",
          "height": 34
        },
        "id": "tLf36y2oEh6q",
        "outputId": "cca87f21-e7d1-4773-d04e-3fdff56ccc53"
      },
      "source": [
        "# s.lower() : 대문자를 소문자로 변환\n",
        "s.lower() "
      ],
      "execution_count": null,
      "outputs": [
        {
          "output_type": "execute_result",
          "data": {
            "application/vnd.google.colaboratory.intrinsic+json": {
              "type": "string"
            },
            "text/plain": [
              "'ewha womans university'"
            ]
          },
          "metadata": {
            "tags": []
          },
          "execution_count": 144
        }
      ]
    },
    {
      "cell_type": "code",
      "metadata": {
        "colab": {
          "base_uri": "https://localhost:8080/",
          "height": 34
        },
        "id": "a9KonSyOEltA",
        "outputId": "2d629b1e-9f94-4823-9345-a35de88939fa"
      },
      "source": [
        "# s.capitalize() : 첫문자는 대문자로 변환하고, 나머지는 소문자로 변환\n",
        "s.capitalize()"
      ],
      "execution_count": null,
      "outputs": [
        {
          "output_type": "execute_result",
          "data": {
            "application/vnd.google.colaboratory.intrinsic+json": {
              "type": "string"
            },
            "text/plain": [
              "'Ewha womans university'"
            ]
          },
          "metadata": {
            "tags": []
          },
          "execution_count": 145
        }
      ]
    },
    {
      "cell_type": "code",
      "metadata": {
        "colab": {
          "base_uri": "https://localhost:8080/"
        },
        "id": "l0ttpGu2Eo8F",
        "outputId": "30c98bf9-ba78-4910-c4c5-1221196a4580"
      },
      "source": [
        "# s.count() : 인수로 지정된 특정 문자열의 개수 \n",
        "s.count('a')"
      ],
      "execution_count": null,
      "outputs": [
        {
          "output_type": "execute_result",
          "data": {
            "text/plain": [
              "2"
            ]
          },
          "metadata": {
            "tags": []
          },
          "execution_count": 146
        }
      ]
    },
    {
      "cell_type": "code",
      "metadata": {
        "colab": {
          "base_uri": "https://localhost:8080/",
          "height": 34
        },
        "id": "m31_-6PNE5uY",
        "outputId": "f93a2e13-b310-482c-d75c-cc1ddb6afdf5"
      },
      "source": [
        "# s.lstrip() : 문자열 왼쪽의 공백 문자를 삭제\n",
        "s.lstrip()"
      ],
      "execution_count": null,
      "outputs": [
        {
          "output_type": "execute_result",
          "data": {
            "application/vnd.google.colaboratory.intrinsic+json": {
              "type": "string"
            },
            "text/plain": [
              "'Ewha Womans University'"
            ]
          },
          "metadata": {
            "tags": []
          },
          "execution_count": 147
        }
      ]
    },
    {
      "cell_type": "code",
      "metadata": {
        "colab": {
          "base_uri": "https://localhost:8080/",
          "height": 34
        },
        "id": "pPhKDHhJFAJe",
        "outputId": "8d33d770-0418-4546-d3e5-145ae021dbae"
      },
      "source": [
        "# s.rstrip() : 문자열 오른쪽의 공백 문자를 삭제\n",
        "s.rstrip()"
      ],
      "execution_count": null,
      "outputs": [
        {
          "output_type": "execute_result",
          "data": {
            "application/vnd.google.colaboratory.intrinsic+json": {
              "type": "string"
            },
            "text/plain": [
              "'Ewha Womans University'"
            ]
          },
          "metadata": {
            "tags": []
          },
          "execution_count": 148
        }
      ]
    },
    {
      "cell_type": "code",
      "metadata": {
        "colab": {
          "base_uri": "https://localhost:8080/",
          "height": 34
        },
        "id": "xDQcbXCCFFbD",
        "outputId": "79d56d41-7366-4028-8097-daca6563a6a8"
      },
      "source": [
        "# s.strip() : 문자열 양쪽의 공백 문자를 삭제\n",
        "s.strip()"
      ],
      "execution_count": null,
      "outputs": [
        {
          "output_type": "execute_result",
          "data": {
            "application/vnd.google.colaboratory.intrinsic+json": {
              "type": "string"
            },
            "text/plain": [
              "'Ewha Womans University'"
            ]
          },
          "metadata": {
            "tags": []
          },
          "execution_count": 149
        }
      ]
    },
    {
      "cell_type": "code",
      "metadata": {
        "colab": {
          "base_uri": "https://localhost:8080/",
          "height": 34
        },
        "id": "3Qt7-KEiFJ5d",
        "outputId": "cfbf3905-0d69-412d-c761-ca747348e660"
      },
      "source": [
        "# s.replace() : 특정 문자를 다른 문자로 변환\n",
        "s.replace('Ewha', '이화')"
      ],
      "execution_count": null,
      "outputs": [
        {
          "output_type": "execute_result",
          "data": {
            "application/vnd.google.colaboratory.intrinsic+json": {
              "type": "string"
            },
            "text/plain": [
              "'이화 Womans University'"
            ]
          },
          "metadata": {
            "tags": []
          },
          "execution_count": 150
        }
      ]
    },
    {
      "cell_type": "code",
      "metadata": {
        "colab": {
          "base_uri": "https://localhost:8080/"
        },
        "id": "87H0fyfVFYvE",
        "outputId": "40c0a64c-06b1-4c3b-d629-3ee2625e0940"
      },
      "source": [
        "# s.find() : 첫번째로 검색 되는 특정 문자의 인덱스 번호를 알려줌 (못찿으면 -1) \n",
        "s.find('m')"
      ],
      "execution_count": null,
      "outputs": [
        {
          "output_type": "execute_result",
          "data": {
            "text/plain": [
              "7"
            ]
          },
          "metadata": {
            "tags": []
          },
          "execution_count": 151
        }
      ]
    },
    {
      "cell_type": "code",
      "metadata": {
        "colab": {
          "base_uri": "https://localhost:8080/"
        },
        "id": "FH-aJlJFFgY-",
        "outputId": "46783cff-0438-43c7-c6ca-59fa1d81e1ea"
      },
      "source": [
        "# s.rfind() : 오른쪽에서 왼쪽으로 ... \n",
        "s.rfind('s')"
      ],
      "execution_count": null,
      "outputs": [
        {
          "output_type": "execute_result",
          "data": {
            "text/plain": [
              "18"
            ]
          },
          "metadata": {
            "tags": []
          },
          "execution_count": 152
        }
      ]
    },
    {
      "cell_type": "code",
      "metadata": {
        "colab": {
          "base_uri": "https://localhost:8080/"
        },
        "id": "7zrEXR53FrCi",
        "outputId": "0ab85d0c-965a-4f91-8920-e6bae578024f"
      },
      "source": [
        "# s.split() : 공백이나 특정 문자를 기준으로 문자열을 나누어 리스트를 생성\n",
        "# 공백을 기준으로 문자열을 생성\n",
        "# s.split(“,”) 콤마를 기준으로 문자열을 나눈다\n",
        "s.split()"
      ],
      "execution_count": null,
      "outputs": [
        {
          "output_type": "execute_result",
          "data": {
            "text/plain": [
              "['Ewha', 'Womans', 'University']"
            ]
          },
          "metadata": {
            "tags": []
          },
          "execution_count": 153
        }
      ]
    },
    {
      "cell_type": "code",
      "metadata": {
        "colab": {
          "base_uri": "https://localhost:8080/",
          "height": 34
        },
        "id": "ocsudQrb-hxx",
        "outputId": "ccbc1f07-4319-4405-e92a-59582ddc4265"
      },
      "source": [
        "# 문자열의 덧셈연산\n",
        "'Ewha ' + 'Womans ' + 'University'"
      ],
      "execution_count": null,
      "outputs": [
        {
          "output_type": "execute_result",
          "data": {
            "application/vnd.google.colaboratory.intrinsic+json": {
              "type": "string"
            },
            "text/plain": [
              "'Ewha Womans University'"
            ]
          },
          "metadata": {
            "tags": []
          },
          "execution_count": 154
        }
      ]
    },
    {
      "cell_type": "code",
      "metadata": {
        "id": "fTQaT0L7G9K1",
        "colab": {
          "base_uri": "https://localhost:8080/",
          "height": 34
        },
        "outputId": "3d8be562-0a97-478d-bddd-e150960d8c45"
      },
      "source": [
        "# 연습문제\n",
        "# 다음과 같은 문자열 a:b:c:d가 있다. 문자열의 replace 함수를 사용하여 a#b#c#d로 바꿔서 출력해 보자.\n",
        "a = \"a:b:c:d\"\n",
        "a.replace(':', '#')"
      ],
      "execution_count": null,
      "outputs": [
        {
          "output_type": "execute_result",
          "data": {
            "application/vnd.google.colaboratory.intrinsic+json": {
              "type": "string"
            },
            "text/plain": [
              "'a#b#c#d'"
            ]
          },
          "metadata": {
            "tags": []
          },
          "execution_count": 155
        }
      ]
    },
    {
      "cell_type": "code",
      "metadata": {
        "id": "Do6_5OHlPawx",
        "colab": {
          "base_uri": "https://localhost:8080/",
          "height": 34
        },
        "outputId": "0dfbe392-79c7-4f69-abc2-8b686f74fcd1"
      },
      "source": [
        "# 연습문제\n",
        "# 다음 문자열 a에서 세번째와 네번째 문자를 출력하시오. \n",
        "a = 'apple' \n",
        "a[2:4]"
      ],
      "execution_count": null,
      "outputs": [
        {
          "output_type": "execute_result",
          "data": {
            "application/vnd.google.colaboratory.intrinsic+json": {
              "type": "string"
            },
            "text/plain": [
              "'pl'"
            ]
          },
          "metadata": {
            "tags": []
          },
          "execution_count": 156
        }
      ]
    },
    {
      "cell_type": "code",
      "metadata": {
        "id": "e0GcLaGTs9wd",
        "colab": {
          "base_uri": "https://localhost:8080/",
          "height": 34
        },
        "outputId": "5702a75d-ea32-401a-ea74-5d1956d17689"
      },
      "source": [
        "# 연습문제\n",
        "# 다음 문자열 license에서 마지막 4자리문자만 출력하시오. \n",
        "license = '1가 2345'\n",
        "license[-4:]"
      ],
      "execution_count": null,
      "outputs": [
        {
          "output_type": "execute_result",
          "data": {
            "application/vnd.google.colaboratory.intrinsic+json": {
              "type": "string"
            },
            "text/plain": [
              "'2345'"
            ]
          },
          "metadata": {
            "tags": []
          },
          "execution_count": 157
        }
      ]
    },
    {
      "cell_type": "code",
      "metadata": {
        "id": "UmsFXfpmu65Y",
        "colab": {
          "base_uri": "https://localhost:8080/",
          "height": 34
        },
        "outputId": "e07bf24e-3bf3-473c-94ca-c846485321cc"
      },
      "source": [
        "# 연습문제\n",
        "# 다음 문자열 a에서 홀만 출력하시오.\n",
        "a = '홀짝홀짝홀짝홀짝'\n",
        "a[: :2]"
      ],
      "execution_count": null,
      "outputs": [
        {
          "output_type": "execute_result",
          "data": {
            "application/vnd.google.colaboratory.intrinsic+json": {
              "type": "string"
            },
            "text/plain": [
              "'홀홀홀홀'"
            ]
          },
          "metadata": {
            "tags": []
          },
          "execution_count": 158
        }
      ]
    },
    {
      "cell_type": "code",
      "metadata": {
        "id": "8u8AlU7DvJ3r",
        "colab": {
          "base_uri": "https://localhost:8080/",
          "height": 34
        },
        "outputId": "edb21b76-f75f-4c58-a32e-9d743491f9e1"
      },
      "source": [
        "# 연습문제\n",
        "# 다음 문자열 phone에서 하이푼(-)을 제거하고 숫자만 출력하시오. \n",
        "# 010 1234 5678\n",
        "phone = '010-1234-5678'\n",
        "phone.replace('-',' ')"
      ],
      "execution_count": null,
      "outputs": [
        {
          "output_type": "execute_result",
          "data": {
            "application/vnd.google.colaboratory.intrinsic+json": {
              "type": "string"
            },
            "text/plain": [
              "'010 1234 5678'"
            ]
          },
          "metadata": {
            "tags": []
          },
          "execution_count": 159
        }
      ]
    },
    {
      "cell_type": "code",
      "metadata": {
        "id": "TSBkqwQRvgW_",
        "colab": {
          "base_uri": "https://localhost:8080/",
          "height": 34
        },
        "outputId": "9a526d77-afb3-4571-8636-1e98236b7374"
      },
      "source": [
        "# 연습문제\n",
        "# 다음 문자열 phone을 하이푼(-)을 제거하고 모두 붙여 출력하시오. \n",
        "# 01012345678\n",
        "phone = '010-1234-5678'\n",
        "phone.replace('-','')"
      ],
      "execution_count": null,
      "outputs": [
        {
          "output_type": "execute_result",
          "data": {
            "application/vnd.google.colaboratory.intrinsic+json": {
              "type": "string"
            },
            "text/plain": [
              "'01012345678'"
            ]
          },
          "metadata": {
            "tags": []
          },
          "execution_count": 160
        }
      ]
    },
    {
      "cell_type": "code",
      "metadata": {
        "id": "_HH7lwpGwGKS",
        "colab": {
          "base_uri": "https://localhost:8080/",
          "height": 34
        },
        "outputId": "7aad02ec-48e2-4450-9b61-41e0196b1808"
      },
      "source": [
        "# 연습문제\n",
        "# 다음 URL(Uniform Resource Locator)에서 도메인을 출력하시오. \n",
        "URL = 'https://www.ewha.ac.kr'\n",
        "URL[-2:]"
      ],
      "execution_count": null,
      "outputs": [
        {
          "output_type": "execute_result",
          "data": {
            "application/vnd.google.colaboratory.intrinsic+json": {
              "type": "string"
            },
            "text/plain": [
              "'kr'"
            ]
          },
          "metadata": {
            "tags": []
          },
          "execution_count": 161
        }
      ]
    },
    {
      "cell_type": "code",
      "metadata": {
        "colab": {
          "base_uri": "https://localhost:8080/",
          "height": 34
        },
        "id": "uhKyJVppN5Sv",
        "outputId": "a49f95e8-9075-4961-d956-a2fe929ca860"
      },
      "source": [
        "URL.split('.')[-1]"
      ],
      "execution_count": null,
      "outputs": [
        {
          "output_type": "execute_result",
          "data": {
            "application/vnd.google.colaboratory.intrinsic+json": {
              "type": "string"
            },
            "text/plain": [
              "'kr'"
            ]
          },
          "metadata": {
            "tags": []
          },
          "execution_count": 162
        }
      ]
    },
    {
      "cell_type": "code",
      "metadata": {
        "id": "P7oMzS2JN_Lf"
      },
      "source": [
        ""
      ],
      "execution_count": null,
      "outputs": []
    },
    {
      "cell_type": "code",
      "metadata": {
        "id": "JYNXXz4zN7xM"
      },
      "source": [
        ""
      ],
      "execution_count": null,
      "outputs": []
    },
    {
      "cell_type": "code",
      "metadata": {
        "id": "k0RUB7vLxeJo",
        "colab": {
          "base_uri": "https://localhost:8080/"
        },
        "outputId": "daf07c30-2cc5-42d7-96f5-c755e11a6f1b"
      },
      "source": [
        "# 연습문제\n",
        "# 다음 문자열 number를 콤마를 제거하고 정수로 변환하시오. \n",
        "number = '123,456,789'\n",
        "int(number.replace(',', ''))"
      ],
      "execution_count": null,
      "outputs": [
        {
          "output_type": "execute_result",
          "data": {
            "text/plain": [
              "123456789"
            ]
          },
          "metadata": {
            "tags": []
          },
          "execution_count": 163
        }
      ]
    },
    {
      "cell_type": "code",
      "metadata": {
        "id": "jB1GPo9mzT3w",
        "colab": {
          "base_uri": "https://localhost:8080/"
        },
        "outputId": "2d8ccb81-baed-4772-c625-b6db0f176c27"
      },
      "source": [
        "# 연습문제\n",
        "# 다음 문자열 date를 연도,월,일로 나누어 보시오. \n",
        "date = '2021-05-04'\n",
        "date.split('-')"
      ],
      "execution_count": null,
      "outputs": [
        {
          "output_type": "execute_result",
          "data": {
            "text/plain": [
              "['2021', '05', '04']"
            ]
          },
          "metadata": {
            "tags": []
          },
          "execution_count": 164
        }
      ]
    },
    {
      "cell_type": "markdown",
      "metadata": {
        "id": "OAw__M8iZ4i-"
      },
      "source": [
        "# String formatting (old style)"
      ]
    },
    {
      "cell_type": "code",
      "metadata": {
        "colab": {
          "base_uri": "https://localhost:8080/"
        },
        "id": "1osWIEaYaDtT",
        "outputId": "b4677bd6-1c56-40c8-88c3-32e132bba030"
      },
      "source": [
        "# %s: 이 위치에 문자열(string)을 넣으라는 뜻\n",
        "# %s 를 변환지시어(conversion specifier)라고 함\n",
        "# %s: 문자열(string)\n",
        "# %d: 정수(integer)\n",
        "# %f: 부동소수(float)\n",
        "print('My name is %s\"' % 'sunbok')"
      ],
      "execution_count": null,
      "outputs": [
        {
          "output_type": "stream",
          "text": [
            "My name is sunbok\"\n"
          ],
          "name": "stdout"
        }
      ]
    },
    {
      "cell_type": "code",
      "metadata": {
        "colab": {
          "base_uri": "https://localhost:8080/",
          "height": 34
        },
        "id": "S8y3RmByeJ9h",
        "outputId": "e2f4f55e-b039-4752-a597-68180ff9b0c1"
      },
      "source": [
        "# 대체할 값들은 튜플(tuple)로 묶어주어야 함\n",
        "# 기본형식: '  %d    %s   ' % (value, value)\n",
        "# 변환지시어와 값(value)은 타입이 일치해야 함\n",
        "'%s은 지난 %d년동안 %f%% 성장하였다.' % ('한국',10, 20)"
      ],
      "execution_count": null,
      "outputs": [
        {
          "output_type": "execute_result",
          "data": {
            "application/vnd.google.colaboratory.intrinsic+json": {
              "type": "string"
            },
            "text/plain": [
              "'한국은 지난 10년동안 20.000000% 성장하였다.'"
            ]
          },
          "metadata": {
            "tags": []
          },
          "execution_count": 166
        }
      ]
    },
    {
      "cell_type": "code",
      "metadata": {
        "colab": {
          "base_uri": "https://localhost:8080/",
          "height": 34
        },
        "id": "yaXVKGo8kCaX",
        "outputId": "4b229eee-a30b-49f6-87ed-5c9f57f15846"
      },
      "source": [
        "# %[flag][width][.precision]f\n",
        "# %10.2f: 전체 10자리, 오른쪽 정렬, 소수점 2자리\n",
        "# %% escape %\n",
        "'%s은 지난 %d동안 %2.2f%% 성장하였다.' % ('한국',10, 20)"
      ],
      "execution_count": null,
      "outputs": [
        {
          "output_type": "execute_result",
          "data": {
            "application/vnd.google.colaboratory.intrinsic+json": {
              "type": "string"
            },
            "text/plain": [
              "'한국은 지난 10동안 20.00% 성장하였다.'"
            ]
          },
          "metadata": {
            "tags": []
          },
          "execution_count": 167
        }
      ]
    },
    {
      "cell_type": "code",
      "metadata": {
        "colab": {
          "base_uri": "https://localhost:8080/",
          "height": 34
        },
        "id": "BHKxmaC7n9AK",
        "outputId": "d143a58a-ce9a-4a77-9969-25b5f83e3791"
      },
      "source": [
        "# 대체할 값들로 딕셔너리(dictionary)도 가능\n",
        "# 기본형식: `   %(key)d  %(key)s    ` % { key : value, key : value}\n",
        "'%(국가)s은 지난 %(year)d동안 %(성장률)-10.2f%% 성장하였다.' % {'국가' : '한국', 'year' : 10, '성장률' : 20}"
      ],
      "execution_count": null,
      "outputs": [
        {
          "output_type": "execute_result",
          "data": {
            "application/vnd.google.colaboratory.intrinsic+json": {
              "type": "string"
            },
            "text/plain": [
              "'한국은 지난 10동안 20.00     % 성장하였다.'"
            ]
          },
          "metadata": {
            "tags": []
          },
          "execution_count": 168
        }
      ]
    },
    {
      "cell_type": "code",
      "metadata": {
        "id": "e9vGoH0eMlua",
        "colab": {
          "base_uri": "https://localhost:8080/",
          "height": 34
        },
        "outputId": "0684e610-3157-415e-8d02-0ea5ce61abf0"
      },
      "source": [
        "# 연습문제\n",
        "# '이화여자대학교 일반대학원의 현재 정원은 2832명입니다.' 을 출력할때\n",
        "# '이화여자대학교'와 2832를 string formatting을 처리하여 출력\n",
        "'%s 일반대학원의 현재 정원은 %d명입니다.'%('이화여자대학교',2832)"
      ],
      "execution_count": null,
      "outputs": [
        {
          "output_type": "execute_result",
          "data": {
            "application/vnd.google.colaboratory.intrinsic+json": {
              "type": "string"
            },
            "text/plain": [
              "'이화여자대학교 일반대학원의 현재 정원은 2832명입니다.'"
            ]
          },
          "metadata": {
            "tags": []
          },
          "execution_count": 169
        }
      ]
    },
    {
      "cell_type": "markdown",
      "metadata": {
        "id": "GT200mwJd-x7"
      },
      "source": [
        "# String formatting (str.format() method, Python 3.0+)"
      ]
    },
    {
      "cell_type": "code",
      "metadata": {
        "colab": {
          "base_uri": "https://localhost:8080/",
          "height": 34
        },
        "id": "VjEH-aOQn8PQ",
        "outputId": "cdf389ac-184b-4b7b-eaf8-2ee795808eb0"
      },
      "source": [
        "# 변환지시자(conversion specifier)를 더이상 사용하지 않음\n",
        "# {0}은 format()메서드의 첫번째 전달인자(argument)로 대체됨 \n",
        "# {1}은 format()메서드의 두번째 전달인자(argument)로 대체됨 \n",
        "'{0}은 지난 {1}동안 {2}% 성장하였다.'.format('한국', 10, 20)"
      ],
      "execution_count": null,
      "outputs": [
        {
          "output_type": "execute_result",
          "data": {
            "application/vnd.google.colaboratory.intrinsic+json": {
              "type": "string"
            },
            "text/plain": [
              "'한국은 지난 10동안 20% 성장하였다.'"
            ]
          },
          "metadata": {
            "tags": []
          },
          "execution_count": 170
        }
      ]
    },
    {
      "cell_type": "code",
      "metadata": {
        "colab": {
          "base_uri": "https://localhost:8080/",
          "height": 34
        },
        "id": "W3nbggzPyFng",
        "outputId": "bc85d156-1a1c-4bbe-ff9e-ec96e7dd70c0"
      },
      "source": [
        "# format()메서드의 전달인자를 순서대로 출력하는 경우는 {}안의 숫자생략가능\n",
        "'{}은 지난 {}동안 {}% 성장하였다.'.format('한국', 10, 20)"
      ],
      "execution_count": null,
      "outputs": [
        {
          "output_type": "execute_result",
          "data": {
            "application/vnd.google.colaboratory.intrinsic+json": {
              "type": "string"
            },
            "text/plain": [
              "'한국은 지난 10동안 20% 성장하였다.'"
            ]
          },
          "metadata": {
            "tags": []
          },
          "execution_count": 171
        }
      ]
    },
    {
      "cell_type": "code",
      "metadata": {
        "colab": {
          "base_uri": "https://localhost:8080/",
          "height": 34
        },
        "id": "d0lVL-DQz1TU",
        "outputId": "640b07f0-9728-42ad-da0a-b6135e9d4a27"
      },
      "source": [
        "# format()메서드의 전달인자를 순서대로 출력하는 경우는 {}안의 숫자생략가능\n",
        "'{국가}은 지난 {year}동안 {성장률}% 성장하였다.'.format(국가 = '한국', year = 10, 성장률 = 20)"
      ],
      "execution_count": null,
      "outputs": [
        {
          "output_type": "execute_result",
          "data": {
            "application/vnd.google.colaboratory.intrinsic+json": {
              "type": "string"
            },
            "text/plain": [
              "'한국은 지난 10동안 20% 성장하였다.'"
            ]
          },
          "metadata": {
            "tags": []
          },
          "execution_count": 172
        }
      ]
    },
    {
      "cell_type": "code",
      "metadata": {
        "colab": {
          "base_uri": "https://localhost:8080/",
          "height": 34
        },
        "id": "rYi7uHMgx2jz",
        "outputId": "de202604-01f9-4596-e959-205ec51ee2b4"
      },
      "source": [
        "# 왼쪽으로 정렬\n",
        "'{0}은 지난 {1}동안 {2:<10.2f}% 성장하였다.'.format('한국', 10, 20)"
      ],
      "execution_count": null,
      "outputs": [
        {
          "output_type": "execute_result",
          "data": {
            "application/vnd.google.colaboratory.intrinsic+json": {
              "type": "string"
            },
            "text/plain": [
              "'한국은 지난 10동안 20.00     % 성장하였다.'"
            ]
          },
          "metadata": {
            "tags": []
          },
          "execution_count": 173
        }
      ]
    },
    {
      "cell_type": "code",
      "metadata": {
        "colab": {
          "base_uri": "https://localhost:8080/",
          "height": 34
        },
        "id": "h-wWeSM5xvZF",
        "outputId": "c5a0ac3f-2765-4cb8-e138-2285c1670732"
      },
      "source": [
        "# 오른쪽으로 정렬\n",
        "'{0}은 지난 {1}동안 {2:>10.2f}% 성장하였다.'.format('한국', 10, 20)"
      ],
      "execution_count": null,
      "outputs": [
        {
          "output_type": "execute_result",
          "data": {
            "application/vnd.google.colaboratory.intrinsic+json": {
              "type": "string"
            },
            "text/plain": [
              "'한국은 지난 10동안      20.00% 성장하였다.'"
            ]
          },
          "metadata": {
            "tags": []
          },
          "execution_count": 174
        }
      ]
    },
    {
      "cell_type": "code",
      "metadata": {
        "id": "QGkpzpqWJRf9",
        "colab": {
          "base_uri": "https://localhost:8080/",
          "height": 34
        },
        "outputId": "11898d7e-2ef5-4a1b-bf3f-cb0dac4852e8"
      },
      "source": [
        "# 연습문제\n",
        "# '이화여자대학교 일반대학원의 현재 정원은 2832명입니다.' 을 출력할때\n",
        "# '이화여자대학교'와 2832를 string formatting을 처리하여 출력하시오. \n",
        "'{0} 일반대학원의 현재 정원은 {1}명입니다.'.format('이화여자대학교','2832')"
      ],
      "execution_count": null,
      "outputs": [
        {
          "output_type": "execute_result",
          "data": {
            "application/vnd.google.colaboratory.intrinsic+json": {
              "type": "string"
            },
            "text/plain": [
              "'이화여자대학교 일반대학원의 현재 정원은 2832명입니다.'"
            ]
          },
          "metadata": {
            "tags": []
          },
          "execution_count": 175
        }
      ]
    },
    {
      "cell_type": "markdown",
      "metadata": {
        "id": "nAXBPoJAzesp"
      },
      "source": [
        "# String formatting (f-string, Python 3.6+)"
      ]
    },
    {
      "cell_type": "code",
      "metadata": {
        "id": "WSatJhSK0bqQ"
      },
      "source": [
        "name = '한국'\n",
        "year = 10\n",
        "growth = 20"
      ],
      "execution_count": null,
      "outputs": []
    },
    {
      "cell_type": "code",
      "metadata": {
        "colab": {
          "base_uri": "https://localhost:8080/",
          "height": 34
        },
        "id": "y8bI9s1607wc",
        "outputId": "dccb47ee-b25c-4724-9dd8-bbfb22a087ef"
      },
      "source": [
        "# f'   {any Python expression}   '\n",
        "# 왼쪽 정렬\n",
        "f'{name}은 지난 {year}동안 {growth:<10.2f}% 성장하였다.'"
      ],
      "execution_count": null,
      "outputs": [
        {
          "output_type": "execute_result",
          "data": {
            "application/vnd.google.colaboratory.intrinsic+json": {
              "type": "string"
            },
            "text/plain": [
              "'한국은 지난 10동안 20.00     % 성장하였다.'"
            ]
          },
          "metadata": {
            "tags": []
          },
          "execution_count": 177
        }
      ]
    },
    {
      "cell_type": "code",
      "metadata": {
        "colab": {
          "base_uri": "https://localhost:8080/",
          "height": 34
        },
        "id": "0KntI9Wg1hzb",
        "outputId": "87f1606e-a757-40ed-e9c8-f5e8373d0842"
      },
      "source": [
        "# 오른쪽 정렬\n",
        "f'{name}은 지난 {year}동안 {growth:>10.2f}% 성장하였다.'"
      ],
      "execution_count": null,
      "outputs": [
        {
          "output_type": "execute_result",
          "data": {
            "application/vnd.google.colaboratory.intrinsic+json": {
              "type": "string"
            },
            "text/plain": [
              "'한국은 지난 10동안      20.00% 성장하였다.'"
            ]
          },
          "metadata": {
            "tags": []
          },
          "execution_count": 178
        }
      ]
    },
    {
      "cell_type": "code",
      "metadata": {
        "colab": {
          "base_uri": "https://localhost:8080/",
          "height": 34
        },
        "id": "HBLTCalA112G",
        "outputId": "26a8aca1-9300-49bd-ae07-579eccb8a5ab"
      },
      "source": [
        "# 가운데 정렬\n",
        "f'{name}은 지난 {year}동안 {growth:^10.2f}% 성장하였다.'"
      ],
      "execution_count": null,
      "outputs": [
        {
          "output_type": "execute_result",
          "data": {
            "application/vnd.google.colaboratory.intrinsic+json": {
              "type": "string"
            },
            "text/plain": [
              "'한국은 지난 10동안   20.00   % 성장하였다.'"
            ]
          },
          "metadata": {
            "tags": []
          },
          "execution_count": 179
        }
      ]
    },
    {
      "cell_type": "code",
      "metadata": {
        "id": "86SBTl6P2h19"
      },
      "source": [
        "a = 1\n",
        "b = 2"
      ],
      "execution_count": null,
      "outputs": []
    },
    {
      "cell_type": "code",
      "metadata": {
        "colab": {
          "base_uri": "https://localhost:8080/",
          "height": 34
        },
        "id": "izxa1rkK2kTs",
        "outputId": "6c907d5f-8d1b-4ed8-a8aa-6a43290ccd95"
      },
      "source": [
        "# { } 안에는 어떤 파이썬 표현식도 가능함\n",
        "f'a + b = {a + b}'"
      ],
      "execution_count": null,
      "outputs": [
        {
          "output_type": "execute_result",
          "data": {
            "application/vnd.google.colaboratory.intrinsic+json": {
              "type": "string"
            },
            "text/plain": [
              "'a + b = 3'"
            ]
          },
          "metadata": {
            "tags": []
          },
          "execution_count": 181
        }
      ]
    },
    {
      "cell_type": "code",
      "metadata": {
        "id": "AmkwCSl3JTGL",
        "colab": {
          "base_uri": "https://localhost:8080/",
          "height": 34
        },
        "outputId": "4ed7fe66-f701-4686-a65f-2b2b5bdf6924"
      },
      "source": [
        "# 연습문제\n",
        "# '이화여자대학교 일반대학원의 현재 정원은 2832명입니다.' 을 출력할때\n",
        "# '이화여자대학교'와 2832를 string formatting을 처리하여 출력하시오. \n",
        "school = '이화여자대학교'\n",
        "num_students = 2832\n",
        "f'{school} 일반대학원의 현재 정원은 {num_students}명입니다.'"
      ],
      "execution_count": null,
      "outputs": [
        {
          "output_type": "execute_result",
          "data": {
            "application/vnd.google.colaboratory.intrinsic+json": {
              "type": "string"
            },
            "text/plain": [
              "'이화여자대학교 일반대학원의 현재 정원은 2832명입니다.'"
            ]
          },
          "metadata": {
            "tags": []
          },
          "execution_count": 182
        }
      ]
    },
    {
      "cell_type": "markdown",
      "metadata": {
        "id": "pOepF9RmJrD4"
      },
      "source": [
        "# 리스트 (List)\n",
        "* 리스트는 [ ]사이에 콤마로 분리된 값들\n",
        "* 리스트는 다른 타입의 값들을 가질수 있으나 보통은 같은 타입의 값을 가짐\n",
        "* 리스트는 가변(mutable)\n",
        "* 인덱싱과 슬라이싱은 문자열과 동일"
      ]
    },
    {
      "cell_type": "code",
      "metadata": {
        "id": "R7BxwV8ILXv6"
      },
      "source": [
        "# 리스트는 [ ]로 생성\n",
        "lst = [100, 90, 80, 70, 60]"
      ],
      "execution_count": null,
      "outputs": []
    },
    {
      "cell_type": "code",
      "metadata": {
        "id": "vpvS04eqLrx-"
      },
      "source": [
        "# nested list\n",
        "lst = [ [1,2,3], [4,5,6], [7,8,9] ]"
      ],
      "execution_count": null,
      "outputs": []
    },
    {
      "cell_type": "code",
      "metadata": {
        "colab": {
          "base_uri": "https://localhost:8080/"
        },
        "id": "OLmalT94Luhk",
        "outputId": "822380e5-899d-410e-d6bf-55c7cf20552f"
      },
      "source": [
        "# nested list\n",
        "lst[0][0]"
      ],
      "execution_count": null,
      "outputs": [
        {
          "output_type": "execute_result",
          "data": {
            "text/plain": [
              "1"
            ]
          },
          "metadata": {
            "tags": []
          },
          "execution_count": 185
        }
      ]
    },
    {
      "cell_type": "code",
      "metadata": {
        "colab": {
          "base_uri": "https://localhost:8080/"
        },
        "id": "r23fGlRcL2I2",
        "outputId": "b37e166c-7b9e-4ac5-9fe3-191d5b8e7425"
      },
      "source": [
        "# nested list\n",
        "lst[2][1]"
      ],
      "execution_count": null,
      "outputs": [
        {
          "output_type": "execute_result",
          "data": {
            "text/plain": [
              "8"
            ]
          },
          "metadata": {
            "tags": []
          },
          "execution_count": 186
        }
      ]
    },
    {
      "cell_type": "code",
      "metadata": {
        "colab": {
          "base_uri": "https://localhost:8080/"
        },
        "id": "_OuvmdZVL-P7",
        "outputId": "0ef46da4-efd0-4c45-88bf-1e970070a825"
      },
      "source": [
        "# 곱셈 연산자로 요소 할당\n",
        "[1, 2, 3] * 3"
      ],
      "execution_count": null,
      "outputs": [
        {
          "output_type": "execute_result",
          "data": {
            "text/plain": [
              "[1, 2, 3, 1, 2, 3, 1, 2, 3]"
            ]
          },
          "metadata": {
            "tags": []
          },
          "execution_count": 187
        }
      ]
    },
    {
      "cell_type": "code",
      "metadata": {
        "colab": {
          "base_uri": "https://localhost:8080/"
        },
        "id": "_yjZA6ZnMMo8",
        "outputId": "04263021-994a-4d1d-deec-a8f54d9526d4"
      },
      "source": [
        "# 덧셈 연산자로 리스트 결합하기 (concatanation)\n",
        "[1, 2] + [3, 4]"
      ],
      "execution_count": null,
      "outputs": [
        {
          "output_type": "execute_result",
          "data": {
            "text/plain": [
              "[1, 2, 3, 4]"
            ]
          },
          "metadata": {
            "tags": []
          },
          "execution_count": 188
        }
      ]
    },
    {
      "cell_type": "code",
      "metadata": {
        "colab": {
          "base_uri": "https://localhost:8080/"
        },
        "id": "KimY-vYfMTyG",
        "outputId": "b10f763f-91b0-4741-d273-cc3f2ca0946c"
      },
      "source": [
        "# in 연산자로 리스트 요소 확인하기\n",
        "2 in [1,2,3,4,5]"
      ],
      "execution_count": null,
      "outputs": [
        {
          "output_type": "execute_result",
          "data": {
            "text/plain": [
              "True"
            ]
          },
          "metadata": {
            "tags": []
          },
          "execution_count": 189
        }
      ]
    },
    {
      "cell_type": "code",
      "metadata": {
        "colab": {
          "base_uri": "https://localhost:8080/"
        },
        "id": "t663CHrSMbMY",
        "outputId": "869c3d48-30ce-4427-eba0-b6b6a8b90f90"
      },
      "source": [
        "# not in 연산자로 리스트 요소 확인하기\n",
        "2 not in [1,2,3,4,5]"
      ],
      "execution_count": null,
      "outputs": [
        {
          "output_type": "execute_result",
          "data": {
            "text/plain": [
              "False"
            ]
          },
          "metadata": {
            "tags": []
          },
          "execution_count": 190
        }
      ]
    },
    {
      "cell_type": "code",
      "metadata": {
        "colab": {
          "base_uri": "https://localhost:8080/"
        },
        "id": "Vc06-zcIMfq_",
        "outputId": "109a29bf-a585-4f52-8809-dcec9778ea50"
      },
      "source": [
        "# 슬라이싱\n",
        "lst = [ 0, 1, 2, [3, 4, 5] ] \n",
        "lst[3][0 : 2]"
      ],
      "execution_count": null,
      "outputs": [
        {
          "output_type": "execute_result",
          "data": {
            "text/plain": [
              "[3, 4]"
            ]
          },
          "metadata": {
            "tags": []
          },
          "execution_count": 191
        }
      ]
    },
    {
      "cell_type": "code",
      "metadata": {
        "colab": {
          "base_uri": "https://localhost:8080/"
        },
        "id": "CE8vQo8VMw43",
        "outputId": "a4574c66-0d03-403b-e8db-d9752730f962"
      },
      "source": [
        "# 리스트 수정\n",
        "lst[0] = 1\n",
        "lst"
      ],
      "execution_count": null,
      "outputs": [
        {
          "output_type": "execute_result",
          "data": {
            "text/plain": [
              "[1, 1, 2, [3, 4, 5]]"
            ]
          },
          "metadata": {
            "tags": []
          },
          "execution_count": 192
        }
      ]
    },
    {
      "cell_type": "code",
      "metadata": {
        "colab": {
          "base_uri": "https://localhost:8080/"
        },
        "id": "QUqC78-lRAwg",
        "outputId": "a8df51ca-ec17-4902-9e43-716023eabf46"
      },
      "source": [
        "dir([1,2,3])"
      ],
      "execution_count": null,
      "outputs": [
        {
          "output_type": "execute_result",
          "data": {
            "text/plain": [
              "['__add__',\n",
              " '__class__',\n",
              " '__contains__',\n",
              " '__delattr__',\n",
              " '__delitem__',\n",
              " '__dir__',\n",
              " '__doc__',\n",
              " '__eq__',\n",
              " '__format__',\n",
              " '__ge__',\n",
              " '__getattribute__',\n",
              " '__getitem__',\n",
              " '__gt__',\n",
              " '__hash__',\n",
              " '__iadd__',\n",
              " '__imul__',\n",
              " '__init__',\n",
              " '__init_subclass__',\n",
              " '__iter__',\n",
              " '__le__',\n",
              " '__len__',\n",
              " '__lt__',\n",
              " '__mul__',\n",
              " '__ne__',\n",
              " '__new__',\n",
              " '__reduce__',\n",
              " '__reduce_ex__',\n",
              " '__repr__',\n",
              " '__reversed__',\n",
              " '__rmul__',\n",
              " '__setattr__',\n",
              " '__setitem__',\n",
              " '__sizeof__',\n",
              " '__str__',\n",
              " '__subclasshook__',\n",
              " 'append',\n",
              " 'clear',\n",
              " 'copy',\n",
              " 'count',\n",
              " 'extend',\n",
              " 'index',\n",
              " 'insert',\n",
              " 'pop',\n",
              " 'remove',\n",
              " 'reverse',\n",
              " 'sort']"
            ]
          },
          "metadata": {
            "tags": []
          },
          "execution_count": 193
        }
      ]
    },
    {
      "cell_type": "code",
      "metadata": {
        "id": "ewoPFAKvRCQK"
      },
      "source": [
        ""
      ],
      "execution_count": null,
      "outputs": []
    },
    {
      "cell_type": "code",
      "metadata": {
        "colab": {
          "base_uri": "https://localhost:8080/"
        },
        "id": "VYQST2bVM5Rn",
        "outputId": "d85fa2e4-be7e-4ee1-ba5d-1aa01b108eba"
      },
      "source": [
        "# extend() : 리스트에 여러개의 요소를 한번에 추가\n",
        "lst1 = [1, 2, 3]\n",
        "lst2 = [4, 5, 6]\n",
        "lst1.extend(lst2)\n",
        "lst1"
      ],
      "execution_count": null,
      "outputs": [
        {
          "output_type": "execute_result",
          "data": {
            "text/plain": [
              "[1, 2, 3, 4, 5, 6]"
            ]
          },
          "metadata": {
            "tags": []
          },
          "execution_count": 194
        }
      ]
    },
    {
      "cell_type": "code",
      "metadata": {
        "colab": {
          "base_uri": "https://localhost:8080/"
        },
        "id": "dR-R4sqRNOzq",
        "outputId": "24dc6471-7635-4916-8ff7-7a13e4fb7509"
      },
      "source": [
        "# append() : 리스트에 제일 뒤에 1 개 요소를 추가\n",
        "lst = ['a', 'b', 'c']\n",
        "lst.append('d')\n",
        "lst"
      ],
      "execution_count": null,
      "outputs": [
        {
          "output_type": "execute_result",
          "data": {
            "text/plain": [
              "['a', 'b', 'c', 'd']"
            ]
          },
          "metadata": {
            "tags": []
          },
          "execution_count": 195
        }
      ]
    },
    {
      "cell_type": "code",
      "metadata": {
        "colab": {
          "base_uri": "https://localhost:8080/"
        },
        "id": "FgBPXb1VM3gT",
        "outputId": "cf51eb98-8c99-451e-a550-3286022cd141"
      },
      "source": [
        "# insert() : 리스트의 특정 위치에 요소를 삽입\n",
        "lst = [1, 2, 3]\n",
        "lst.insert(1, 10)  \n",
        "lst"
      ],
      "execution_count": null,
      "outputs": [
        {
          "output_type": "execute_result",
          "data": {
            "text/plain": [
              "[1, 10, 2, 3]"
            ]
          },
          "metadata": {
            "tags": []
          },
          "execution_count": 196
        }
      ]
    },
    {
      "cell_type": "code",
      "metadata": {
        "colab": {
          "base_uri": "https://localhost:8080/"
        },
        "id": "qcAcpU3DOGgO",
        "outputId": "281d7190-2627-4c4f-a156-7d9f65295f42"
      },
      "source": [
        "# clear() : 리스트의 모든 요소를 삭제\n",
        "lst = [1, 2, 3]\n",
        "lst.clear()\n",
        "lst"
      ],
      "execution_count": null,
      "outputs": [
        {
          "output_type": "execute_result",
          "data": {
            "text/plain": [
              "[]"
            ]
          },
          "metadata": {
            "tags": []
          },
          "execution_count": 197
        }
      ]
    },
    {
      "cell_type": "code",
      "metadata": {
        "colab": {
          "base_uri": "https://localhost:8080/"
        },
        "id": "IAQOmBRAOUXR",
        "outputId": "bd198d29-d3e9-461f-a8bf-fbd7933d42a4"
      },
      "source": [
        "# del : 리스트내 요소 삭제\n",
        "# del lst : lst 리스트 전체 삭제\n",
        "lst = [1, 2, 3]\n",
        "del lst[2]\n",
        "lst"
      ],
      "execution_count": null,
      "outputs": [
        {
          "output_type": "execute_result",
          "data": {
            "text/plain": [
              "[1, 2]"
            ]
          },
          "metadata": {
            "tags": []
          },
          "execution_count": 198
        }
      ]
    },
    {
      "cell_type": "code",
      "metadata": {
        "colab": {
          "base_uri": "https://localhost:8080/"
        },
        "id": "1loPuk3UOhqT",
        "outputId": "64f0b097-82b0-4492-9e85-80307736c762"
      },
      "source": [
        "# pop() : 마지막 요소를 출력한후 삭제\n",
        "lst = [1, 2, 3]\n",
        "lst.pop()"
      ],
      "execution_count": null,
      "outputs": [
        {
          "output_type": "execute_result",
          "data": {
            "text/plain": [
              "3"
            ]
          },
          "metadata": {
            "tags": []
          },
          "execution_count": 199
        }
      ]
    },
    {
      "cell_type": "code",
      "metadata": {
        "colab": {
          "base_uri": "https://localhost:8080/"
        },
        "id": "nt9A7V9wO_Lj",
        "outputId": "3cec05fb-2502-4b4d-a34d-a0de65c6b1c6"
      },
      "source": [
        "lst"
      ],
      "execution_count": null,
      "outputs": [
        {
          "output_type": "execute_result",
          "data": {
            "text/plain": [
              "[1, 2]"
            ]
          },
          "metadata": {
            "tags": []
          },
          "execution_count": 200
        }
      ]
    },
    {
      "cell_type": "code",
      "metadata": {
        "colab": {
          "base_uri": "https://localhost:8080/"
        },
        "id": "joBsmHyVPQ-U",
        "outputId": "3e939649-8de4-4898-ae26-01e0ea5a2d13"
      },
      "source": [
        "# list() : 리스트로 변환\n",
        "list(\"Ewha\")"
      ],
      "execution_count": null,
      "outputs": [
        {
          "output_type": "execute_result",
          "data": {
            "text/plain": [
              "['E', 'w', 'h', 'a']"
            ]
          },
          "metadata": {
            "tags": []
          },
          "execution_count": 201
        }
      ]
    },
    {
      "cell_type": "code",
      "metadata": {
        "colab": {
          "base_uri": "https://localhost:8080/"
        },
        "id": "iTwduYqlQck3",
        "outputId": "4eb286f6-3b4b-49ea-881a-c6a16aaf4e82"
      },
      "source": [
        "# sort() : 리스트 정렬\n",
        "lst = [2, 3, 1]\n",
        "lst.sort()\n",
        "lst"
      ],
      "execution_count": null,
      "outputs": [
        {
          "output_type": "execute_result",
          "data": {
            "text/plain": [
              "[1, 2, 3]"
            ]
          },
          "metadata": {
            "tags": []
          },
          "execution_count": 202
        }
      ]
    },
    {
      "cell_type": "code",
      "metadata": {
        "colab": {
          "base_uri": "https://localhost:8080/"
        },
        "id": "lQQHtaANQoHM",
        "outputId": "d04f6294-18d3-421f-d735-868219ede2c8"
      },
      "source": [
        "# sort() : 리스트 정렬\n",
        "lst = [2, 3, 1]\n",
        "lst.sort(reverse = True)\n",
        "lst"
      ],
      "execution_count": null,
      "outputs": [
        {
          "output_type": "execute_result",
          "data": {
            "text/plain": [
              "[3, 2, 1]"
            ]
          },
          "metadata": {
            "tags": []
          },
          "execution_count": 203
        }
      ]
    },
    {
      "cell_type": "code",
      "metadata": {
        "colab": {
          "base_uri": "https://localhost:8080/"
        },
        "id": "v0h2t80oQuyz",
        "outputId": "2eb090ff-f1e0-49fb-ce51-7d6bb2655624"
      },
      "source": [
        "# reverse() : 리스트를 역순으로\n",
        "lst = [2, 3, 1]\n",
        "lst.reverse()\n",
        "lst"
      ],
      "execution_count": null,
      "outputs": [
        {
          "output_type": "execute_result",
          "data": {
            "text/plain": [
              "[1, 3, 2]"
            ]
          },
          "metadata": {
            "tags": []
          },
          "execution_count": 204
        }
      ]
    },
    {
      "cell_type": "code",
      "metadata": {
        "colab": {
          "base_uri": "https://localhost:8080/"
        },
        "id": "-oYlNOzgQ4Iq",
        "outputId": "e1e23f48-6e26-4474-db7a-737acc955d0d"
      },
      "source": [
        "# index() : 인수로 지정된 요소의 인덱스 번호\n",
        "lst = [1, 2, 3, 4]\n",
        "lst.index(2)"
      ],
      "execution_count": null,
      "outputs": [
        {
          "output_type": "execute_result",
          "data": {
            "text/plain": [
              "1"
            ]
          },
          "metadata": {
            "tags": []
          },
          "execution_count": 205
        }
      ]
    },
    {
      "cell_type": "code",
      "metadata": {
        "colab": {
          "base_uri": "https://localhost:8080/"
        },
        "id": "-5bWbE_DRObz",
        "outputId": "a0fee93c-2805-457b-bfaf-b27788fab774"
      },
      "source": [
        "# count() : 인수로 지정된 요소의 개수\n",
        "lst = [1, 2, 3, 2]\n",
        "lst.count(2)"
      ],
      "execution_count": null,
      "outputs": [
        {
          "output_type": "execute_result",
          "data": {
            "text/plain": [
              "2"
            ]
          },
          "metadata": {
            "tags": []
          },
          "execution_count": 206
        }
      ]
    },
    {
      "cell_type": "code",
      "metadata": {
        "id": "KDauBnWiBcp8"
      },
      "source": [
        "def sum( a ):\n",
        "    total = 0\n",
        "    for i in a :\n",
        "        total += i\n",
        "    return total  "
      ],
      "execution_count": null,
      "outputs": []
    },
    {
      "cell_type": "code",
      "metadata": {
        "colab": {
          "base_uri": "https://localhost:8080/"
        },
        "id": "uRjRumSbP-10",
        "outputId": "f36bfb29-faf4-4726-d301-040d37a871ee"
      },
      "source": [
        "# sum() : 리스트 요소 값을 모두 더하는 함수\n",
        "lst = [1, 2, 3]\n",
        "sum(lst)"
      ],
      "execution_count": null,
      "outputs": [
        {
          "output_type": "execute_result",
          "data": {
            "text/plain": [
              "6"
            ]
          },
          "metadata": {
            "tags": []
          },
          "execution_count": 215
        }
      ]
    },
    {
      "cell_type": "code",
      "metadata": {
        "colab": {
          "base_uri": "https://localhost:8080/"
        },
        "id": "RGL5AW22QPlf",
        "outputId": "95b97240-fd4c-4451-ac9f-e325f0395b9b"
      },
      "source": [
        "# max(), min() : 리스트의 최대값과 최소값\n",
        "max(lst)\n",
        "min(lst)"
      ],
      "execution_count": null,
      "outputs": [
        {
          "output_type": "execute_result",
          "data": {
            "text/plain": [
              "1"
            ]
          },
          "metadata": {
            "tags": []
          },
          "execution_count": 91
        }
      ]
    },
    {
      "cell_type": "code",
      "metadata": {
        "id": "2uu-FqIl2POc",
        "colab": {
          "base_uri": "https://localhost:8080/"
        },
        "outputId": "cff7199a-6e01-40e7-fba2-2d2c035f579e"
      },
      "source": [
        "# 연습문제\n",
        "# 리스트 생성\n",
        "# '비와 당신의 이야기', '더 스파이', '내일의 기억' 로 리스트 lst를 생성하시오. \n",
        "lst = ['비와 당신의 이야기', '더 스파이', '내일의 기억']\n",
        "lst"
      ],
      "execution_count": null,
      "outputs": [
        {
          "output_type": "execute_result",
          "data": {
            "text/plain": [
              "['비와 당신의 이야기', '더 스파이', '내일의 기억']"
            ]
          },
          "metadata": {
            "tags": []
          },
          "execution_count": 104
        }
      ]
    },
    {
      "cell_type": "code",
      "metadata": {
        "id": "3yk4fo2r22Bq",
        "colab": {
          "base_uri": "https://localhost:8080/"
        },
        "outputId": "84221ea1-9ec7-49e6-b4f9-559f591263b6"
      },
      "source": [
        "# 연습문제\n",
        "# 요소 추가\n",
        "# 위 lst에 '미나리'를 추가하시오\n",
        "lst.append('미나리')\n",
        "lst"
      ],
      "execution_count": null,
      "outputs": [
        {
          "output_type": "execute_result",
          "data": {
            "text/plain": [
              "['비와 당신의 이야기', '더 스파이', '내일의 기억', '미나리']"
            ]
          },
          "metadata": {
            "tags": []
          },
          "execution_count": 105
        }
      ]
    },
    {
      "cell_type": "code",
      "metadata": {
        "id": "BlTC7VZ_3PP2",
        "colab": {
          "base_uri": "https://localhost:8080/"
        },
        "outputId": "a5a7eb3a-8726-4bda-c03b-8db8b8e7bdf2"
      },
      "source": [
        "# 연습문제\n",
        "# 요소 추가\n",
        "# 위 lst에 '내일의 기억'과 '미나리'사이에 '자산어보'를 추가하시오.\n",
        "lst.insert(3,'자산어보')\n",
        "lst"
      ],
      "execution_count": null,
      "outputs": [
        {
          "output_type": "execute_result",
          "data": {
            "text/plain": [
              "['비와 당신의 이야기', '더 스파이', '내일의 기억', '자산어보', '미나리']"
            ]
          },
          "metadata": {
            "tags": []
          },
          "execution_count": 106
        }
      ]
    },
    {
      "cell_type": "code",
      "metadata": {
        "id": "YrkSwFGg385D",
        "colab": {
          "base_uri": "https://localhost:8080/"
        },
        "outputId": "6899403a-3e14-4959-d40b-f1bd840092e0"
      },
      "source": [
        "# 연습문제\n",
        "# 요소 삭제\n",
        "# 위 lst에서 '내일의 기억'을 삭제하시오.\n",
        "lst.index('내일의 기억')\n",
        "del lst[2]\n",
        "lst"
      ],
      "execution_count": null,
      "outputs": [
        {
          "output_type": "execute_result",
          "data": {
            "text/plain": [
              "['비와 당신의 이야기', '더 스파이', '자산어보', '미나리']"
            ]
          },
          "metadata": {
            "tags": []
          },
          "execution_count": 107
        }
      ]
    },
    {
      "cell_type": "code",
      "metadata": {
        "id": "H0WdNlAe4Sil",
        "colab": {
          "base_uri": "https://localhost:8080/"
        },
        "outputId": "98ca6cf4-7762-4087-f001-439cdb9b526c"
      },
      "source": [
        "# 연습문제\n",
        "# 다음 리스트의 평균을 구하시오. \n",
        "a = [1, 2, 3, 4]\n",
        "sum(a)/len(a)"
      ],
      "execution_count": null,
      "outputs": [
        {
          "output_type": "execute_result",
          "data": {
            "text/plain": [
              "2.5"
            ]
          },
          "metadata": {
            "tags": []
          },
          "execution_count": 109
        }
      ]
    },
    {
      "cell_type": "markdown",
      "metadata": {
        "id": "6Mj6gjeDScIf"
      },
      "source": [
        "# 튜플 (Tuple)\n",
        "* 튜플은 ()사이에 콤마로 분리된 값들\n",
        "* 리스트 = mutable\n",
        "* 튜플 = immutable\n",
        "* 수정되어서는 안되는 값을 보관할때 튜플을 사용\n",
        "* 튜플은 리스트에 비해 처리 속도가 빠르다는 장점\n",
        "* 변하지 않는 여러개의 값을 자주 사용할때는 튜플에 저장"
      ]
    },
    {
      "cell_type": "code",
      "metadata": {
        "colab": {
          "base_uri": "https://localhost:8080/"
        },
        "id": "ITcOOltkS1nu",
        "outputId": "b8a65703-7bf7-4c70-be5a-59ea29ecbb8c"
      },
      "source": [
        "dir((1, 2, 3))"
      ],
      "execution_count": null,
      "outputs": [
        {
          "output_type": "execute_result",
          "data": {
            "text/plain": [
              "['__add__',\n",
              " '__class__',\n",
              " '__contains__',\n",
              " '__delattr__',\n",
              " '__dir__',\n",
              " '__doc__',\n",
              " '__eq__',\n",
              " '__format__',\n",
              " '__ge__',\n",
              " '__getattribute__',\n",
              " '__getitem__',\n",
              " '__getnewargs__',\n",
              " '__gt__',\n",
              " '__hash__',\n",
              " '__init__',\n",
              " '__init_subclass__',\n",
              " '__iter__',\n",
              " '__le__',\n",
              " '__len__',\n",
              " '__lt__',\n",
              " '__mul__',\n",
              " '__ne__',\n",
              " '__new__',\n",
              " '__reduce__',\n",
              " '__reduce_ex__',\n",
              " '__repr__',\n",
              " '__rmul__',\n",
              " '__setattr__',\n",
              " '__sizeof__',\n",
              " '__str__',\n",
              " '__subclasshook__',\n",
              " 'count',\n",
              " 'index']"
            ]
          },
          "metadata": {
            "tags": []
          },
          "execution_count": 110
        }
      ]
    },
    {
      "cell_type": "code",
      "metadata": {
        "id": "OGbf6mxjS4Z3"
      },
      "source": [
        "# 튜플 생성시 () 생략가능\n",
        "tp = 1, 2, 3, 2"
      ],
      "execution_count": null,
      "outputs": []
    },
    {
      "cell_type": "code",
      "metadata": {
        "colab": {
          "base_uri": "https://localhost:8080/"
        },
        "id": "pfdO7Sn6U-9p",
        "outputId": "ade9f537-e10b-482c-a473-7a851b6f0b01"
      },
      "source": [
        "# count() : 인수로 지정된 요소의 개수\n",
        "tp.count(2)"
      ],
      "execution_count": null,
      "outputs": [
        {
          "output_type": "execute_result",
          "data": {
            "text/plain": [
              "2"
            ]
          },
          "metadata": {
            "tags": []
          },
          "execution_count": 143
        }
      ]
    },
    {
      "cell_type": "code",
      "metadata": {
        "colab": {
          "base_uri": "https://localhost:8080/"
        },
        "id": "SNghCELBVFKF",
        "outputId": "f5d7497d-0ea1-4bbb-c164-1717bb3fda62"
      },
      "source": [
        "# index() : 인수로 지정된 요소의 인덱스 번호\n",
        "tp.index(2)"
      ],
      "execution_count": null,
      "outputs": [
        {
          "output_type": "execute_result",
          "data": {
            "text/plain": [
              "1"
            ]
          },
          "metadata": {
            "tags": []
          },
          "execution_count": 144
        }
      ]
    },
    {
      "cell_type": "code",
      "metadata": {
        "id": "TitLFGEtVYTt"
      },
      "source": [
        "# unpacking : 튜플로 묶여 있는 값들을 풀어내는것 \n",
        "x1, x2, x3, x4 = tp"
      ],
      "execution_count": null,
      "outputs": []
    },
    {
      "cell_type": "code",
      "metadata": {
        "colab": {
          "base_uri": "https://localhost:8080/"
        },
        "id": "XG7tAmN0VdKW",
        "outputId": "6922856b-d590-454c-881d-9935eaa92a1f"
      },
      "source": [
        "x1"
      ],
      "execution_count": null,
      "outputs": [
        {
          "output_type": "execute_result",
          "data": {
            "text/plain": [
              "1"
            ]
          },
          "metadata": {
            "tags": []
          },
          "execution_count": 133
        }
      ]
    },
    {
      "cell_type": "code",
      "metadata": {
        "colab": {
          "base_uri": "https://localhost:8080/"
        },
        "id": "tcG1R1ZQVeQE",
        "outputId": "417c588f-dbb5-4deb-810e-17a5c0a3277e"
      },
      "source": [
        "x2"
      ],
      "execution_count": null,
      "outputs": [
        {
          "output_type": "execute_result",
          "data": {
            "text/plain": [
              "2"
            ]
          },
          "metadata": {
            "tags": []
          },
          "execution_count": 134
        }
      ]
    },
    {
      "cell_type": "code",
      "metadata": {
        "colab": {
          "base_uri": "https://localhost:8080/"
        },
        "id": "S64TL8esVl4v",
        "outputId": "40faee0f-941c-4710-9df7-6b15c2a1395f"
      },
      "source": [
        "x3"
      ],
      "execution_count": null,
      "outputs": [
        {
          "output_type": "execute_result",
          "data": {
            "text/plain": [
              "3"
            ]
          },
          "metadata": {
            "tags": []
          },
          "execution_count": 135
        }
      ]
    },
    {
      "cell_type": "code",
      "metadata": {
        "colab": {
          "base_uri": "https://localhost:8080/"
        },
        "id": "NN63RYCJVmal",
        "outputId": "f81915d0-eb58-4bd9-cc2c-e714debdd2be"
      },
      "source": [
        "x4"
      ],
      "execution_count": null,
      "outputs": [
        {
          "output_type": "execute_result",
          "data": {
            "text/plain": [
              "2"
            ]
          },
          "metadata": {
            "tags": []
          },
          "execution_count": 136
        }
      ]
    },
    {
      "cell_type": "code",
      "metadata": {
        "id": "lknCzBJBVm64"
      },
      "source": [
        "# * : 언패킹 과정에서 둘 이상의 값을 리스트로 묶어서 하나의 변수에 저장\n",
        "x1, x2, *others = tp"
      ],
      "execution_count": null,
      "outputs": []
    },
    {
      "cell_type": "code",
      "metadata": {
        "colab": {
          "base_uri": "https://localhost:8080/"
        },
        "id": "sLlMddtwV0Pk",
        "outputId": "35ab4cfc-f160-47a1-8170-c05f086c05ca"
      },
      "source": [
        "x1"
      ],
      "execution_count": null,
      "outputs": [
        {
          "output_type": "execute_result",
          "data": {
            "text/plain": [
              "1"
            ]
          },
          "metadata": {
            "tags": []
          },
          "execution_count": 146
        }
      ]
    },
    {
      "cell_type": "code",
      "metadata": {
        "colab": {
          "base_uri": "https://localhost:8080/"
        },
        "id": "KVgbJw7IV1M-",
        "outputId": "9398d915-ffba-4160-fcb6-8ce70b088fe3"
      },
      "source": [
        "x2"
      ],
      "execution_count": null,
      "outputs": [
        {
          "output_type": "execute_result",
          "data": {
            "text/plain": [
              "2"
            ]
          },
          "metadata": {
            "tags": []
          },
          "execution_count": 147
        }
      ]
    },
    {
      "cell_type": "code",
      "metadata": {
        "colab": {
          "base_uri": "https://localhost:8080/"
        },
        "id": "iZmQSYMYV5Ir",
        "outputId": "00a702a3-08d3-403d-8331-021ff058ef11"
      },
      "source": [
        "others"
      ],
      "execution_count": null,
      "outputs": [
        {
          "output_type": "execute_result",
          "data": {
            "text/plain": [
              "[3, 2]"
            ]
          },
          "metadata": {
            "tags": []
          },
          "execution_count": 148
        }
      ]
    },
    {
      "cell_type": "code",
      "metadata": {
        "id": "KFuC6x6JV5xk"
      },
      "source": [
        "# 리스트도 언패킹 가능\n",
        "x1, x2, *others = [1, 2, 3, 2]"
      ],
      "execution_count": null,
      "outputs": []
    },
    {
      "cell_type": "code",
      "metadata": {
        "colab": {
          "base_uri": "https://localhost:8080/"
        },
        "id": "wcdqiL4AWISj",
        "outputId": "2379038c-3e9e-4dc4-d61e-c0f0a0cd5665"
      },
      "source": [
        "x1"
      ],
      "execution_count": null,
      "outputs": [
        {
          "output_type": "execute_result",
          "data": {
            "text/plain": [
              "1"
            ]
          },
          "metadata": {
            "tags": []
          },
          "execution_count": 150
        }
      ]
    },
    {
      "cell_type": "code",
      "metadata": {
        "colab": {
          "base_uri": "https://localhost:8080/"
        },
        "id": "n1OmLXj6WJmx",
        "outputId": "110aef8b-5023-43fd-d4d1-ae117d28d62a"
      },
      "source": [
        "x2"
      ],
      "execution_count": null,
      "outputs": [
        {
          "output_type": "execute_result",
          "data": {
            "text/plain": [
              "2"
            ]
          },
          "metadata": {
            "tags": []
          },
          "execution_count": 151
        }
      ]
    },
    {
      "cell_type": "code",
      "metadata": {
        "colab": {
          "base_uri": "https://localhost:8080/"
        },
        "id": "TiBAL87wWKE5",
        "outputId": "9b152013-14c5-444e-efea-ad9c7c6a64cb"
      },
      "source": [
        "others"
      ],
      "execution_count": null,
      "outputs": [
        {
          "output_type": "execute_result",
          "data": {
            "text/plain": [
              "[3, 2]"
            ]
          },
          "metadata": {
            "tags": []
          },
          "execution_count": 152
        }
      ]
    },
    {
      "cell_type": "code",
      "metadata": {
        "colab": {
          "base_uri": "https://localhost:8080/"
        },
        "id": "AegBllheWaTL",
        "outputId": "570325ae-e3d4-4bea-cda8-b4dda9a651a1"
      },
      "source": [
        "# tuple() : 문자열, 리스트, 딕셔너리, 세트등을 튜플로 변환\n",
        "tuple([1, 2, 3])"
      ],
      "execution_count": null,
      "outputs": [
        {
          "output_type": "execute_result",
          "data": {
            "text/plain": [
              "(1, 2, 3)"
            ]
          },
          "metadata": {
            "tags": []
          },
          "execution_count": 153
        }
      ]
    },
    {
      "cell_type": "code",
      "metadata": {
        "id": "ITvL-3hb4__S"
      },
      "source": [
        "# 연습문제\n",
        "# '비와 당신의 이야기', '더 스파이', '내일의 기억'로 튜플 tp를 생성하시오. \n",
        "tp = '비와 당신의 이야기', '더 스파이', '내일의 기억' "
      ],
      "execution_count": null,
      "outputs": []
    },
    {
      "cell_type": "code",
      "metadata": {
        "id": "Zfg7xEEw51mk",
        "colab": {
          "base_uri": "https://localhost:8080/"
        },
        "outputId": "a59dbc7a-a4d4-4dc5-8ab0-9ce162d21de6"
      },
      "source": [
        "# 연습문제\n",
        "# 위 튜플을 리스트 lst로 변환하시오. \n",
        "list(tp)"
      ],
      "execution_count": null,
      "outputs": [
        {
          "output_type": "execute_result",
          "data": {
            "text/plain": [
              "['비와 당신의 이야기', '더 스파이', '내일의 기억']"
            ]
          },
          "metadata": {
            "tags": []
          },
          "execution_count": 157
        }
      ]
    },
    {
      "cell_type": "code",
      "metadata": {
        "id": "Dv3_9UXh6BJb",
        "colab": {
          "base_uri": "https://localhost:8080/"
        },
        "outputId": "f0f81cd0-a2b5-415b-c51a-547f648dc0fa"
      },
      "source": [
        "# 연습문제\n",
        "# 1부터 99까지의 정수중 짝수로만 이루어진 튜플을 (2, 4, 6, ..., 98) 생성하시오. \n",
        "# range(start, stop[, step]) : produces a sequence of integers from start(inclusive) to stop(exclusive) by step\n",
        "print(tuple(range(2,100,2)))"
      ],
      "execution_count": null,
      "outputs": [
        {
          "output_type": "stream",
          "text": [
            "(2, 4, 6, 8, 10, 12, 14, 16, 18, 20, 22, 24, 26, 28, 30, 32, 34, 36, 38, 40, 42, 44, 46, 48, 50, 52, 54, 56, 58, 60, 62, 64, 66, 68, 70, 72, 74, 76, 78, 80, 82, 84, 86, 88, 90, 92, 94, 96, 98)\n"
          ],
          "name": "stdout"
        }
      ]
    },
    {
      "cell_type": "markdown",
      "metadata": {
        "id": "MCZFE2uoWPa9"
      },
      "source": [
        "# 딕셔너리 (Dictionary)\n",
        "* { key : value, key : value, ... }\n",
        "* 사전에서 “단어를 기준으로 해설” 을 찿듯이 “키를 기준으로 값” 을 찿는 기능\n",
        "* 값은 중복될수 있으나, 키는 중복되지 않아야 한다\n",
        "* 키는 숫자, 문자열, 튜플과 같이 수정이 불가능한 (immutable) 데이터 형이어야 한다.\n",
        "* 인덱스가 아닌 키로 값을 찿는다\n",
        "* 리스트 = 인덱스로 값을 찿는다\n",
        "* 딕셔너리 = 키로 값을 찿는다\n",
        "* 찿는 속도가 빠르다\n",
        "* 리스트 : 값으로만 사용가능\n",
        "* 튜플 : 키와 값으로 모두 사용 가능"
      ]
    },
    {
      "cell_type": "code",
      "metadata": {
        "colab": {
          "base_uri": "https://localhost:8080/"
        },
        "id": "J2tnpkRLXMHo",
        "outputId": "74ae6c56-5580-4c4a-ee9a-456eaa3b438a"
      },
      "source": [
        "# 딕셔너리 생성\n",
        "# { } 내에 키:값 기술\n",
        "dic = { 'john' : 20, 'mike' : 10}\n",
        "dic"
      ],
      "execution_count": null,
      "outputs": [
        {
          "output_type": "execute_result",
          "data": {
            "text/plain": [
              "{'john': 20, 'mike': 10}"
            ]
          },
          "metadata": {
            "tags": []
          },
          "execution_count": 173
        }
      ]
    },
    {
      "cell_type": "code",
      "metadata": {
        "colab": {
          "base_uri": "https://localhost:8080/"
        },
        "id": "7k6G71dWXWk3",
        "outputId": "77aa10cd-7201-4b08-c8e6-611b49ed9c02"
      },
      "source": [
        "# 딕셔너리 생성\n",
        "# dict() 함수내에 {키:값} 기술\n",
        "dic = dict({ 'john' : 20, 'mike' : 10}) \n",
        "dic"
      ],
      "execution_count": null,
      "outputs": [
        {
          "output_type": "execute_result",
          "data": {
            "text/plain": [
              "{'john': 20, 'mike': 10}"
            ]
          },
          "metadata": {
            "tags": []
          },
          "execution_count": 174
        }
      ]
    },
    {
      "cell_type": "code",
      "metadata": {
        "colab": {
          "base_uri": "https://localhost:8080/"
        },
        "id": "tZZkKnHBXbnv",
        "outputId": "70c22304-58ad-49fc-89c0-42777697b070"
      },
      "source": [
        "# 딕셔너리 생성\n",
        "# 튜플로 구성된 리스트 사용\n",
        "dic = dict([('john',10), ('mike',20)]) \n",
        "dic"
      ],
      "execution_count": null,
      "outputs": [
        {
          "output_type": "execute_result",
          "data": {
            "text/plain": [
              "{'john': 10, 'mike': 20}"
            ]
          },
          "metadata": {
            "tags": []
          },
          "execution_count": 175
        }
      ]
    },
    {
      "cell_type": "code",
      "metadata": {
        "colab": {
          "base_uri": "https://localhost:8080/"
        },
        "id": "zakKnhq4Xbql",
        "outputId": "790c702d-697d-421d-fc63-2474c4e8c27f"
      },
      "source": [
        "# 딕셔너리 생성\n",
        "# = 기호 사용\n",
        "dic = dict(john = 10, mike = 20) \n",
        "dic"
      ],
      "execution_count": null,
      "outputs": [
        {
          "output_type": "execute_result",
          "data": {
            "text/plain": [
              "{'john': 10, 'mike': 20}"
            ]
          },
          "metadata": {
            "tags": []
          },
          "execution_count": 176
        }
      ]
    },
    {
      "cell_type": "code",
      "metadata": {
        "colab": {
          "base_uri": "https://localhost:8080/"
        },
        "id": "1KgdA6_q8KZk",
        "outputId": "c47879d4-3605-4405-fe79-16115cef245a"
      },
      "source": [
        "# 딕셔너리 추가\n",
        "dic2 = {'peter' : 15, 'tom' : 45}\n",
        "dic.update(dic2)\n",
        "dic"
      ],
      "execution_count": null,
      "outputs": [
        {
          "output_type": "execute_result",
          "data": {
            "text/plain": [
              "{'john': 10, 'mike': 20, 'peter': 15, 'tom': 45}"
            ]
          },
          "metadata": {
            "tags": []
          },
          "execution_count": 177
        }
      ]
    },
    {
      "cell_type": "code",
      "metadata": {
        "colab": {
          "base_uri": "https://localhost:8080/"
        },
        "id": "7aPdJg1Q8xdC",
        "outputId": "5da93fa9-39d9-4d60-ae93-3046449889bc"
      },
      "source": [
        "# zip()을 이용하여 두개의 튜플을 하나의 딕셔너리로 변환\n",
        "keys = ('john', 'mike', 'peter', 'tom')\n",
        "values = (10, 20, 15, 45)\n",
        "dict(zip(keys, values))"
      ],
      "execution_count": null,
      "outputs": [
        {
          "output_type": "execute_result",
          "data": {
            "text/plain": [
              "{'john': 10, 'mike': 20, 'peter': 15, 'tom': 45}"
            ]
          },
          "metadata": {
            "tags": []
          },
          "execution_count": 178
        }
      ]
    },
    {
      "cell_type": "code",
      "metadata": {
        "colab": {
          "base_uri": "https://localhost:8080/"
        },
        "id": "pXEtf5_1Xbv1",
        "outputId": "936bd3a4-56d0-440d-9d13-524ef1402217"
      },
      "source": [
        "# 값추출\n",
        "# 딕셔너리[키]\n",
        "dic['mike']"
      ],
      "execution_count": null,
      "outputs": [
        {
          "output_type": "execute_result",
          "data": {
            "text/plain": [
              "20"
            ]
          },
          "metadata": {
            "tags": []
          },
          "execution_count": 179
        }
      ]
    },
    {
      "cell_type": "code",
      "metadata": {
        "id": "-2QAsc4zYWVf"
      },
      "source": [
        "# 값추출\n",
        "# 해당키가 없으면 에러\n",
        "# dic['steve']"
      ],
      "execution_count": null,
      "outputs": []
    },
    {
      "cell_type": "code",
      "metadata": {
        "colab": {
          "base_uri": "https://localhost:8080/"
        },
        "id": "B0ouEcXoZqV9",
        "outputId": "4b9eb7a5-74a9-481d-965d-979cbf0c9f09"
      },
      "source": [
        "dir(dic)"
      ],
      "execution_count": null,
      "outputs": [
        {
          "output_type": "execute_result",
          "data": {
            "text/plain": [
              "['__class__',\n",
              " '__contains__',\n",
              " '__delattr__',\n",
              " '__delitem__',\n",
              " '__dir__',\n",
              " '__doc__',\n",
              " '__eq__',\n",
              " '__format__',\n",
              " '__ge__',\n",
              " '__getattribute__',\n",
              " '__getitem__',\n",
              " '__gt__',\n",
              " '__hash__',\n",
              " '__init__',\n",
              " '__init_subclass__',\n",
              " '__iter__',\n",
              " '__le__',\n",
              " '__len__',\n",
              " '__lt__',\n",
              " '__ne__',\n",
              " '__new__',\n",
              " '__reduce__',\n",
              " '__reduce_ex__',\n",
              " '__repr__',\n",
              " '__setattr__',\n",
              " '__setitem__',\n",
              " '__sizeof__',\n",
              " '__str__',\n",
              " '__subclasshook__',\n",
              " 'clear',\n",
              " 'copy',\n",
              " 'fromkeys',\n",
              " 'get',\n",
              " 'items',\n",
              " 'keys',\n",
              " 'pop',\n",
              " 'popitem',\n",
              " 'setdefault',\n",
              " 'update',\n",
              " 'values']"
            ]
          },
          "metadata": {
            "tags": []
          },
          "execution_count": 181
        }
      ]
    },
    {
      "cell_type": "code",
      "metadata": {
        "colab": {
          "base_uri": "https://localhost:8080/"
        },
        "id": "L0BeWe_WYlQv",
        "outputId": "b875a335-bfc0-4420-961e-431b358dfb7d"
      },
      "source": [
        "# 값추출\n",
        "dic.get('mike')"
      ],
      "execution_count": null,
      "outputs": [
        {
          "output_type": "execute_result",
          "data": {
            "text/plain": [
              "20"
            ]
          },
          "metadata": {
            "tags": []
          },
          "execution_count": 182
        }
      ]
    },
    {
      "cell_type": "code",
      "metadata": {
        "id": "4dSFRZ2lYxjH"
      },
      "source": [
        "# 값추출\n",
        "# 해당키가 없어도 에러 표시 안함\n",
        "dic.get('steve')"
      ],
      "execution_count": null,
      "outputs": []
    },
    {
      "cell_type": "code",
      "metadata": {
        "colab": {
          "base_uri": "https://localhost:8080/",
          "height": 35
        },
        "id": "AzNZKzj2YzlI",
        "outputId": "5f7edcf0-88f5-4084-9d38-612722efbddd"
      },
      "source": [
        "# 값추출\n",
        "# 해당키가 없어도 에러 표시 안함\n",
        "# 두번째 인수로 키가 없을때으 메세지를 지정\n",
        "dic.get('steve', 'no')"
      ],
      "execution_count": null,
      "outputs": [
        {
          "output_type": "execute_result",
          "data": {
            "application/vnd.google.colaboratory.intrinsic+json": {
              "type": "string"
            },
            "text/plain": [
              "'no'"
            ]
          },
          "metadata": {
            "tags": []
          },
          "execution_count": 131
        }
      ]
    },
    {
      "cell_type": "code",
      "metadata": {
        "id": "QXzQGCPjZBl8"
      },
      "source": [
        "# 값 수정가능\n",
        "dic['mike'] = 200"
      ],
      "execution_count": null,
      "outputs": []
    },
    {
      "cell_type": "code",
      "metadata": {
        "colab": {
          "base_uri": "https://localhost:8080/"
        },
        "id": "ueyxdYm6ZL_r",
        "outputId": "2045f7fe-64a8-4172-a19d-381fc7ba388b"
      },
      "source": [
        "dic"
      ],
      "execution_count": null,
      "outputs": [
        {
          "output_type": "execute_result",
          "data": {
            "text/plain": [
              "{'john': 10, 'mike': 200}"
            ]
          },
          "metadata": {
            "tags": []
          },
          "execution_count": 133
        }
      ]
    },
    {
      "cell_type": "code",
      "metadata": {
        "colab": {
          "base_uri": "https://localhost:8080/"
        },
        "id": "RKsig4hmZMxo",
        "outputId": "eb61b6f8-db84-411d-c541-a01b16fe401b"
      },
      "source": [
        "# {} 로 삭제 : 키는 남고, 값만 삭제\n",
        "dic['mike'] = {}\n",
        "dic"
      ],
      "execution_count": null,
      "outputs": [
        {
          "output_type": "execute_result",
          "data": {
            "text/plain": [
              "{'john': 10, 'mike': {}}"
            ]
          },
          "metadata": {
            "tags": []
          },
          "execution_count": 135
        }
      ]
    },
    {
      "cell_type": "code",
      "metadata": {
        "colab": {
          "base_uri": "https://localhost:8080/"
        },
        "id": "giGLDuTSZXl3",
        "outputId": "bad596e9-0792-4e2c-fbd1-7b8396f7d3fb"
      },
      "source": [
        "# del 로 삭제 : 키와 값이 모두 삭제\n",
        "del dic['mike']\n",
        "dic"
      ],
      "execution_count": null,
      "outputs": [
        {
          "output_type": "execute_result",
          "data": {
            "text/plain": [
              "{'john': 10}"
            ]
          },
          "metadata": {
            "tags": []
          },
          "execution_count": 140
        }
      ]
    },
    {
      "cell_type": "code",
      "metadata": {
        "colab": {
          "base_uri": "https://localhost:8080/"
        },
        "id": "WxQo7KwNZelO",
        "outputId": "2dae060e-21ae-459a-a480-627989581f77"
      },
      "source": [
        "# keys() : 딕셔너리에서 키들만 모아서 목록을 만듬\n",
        "dic.keys()"
      ],
      "execution_count": null,
      "outputs": [
        {
          "output_type": "execute_result",
          "data": {
            "text/plain": [
              "dict_keys(['john', 'mike'])"
            ]
          },
          "metadata": {
            "tags": []
          },
          "execution_count": 143
        }
      ]
    },
    {
      "cell_type": "code",
      "metadata": {
        "colab": {
          "base_uri": "https://localhost:8080/"
        },
        "id": "PjS_rEIHZ-og",
        "outputId": "d7ea5733-deba-4b6f-e855-5650f675c330"
      },
      "source": [
        "# 리스트로 변환\n",
        "list(dic.keys())"
      ],
      "execution_count": null,
      "outputs": [
        {
          "output_type": "execute_result",
          "data": {
            "text/plain": [
              "['john', 'mike']"
            ]
          },
          "metadata": {
            "tags": []
          },
          "execution_count": 144
        }
      ]
    },
    {
      "cell_type": "code",
      "metadata": {
        "colab": {
          "base_uri": "https://localhost:8080/"
        },
        "id": "sp4KhxYkaJlx",
        "outputId": "a0e518d3-8eb6-4668-ad0a-4c635d20a944"
      },
      "source": [
        "# values() : 딕셔너리에서 값들만 모아 목록을 만든다\n",
        "dic.values()"
      ],
      "execution_count": null,
      "outputs": [
        {
          "output_type": "execute_result",
          "data": {
            "text/plain": [
              "dict_values([20, 10])"
            ]
          },
          "metadata": {
            "tags": []
          },
          "execution_count": 145
        }
      ]
    },
    {
      "cell_type": "code",
      "metadata": {
        "colab": {
          "base_uri": "https://localhost:8080/"
        },
        "id": "3MoAvpA7aVON",
        "outputId": "f7f6a95c-fdd3-49b8-a37f-8eb9736ba073"
      },
      "source": [
        "# 튜플로 변환\n",
        "tuple(dic.values())"
      ],
      "execution_count": null,
      "outputs": [
        {
          "output_type": "execute_result",
          "data": {
            "text/plain": [
              "(20, 10)"
            ]
          },
          "metadata": {
            "tags": []
          },
          "execution_count": 146
        }
      ]
    },
    {
      "cell_type": "code",
      "metadata": {
        "colab": {
          "base_uri": "https://localhost:8080/"
        },
        "id": "F762iUb_aZkE",
        "outputId": "9c385dca-b780-4c8b-96ac-292038eb90df"
      },
      "source": [
        "# clear() : 데이터는 모두 삭제되나 빈 딕셔너리는 남음\n",
        "dic.clear()\n",
        "dic"
      ],
      "execution_count": null,
      "outputs": [
        {
          "output_type": "execute_result",
          "data": {
            "text/plain": [
              "{}"
            ]
          },
          "metadata": {
            "tags": []
          },
          "execution_count": 148
        }
      ]
    },
    {
      "cell_type": "code",
      "metadata": {
        "colab": {
          "base_uri": "https://localhost:8080/"
        },
        "id": "7PcAe0Fnam7o",
        "outputId": "a79756fa-55e6-46c2-930a-d878295bd95c"
      },
      "source": [
        "# 딕셔너리 생성\n",
        "# { } 내에 키:값 기술\n",
        "dic = { 'john' : 20, 'mike' : 10}\n",
        "dic"
      ],
      "execution_count": null,
      "outputs": [
        {
          "output_type": "execute_result",
          "data": {
            "text/plain": [
              "{'john': 20, 'mike': 10}"
            ]
          },
          "metadata": {
            "tags": []
          },
          "execution_count": 67
        }
      ]
    },
    {
      "cell_type": "code",
      "metadata": {
        "id": "ksvUoxkdal4v"
      },
      "source": [
        "# del dic : 딕셔너리 자체가 삭제\n",
        "del dic\n",
        "# dic"
      ],
      "execution_count": null,
      "outputs": []
    },
    {
      "cell_type": "code",
      "metadata": {
        "id": "8a_dV3Mw9dc2",
        "colab": {
          "base_uri": "https://localhost:8080/"
        },
        "outputId": "3ba3e7af-11f1-4ac4-864e-c76f75239d2c"
      },
      "source": [
        "# 연습문제\n",
        "# 사과 : 2000, 배 : 3000, 귤 : 4000 의 정보를 포함하는 딕셔너리 dic를 생성하시오.\n",
        "# { } 내에 키:값 기술\n",
        "dic = { '사과' : 2000, '배' : 3000, '귤': 4000}\n",
        "dic"
      ],
      "execution_count": null,
      "outputs": [
        {
          "output_type": "execute_result",
          "data": {
            "text/plain": [
              "{'귤': 4000, '배': 3000, '사과': 2000}"
            ]
          },
          "metadata": {
            "tags": []
          },
          "execution_count": 2
        }
      ]
    },
    {
      "cell_type": "code",
      "metadata": {
        "id": "OvykDUC4Q27X",
        "colab": {
          "base_uri": "https://localhost:8080/"
        },
        "outputId": "5c70acdb-15aa-49fc-a19a-5cb944176da2"
      },
      "source": [
        "# 연습문제\n",
        "# 포도 : 5000, 바나나 : 6000 의 정보를 포함하는 딕셔너리 dic2를 생성해서 dic에 dic2를 추가하시오.\n",
        "dic2 = dict(포도 = 5000, 바나나 = 6000) \n",
        "dic2\n",
        "dic.update(dic2)\n",
        "dic"
      ],
      "execution_count": null,
      "outputs": [
        {
          "output_type": "execute_result",
          "data": {
            "text/plain": [
              "{'귤': 4000, '바나나': 6000, '배': 3000, '사과': 2000, '포도': 5000}"
            ]
          },
          "metadata": {
            "tags": []
          },
          "execution_count": 5
        }
      ]
    },
    {
      "cell_type": "code",
      "metadata": {
        "id": "XmFq3zEyRP-o",
        "colab": {
          "base_uri": "https://localhost:8080/"
        },
        "outputId": "c8cf07ad-8df2-4896-85ca-6da3f457744e"
      },
      "source": [
        "# 연습문제\n",
        "# dic에서 사과의 가격을 출력하시오.\n",
        "dic.get('사과')"
      ],
      "execution_count": null,
      "outputs": [
        {
          "output_type": "execute_result",
          "data": {
            "text/plain": [
              "2000"
            ]
          },
          "metadata": {
            "tags": []
          },
          "execution_count": 6
        }
      ]
    },
    {
      "cell_type": "code",
      "metadata": {
        "id": "R7JFCCzTRWN4",
        "colab": {
          "base_uri": "https://localhost:8080/"
        },
        "outputId": "4b65e6dc-49a3-42fc-8c16-774a9e6c8cb5"
      },
      "source": [
        "# 연습문제\n",
        "# dic에서 포도를 삭제하시오. \n",
        "del dic['포도']\n",
        "dic"
      ],
      "execution_count": null,
      "outputs": [
        {
          "output_type": "execute_result",
          "data": {
            "text/plain": [
              "{'귤': 4000, '바나나': 6000, '배': 3000, '사과': 2000}"
            ]
          },
          "metadata": {
            "tags": []
          },
          "execution_count": 7
        }
      ]
    },
    {
      "cell_type": "code",
      "metadata": {
        "id": "JbkEFDDrRtij",
        "colab": {
          "base_uri": "https://localhost:8080/"
        },
        "outputId": "90c28706-89af-44c2-c94b-e136169a90c8"
      },
      "source": [
        "# 연습문제\n",
        "# 사과, 배, 귤 로 key의 튜플을, 2000, 3000, 4000으로 value의 튜플을 생성하고 zip을 통해 딕셔너리를 생성하시오. \n",
        "# 딕셔너리 생성\n",
        "keys = ('사과','배','귤')\n",
        "values = (2000, 3000, 4000)\n",
        "dict(zip(keys, values))"
      ],
      "execution_count": null,
      "outputs": [
        {
          "output_type": "execute_result",
          "data": {
            "text/plain": [
              "{'귤': 4000, '배': 3000, '사과': 2000}"
            ]
          },
          "metadata": {
            "tags": []
          },
          "execution_count": 8
        }
      ]
    },
    {
      "cell_type": "markdown",
      "metadata": {
        "id": "OF38XMBViBAk"
      },
      "source": [
        "# 조건문 (conditional statement)\n"
      ]
    },
    {
      "cell_type": "code",
      "metadata": {
        "colab": {
          "base_uri": "https://localhost:8080/"
        },
        "id": "voHP6TEsiFPy",
        "outputId": "02bd17bd-9b9c-4467-ee60-26c4eb3c983a"
      },
      "source": [
        "# 조건문(conditional statement)은 조건(condition)을 검사하고 조건에 따라 프로그램의 동작을 바꿀 수 있다. \n",
        "# if 다음에 오는 불 표현식(boolean expression)을 조건(condition)이라고 한다. 조건이 참이면 들여쓰기한 문장이 실행되고 그렇지 않으면 실행되지 않는다.\n",
        "# if <조건>:\n",
        "#     <조건>이 True일때 실행할 문장들\n",
        "# else:\n",
        "#     <조건>이 False일때 실행할 문장들\n",
        "x = -1\n",
        "if x > 0:       \n",
        "  print(\"x is positive\")\n",
        "else: \n",
        "  print(\"x is zero or negative\")"
      ],
      "execution_count": null,
      "outputs": [
        {
          "output_type": "stream",
          "text": [
            "x is zero or negative\n"
          ],
          "name": "stdout"
        }
      ]
    },
    {
      "cell_type": "code",
      "metadata": {
        "colab": {
          "base_uri": "https://localhost:8080/"
        },
        "id": "dSzKJ-BBTG0a",
        "outputId": "13879f7d-1cff-47bb-ccd8-997f2a0bfa53"
      },
      "source": [
        "# if <조건1>:\n",
        "#     <조건1>이 True일때 실행할 문장들\n",
        "# elif <조건2>:\n",
        "#     <조건2>가 True일때 실행할 문장들\n",
        "# else:\n",
        "#     <조건1>과 <조건2>가 모두 False일때 실행할 문장들\n",
        "x = 10\n",
        "if x > 0:       \n",
        "  print(\"x is positive\")\n",
        "elif x == 0: \n",
        "  print(\"x is zero\")\n",
        "else:\n",
        "  print(\"x is negative\")"
      ],
      "execution_count": null,
      "outputs": [
        {
          "output_type": "stream",
          "text": [
            "x is positive\n"
          ],
          "name": "stdout"
        }
      ]
    },
    {
      "cell_type": "code",
      "metadata": {
        "id": "FaQUMF8jVQB_",
        "colab": {
          "base_uri": "https://localhost:8080/"
        },
        "outputId": "39523d8b-a62d-44a1-e79c-6a12f0b2b319"
      },
      "source": [
        "# 연습문제\n",
        "# input(\"입력값: \")은 \"입력값: \"을 프린트하고 사용자로부터 값을 입력받아 문자열을 반환한다. \n",
        "# 사용자로부터 입력받은 값에 20을 더한후 출력하라. 단 더한 결과값이 255을 초과하는 경우 255을 출력해야 한다. \n",
        "user = input('입력값: ')\n",
        "num = int(user) + 20\n",
        "if num > 255:\n",
        "  print(255)\n",
        "else:\n",
        "  print(num)"
      ],
      "execution_count": null,
      "outputs": [
        {
          "output_type": "stream",
          "text": [
            "입력값: 20\n",
            "40\n"
          ],
          "name": "stdout"
        }
      ]
    },
    {
      "cell_type": "code",
      "metadata": {
        "id": "wGqnlJoPWeZM",
        "colab": {
          "base_uri": "https://localhost:8080/"
        },
        "outputId": "2ea8b105-4605-4f3f-d748-6ced746db06a"
      },
      "source": [
        "# 연습문제\n",
        "# 사용자로부터 문자 한개를 입력받고, 소문자일 경우는 대문자로 대문자일 경우는 소문자로 변경하여 출력하라. \n",
        "user = input('영문문자 한개를 입력하시오: ')\n",
        "if user.islower():\n",
        "  print(user.upper())\n",
        "else:\n",
        "  print(user.lower())"
      ],
      "execution_count": null,
      "outputs": [
        {
          "output_type": "stream",
          "text": [
            "영문문자 한개를 입력하시오: w\n",
            "W\n"
          ],
          "name": "stdout"
        }
      ]
    },
    {
      "cell_type": "code",
      "metadata": {
        "id": "3Wn9kMxrXP8O"
      },
      "source": [
        "# 연습문제\n",
        "# 전화번호 지역번호가 서울(02), 경기도(031), 인천(032)만 있다고 할때, 사용자로부터 다음과 같이 전화번호를 입력받고 지역을 출력하라. \n",
        "# input('전화번호를 000-0000-0000 형식으로 입력하시오: ')\n",
        "num = input('전화번호를 000-0000-0000 형식으로 입력하시오:')\n",
        "region_num = num.split('-')[0]\n",
        "if region_num == '02':\n",
        "    print('서울')\n",
        "elif region_num == '031':\n",
        "    print('경기도')\n",
        "elif region_num =='032':\n",
        "    print('인천')\n",
        "else:\n",
        "    raise ValueError('지역번호는 서울(02), 경기도(031), 인천(032) 중 하나여만 합니다.')"
      ],
      "execution_count": null,
      "outputs": []
    },
    {
      "cell_type": "code",
      "metadata": {
        "id": "Li0jyRK9fRM0"
      },
      "source": [
        ""
      ],
      "execution_count": null,
      "outputs": []
    },
    {
      "cell_type": "markdown",
      "metadata": {
        "id": "tIzYjWdGmvBI"
      },
      "source": [
        "# 반복 (iteration)"
      ]
    },
    {
      "cell_type": "code",
      "metadata": {
        "colab": {
          "base_uri": "https://localhost:8080/"
        },
        "id": "8Ww4K59EZfx2",
        "outputId": "6171d159-5f74-4703-b8d4-5d6b66ae9920"
      },
      "source": [
        "# for 변수 in iterable: \n",
        "#   반복되는 문장\n",
        "# 리스트, 튜플, 문자열과 같은 시퀀스 타입 자료형은 iterable이다. \n",
        "for i in [1,2,3]:\n",
        "  print(i)"
      ],
      "execution_count": null,
      "outputs": [
        {
          "output_type": "stream",
          "text": [
            "1\n",
            "2\n",
            "3\n"
          ],
          "name": "stdout"
        }
      ]
    },
    {
      "cell_type": "code",
      "metadata": {
        "colab": {
          "base_uri": "https://localhost:8080/"
        },
        "id": "osVyp5M3aDoZ",
        "outputId": "f9730c02-41c6-4fa3-ecf4-e74705a4081f"
      },
      "source": [
        "# 튜플\n",
        "for i in (1,2,3):\n",
        "  print(i)"
      ],
      "execution_count": null,
      "outputs": [
        {
          "output_type": "stream",
          "text": [
            "1\n",
            "2\n",
            "3\n"
          ],
          "name": "stdout"
        }
      ]
    },
    {
      "cell_type": "code",
      "metadata": {
        "colab": {
          "base_uri": "https://localhost:8080/"
        },
        "id": "yyVQG37kaD1k",
        "outputId": "cc927e8e-48ba-49f8-e657-da367384e4df"
      },
      "source": [
        "# 문자열\n",
        "for i in 'apple':\n",
        "  print(i)"
      ],
      "execution_count": null,
      "outputs": [
        {
          "output_type": "stream",
          "text": [
            "a\n",
            "p\n",
            "p\n",
            "l\n",
            "e\n"
          ],
          "name": "stdout"
        }
      ]
    },
    {
      "cell_type": "code",
      "metadata": {
        "colab": {
          "base_uri": "https://localhost:8080/"
        },
        "id": "_yIRVtSjbJR6",
        "outputId": "b4e9a2ad-d753-4c4f-e977-e4ad30f63e37"
      },
      "source": [
        "# 리스트\n",
        "for i in ['사과', '배', '귤']:\n",
        "  print(i)"
      ],
      "execution_count": null,
      "outputs": [
        {
          "output_type": "stream",
          "text": [
            "사과\n",
            "배\n",
            "귤\n"
          ],
          "name": "stdout"
        }
      ]
    },
    {
      "cell_type": "code",
      "metadata": {
        "colab": {
          "base_uri": "https://localhost:8080/"
        },
        "id": "cH4mEhQUbxIU",
        "outputId": "223177eb-f4b9-4c45-8adc-96f1bf8f523f"
      },
      "source": [
        "# 반복되는 문장\n",
        "print(10); print(20); print(30)"
      ],
      "execution_count": null,
      "outputs": [
        {
          "output_type": "stream",
          "text": [
            "10\n",
            "20\n",
            "30\n"
          ],
          "name": "stdout"
        }
      ]
    },
    {
      "cell_type": "code",
      "metadata": {
        "colab": {
          "base_uri": "https://localhost:8080/"
        },
        "id": "VqWix91BbgyM",
        "outputId": "e5179ad7-6b29-4e48-9a68-91292cb6c2ba"
      },
      "source": [
        "# for loop는 반복되는 문장을 대체한다.\n",
        "for i in [10, 20, 30]:\n",
        "  print(i)"
      ],
      "execution_count": null,
      "outputs": [
        {
          "output_type": "stream",
          "text": [
            "10\n",
            "20\n",
            "30\n"
          ],
          "name": "stdout"
        }
      ]
    },
    {
      "cell_type": "code",
      "metadata": {
        "colab": {
          "base_uri": "https://localhost:8080/"
        },
        "id": "nd9Wch6naSIq",
        "outputId": "c77845c7-2f2d-4088-ec8b-1a0a3061f106"
      },
      "source": [
        "# 리스트\n",
        "li = 0 \n",
        "for i in [1,2,3,4,5,6,7,8,9,10]: \n",
        "  li = li + i \n",
        "print(li)"
      ],
      "execution_count": null,
      "outputs": [
        {
          "output_type": "stream",
          "text": [
            "55\n"
          ],
          "name": "stdout"
        }
      ]
    },
    {
      "cell_type": "code",
      "metadata": {
        "colab": {
          "base_uri": "https://localhost:8080/"
        },
        "id": "EjinzmFNaD5h",
        "outputId": "7ebce2b9-fa78-4af6-ec40-ad3dacc6ed41"
      },
      "source": [
        "# range(start, stop) generates the sequence of integer from start(inclusive) to stop(exclusive)\n",
        "# an index in python starts from 0 not 1\n",
        "gg = 0 \n",
        "for i in range(1, 11): \n",
        "  gg = gg + i \n",
        "print(gg)"
      ],
      "execution_count": null,
      "outputs": [
        {
          "output_type": "stream",
          "text": [
            "55\n"
          ],
          "name": "stdout"
        }
      ]
    },
    {
      "cell_type": "code",
      "metadata": {
        "colab": {
          "base_uri": "https://localhost:8080/"
        },
        "id": "TdRfH26NcRG-",
        "outputId": "855250f0-22b1-45ae-d5ca-1919acf522b5"
      },
      "source": [
        "# '이화여대'를 10번 반복해서 출력하라\n",
        "# range(start:stop)의 stop이 포함 안되는 이유\n",
        "for i in range(10):\n",
        "  print('이화여대')"
      ],
      "execution_count": null,
      "outputs": [
        {
          "output_type": "stream",
          "text": [
            "이화여대\n",
            "이화여대\n",
            "이화여대\n",
            "이화여대\n",
            "이화여대\n",
            "이화여대\n",
            "이화여대\n",
            "이화여대\n",
            "이화여대\n",
            "이화여대\n"
          ],
          "name": "stdout"
        }
      ]
    },
    {
      "cell_type": "code",
      "metadata": {
        "colab": {
          "base_uri": "https://localhost:8080/"
        },
        "id": "z5Z2t-rnoCp-",
        "outputId": "36a0067e-a4df-404a-bf51-05c19e73efd0"
      },
      "source": [
        "# 리스트의 값을 두배를 해서 새로운 리스트에 저장\n",
        "r1 = [1, 2, 3, 4, 5]\n",
        "r2 = []  # 빈 리스트 생성\n",
        "for i in r1:\n",
        "  r2.append(i*2)\n",
        "r2"
      ],
      "execution_count": null,
      "outputs": [
        {
          "output_type": "execute_result",
          "data": {
            "text/plain": [
              "[2, 4, 6, 8, 10]"
            ]
          },
          "metadata": {
            "tags": []
          },
          "execution_count": 70
        }
      ]
    },
    {
      "cell_type": "code",
      "metadata": {
        "colab": {
          "base_uri": "https://localhost:8080/"
        },
        "id": "_BNfRxwroXtK",
        "outputId": "b52ccb77-572d-43a7-8090-93ebaa4a54de"
      },
      "source": [
        "# 리스트 컴프리핸션 (list comprehension): 규칙과 조건으로 리스트 생성\n",
        "r1 = [1, 2, 3, 4, 5]\n",
        "r2 = [x*2 for x in r1]   # r1에 값들을 하나씩 x에 넣어서, x*2의 결과를 만들어 리스트에 저장\n",
        "r2"
      ],
      "execution_count": null,
      "outputs": [
        {
          "output_type": "execute_result",
          "data": {
            "text/plain": [
              "[2, 4, 6, 8, 10]"
            ]
          },
          "metadata": {
            "tags": []
          },
          "execution_count": 71
        }
      ]
    },
    {
      "cell_type": "code",
      "metadata": {
        "colab": {
          "base_uri": "https://localhost:8080/"
        },
        "id": "eyF1FL4foxkJ",
        "outputId": "00316e88-c3d4-4c8c-b12b-f53028c4d3e8"
      },
      "source": [
        "# 홀수인 경우에만 리스트의 값을 두배를 해서 새로운 리스트에 저장\n",
        "r1 = [1, 2, 3, 4, 5]\n",
        "r2 = []  # 빈 리스트 생성\n",
        "for i in r1:\n",
        "  if i % 2 == 1:\n",
        "    r2.append(i*2)\n",
        "r2"
      ],
      "execution_count": null,
      "outputs": [
        {
          "output_type": "execute_result",
          "data": {
            "text/plain": [
              "[2, 6, 10]"
            ]
          },
          "metadata": {
            "tags": []
          },
          "execution_count": 72
        }
      ]
    },
    {
      "cell_type": "code",
      "metadata": {
        "colab": {
          "base_uri": "https://localhost:8080/"
        },
        "id": "eL9GVoFkpPz6",
        "outputId": "56cf60e6-4f50-485c-c87f-88061c304a4a"
      },
      "source": [
        "# 리스트 컴프리핸션 (list comprehension): 규칙과 조건으로 리스트 생성\n",
        "r1 = [1, 2, 3, 4, 5]\n",
        "r2 = [x*2 for x in r1 if x % 2 == 1]   # r1에 값들을 하나씩 x에 넣어서, x % 2 == 1인지 확인하고, True이면 x*2의 결과를 만들어 리스트에 저장\n",
        "r2"
      ],
      "execution_count": null,
      "outputs": [
        {
          "output_type": "execute_result",
          "data": {
            "text/plain": [
              "[2, 6, 10]"
            ]
          },
          "metadata": {
            "tags": []
          },
          "execution_count": 73
        }
      ]
    },
    {
      "cell_type": "code",
      "metadata": {
        "id": "Y_XBBjE1cvFv",
        "colab": {
          "base_uri": "https://localhost:8080/"
        },
        "outputId": "9e078619-06b2-4991-c0c6-c78ac5ee7b22"
      },
      "source": [
        "# 연습문제\n",
        "# 주어진 리스트 lst = [-10, 10, -30, 20, 30] 에서 음수를 출력하시오. \n",
        "lst = [-10, 10, -30, 20, 30]\n",
        "r3 = []\n",
        "r3 = [i for i in lst if i < 0]\n",
        "r3"
      ],
      "execution_count": null,
      "outputs": [
        {
          "output_type": "execute_result",
          "data": {
            "text/plain": [
              "[-10, -30]"
            ]
          },
          "metadata": {
            "tags": []
          },
          "execution_count": 74
        }
      ]
    },
    {
      "cell_type": "code",
      "metadata": {
        "colab": {
          "base_uri": "https://localhost:8080/"
        },
        "id": "gy1s4I56hpiF",
        "outputId": "21256988-44bf-414c-dc05-229f0e9e1868"
      },
      "source": [
        "lst = [-10, 10, -30, 20, 30] \n",
        "r4 = []\n",
        "for i in lst:\n",
        "    if i < 0 :\n",
        "        r4.append(i)\n",
        "r4"
      ],
      "execution_count": null,
      "outputs": [
        {
          "output_type": "execute_result",
          "data": {
            "text/plain": [
              "[-10, -30]"
            ]
          },
          "metadata": {
            "tags": []
          },
          "execution_count": 75
        }
      ]
    },
    {
      "cell_type": "code",
      "metadata": {
        "id": "p_6QXpx4dXfs",
        "colab": {
          "base_uri": "https://localhost:8080/"
        },
        "outputId": "82ba05e1-6a45-4438-aa6b-bfae7913dec6"
      },
      "source": [
        "# 연습문제\n",
        "# 주어진 리스트 lst = [3, 100, 23, 45]에서 3의 배수만을 출력하시오. \n",
        "lst = [3, 100, 23, 45]\n",
        "r5 = [i for i in lst if i%3==0]\n",
        "r5"
      ],
      "execution_count": null,
      "outputs": [
        {
          "output_type": "execute_result",
          "data": {
            "text/plain": [
              "[3, 45]"
            ]
          },
          "metadata": {
            "tags": []
          },
          "execution_count": 76
        }
      ]
    },
    {
      "cell_type": "code",
      "metadata": {
        "id": "kl5rGF9bd6dv",
        "colab": {
          "base_uri": "https://localhost:8080/"
        },
        "outputId": "d6c26c81-f8b1-49e8-bbcb-6c21cb104a67"
      },
      "source": [
        "# 연습문제\n",
        "# 주어진 리스트 lst = [3, 100, 23, 45]에서 20보다 작은 3의 배수만을 출력하시오.\n",
        "lst = [3, 100, 23, 45]\n",
        "r6 = [i for i in lst if i <20 and i%3==0]\n",
        "r6"
      ],
      "execution_count": null,
      "outputs": [
        {
          "output_type": "execute_result",
          "data": {
            "text/plain": [
              "[3]"
            ]
          },
          "metadata": {
            "tags": []
          },
          "execution_count": 77
        }
      ]
    },
    {
      "cell_type": "code",
      "metadata": {
        "id": "KWS3t_PbeF2d",
        "colab": {
          "base_uri": "https://localhost:8080/"
        },
        "outputId": "a748d095-7d39-44f6-e2eb-99384f3208b1"
      },
      "source": [
        "# 연습문제\n",
        "# 주어진 리스트 lst = ['I', 'am', 'study', 'Python']에서 세글자 이상의 단어만 출력하시오. \n",
        "lst = ['I', 'am', 'study', 'Python']\n",
        "r7 = [i for i in lst if len(i) >= 3]\n",
        "r7"
      ],
      "execution_count": null,
      "outputs": [
        {
          "output_type": "execute_result",
          "data": {
            "text/plain": [
              "['study', 'Python']"
            ]
          },
          "metadata": {
            "tags": []
          },
          "execution_count": 78
        }
      ]
    },
    {
      "cell_type": "code",
      "metadata": {
        "id": "gV-m0_Hxg-mp",
        "colab": {
          "base_uri": "https://localhost:8080/"
        },
        "outputId": "4d767f6c-4273-4198-cc3c-257f3c3be2c9"
      },
      "source": [
        "# 연습문제\n",
        "# 리스트 lst에는 6일 간의 종가 데이터가 저장되어 있다. 종가 데이터의 3일 이동 평균을 계산하고 이를 화면에 출력하라.\n",
        "lst = [1,2,3,4,5,6]\n",
        "ma3 = []\n",
        "for i in range(0, len(lst)-2):\n",
        "    ma3.append( (lst[i] + lst[i+1] + lst[i+2]) / 3 )\n",
        "print(ma3)"
      ],
      "execution_count": null,
      "outputs": [
        {
          "output_type": "stream",
          "text": [
            "[2.0, 3.0, 4.0, 5.0]\n"
          ],
          "name": "stdout"
        }
      ]
    },
    {
      "cell_type": "code",
      "metadata": {
        "id": "JAFqijERh6JS",
        "colab": {
          "base_uri": "https://localhost:8080/"
        },
        "outputId": "baaa4ba5-300e-43f8-c66d-dfe19fc36426"
      },
      "source": [
        "# 연습문제\n",
        "# 리스트에 5일간의 저가, 고가 정보가 저장돼 있다. 고가와 저가의 차를 변동폭이라고 정의할 때, low, high 두 개의 리스트를 사용해서 5일간의 변동폭을 volatility 리스트에 저장한다고 할때 _______ 에 필요한 함수는? \n",
        "hl = [[\"high\", \"low\"],\n",
        "        [100,10],\n",
        "        [200,5]]\n",
        "volatility = []\n",
        "for row in hl[1:]:\n",
        "    volatility.append(row[0]-row[1])\n",
        "volatility"
      ],
      "execution_count": null,
      "outputs": [
        {
          "output_type": "execute_result",
          "data": {
            "text/plain": [
              "[90, 195]"
            ]
          },
          "metadata": {
            "tags": []
          },
          "execution_count": 80
        }
      ]
    },
    {
      "cell_type": "markdown",
      "metadata": {
        "id": "jcCQMN-5bsvr"
      },
      "source": [
        "# 함수 (function)\n",
        "\"왜 함수인가? 프로그램을 함수로 분할하는 번거로움을 감수할 가치가 있는지는 명확하지 않을 수 있다. 여기에는 몇가지 이유가 있다.\n",
        "\n",
        "* 새 함수를 만들면 여러 문장을 묶어서 이름을 붙일 수 있고, 이렇게 하면 프로그램을 읽거나 디버그 하는게 쉬워진다.\n",
        "\n",
        "* 함수를 사용하면 반복되는 코드를 제거해서 프로그램을 더 작게 만들 수 있다. 나중에 프로그램을 변경할 때도 한 부분에서만 수정할 수 있다.\n",
        "\n",
        "* 긴 프로그램을 함수로 나누면 한번에 한 부분씩 디버그 할 수 있고, 부분을 결합해서 동작하는 전체를 만들 수 있다.\n",
        "\n",
        "* 잘 설계된 함수는 프로그램에서도 유용하게 쓰일 수 있다. 함수를 작성하고 디버그 했다면 이를 재사용 할 수 있다.\" \n",
        "\n",
        "(싱크 파이썬, p63)\n"
      ]
    },
    {
      "cell_type": "code",
      "metadata": {
        "colab": {
          "base_uri": "https://localhost:8080/"
        },
        "id": "IcIL3yvHcFc0",
        "outputId": "74a32790-4be7-4820-8213-6d4e190b58f4"
      },
      "source": [
        "# 함수(function)은 어떤 계산을 수행하는 문장들에 이름을 붙인것이다. \n",
        "# 함수는 여러문장을 담아놓은 상자와도 같다. \n",
        "# 우리는 함수를 호출(call)한다. \n",
        "# 예를들어 type()에서 type은 함수의 이름이고, 괄호안에 들어간 표현식을 함수의 인수(argument)라고 한다. \n",
        "# 함수는 인수(argument)을 받고 결과값을 반환(return)한다. \n",
        "type(42.0)"
      ],
      "execution_count": null,
      "outputs": [
        {
          "output_type": "execute_result",
          "data": {
            "text/plain": [
              "float"
            ]
          },
          "metadata": {
            "tags": []
          },
          "execution_count": 81
        }
      ]
    },
    {
      "cell_type": "code",
      "metadata": {
        "id": "vMHR7g-TcKHZ"
      },
      "source": [
        "# 우리는 함수를 정의(define)할 수 있다. \n",
        "# 함수의 정의는 함수의 이름과 함수가 호출될 때 실행할 문장들을 지정한다. \n",
        "# 함수정의의 첫번째 줄을 헤더(header)하고 하고 나머지를 바디(body)라고 한다. \n",
        "# 함수의 이름은 소문자로만 만드는것이 관행\n",
        "def my_sum(a, b): \n",
        "  c = a + b + 1 \n",
        "  return c"
      ],
      "execution_count": null,
      "outputs": []
    },
    {
      "cell_type": "code",
      "metadata": {
        "colab": {
          "base_uri": "https://localhost:8080/"
        },
        "id": "ND1AnfQ2cORy",
        "outputId": "2cb31dc0-7d65-497e-d446-8c17e6234193"
      },
      "source": [
        "# 우리가 정의한 함수를 호출(call)할 수 있다. \n",
        "# 함수를 정의할 때의 변수를 인자(parameter), 호출할 때 전달하는 값을 인수(argument)라고 한다. \n",
        "my_sum(1, 2)"
      ],
      "execution_count": null,
      "outputs": [
        {
          "output_type": "execute_result",
          "data": {
            "text/plain": [
              "4"
            ]
          },
          "metadata": {
            "tags": []
          },
          "execution_count": 83
        }
      ]
    },
    {
      "cell_type": "code",
      "metadata": {
        "colab": {
          "base_uri": "https://localhost:8080/"
        },
        "id": "HNHcmr2sdY9t",
        "outputId": "9ac3c2be-a25e-471a-a94e-19537bd36aea"
      },
      "source": [
        "# 함수 정의시 매개변수 앞에 *는 이후의 값들을 튜플로 묶어 전달\n",
        "def print_nums(x1, x2, *others):\n",
        "  print(x1, x2, others)\n",
        "print_nums(1, 2, 3, 4, 5)"
      ],
      "execution_count": null,
      "outputs": [
        {
          "output_type": "stream",
          "text": [
            "1 2 (3, 4, 5)\n"
          ],
          "name": "stdout"
        }
      ]
    },
    {
      "cell_type": "code",
      "metadata": {
        "id": "GzrDH1jMcOU2"
      },
      "source": [
        "# 연습문제\n",
        "# 인자로 제공받은 리스트에 저장되어 있는 모든 값의 합을 반환하는 함수를 만드시오. \n",
        "# 예를 들어 이 함수는 다음과 같이 작동해야 합니다. \n",
        "# sum_list([1,2,3])   # 6 출력\n",
        "def sum_list(a):\n",
        "    print(sum(a))"
      ],
      "execution_count": null,
      "outputs": []
    },
    {
      "cell_type": "code",
      "metadata": {
        "colab": {
          "base_uri": "https://localhost:8080/"
        },
        "id": "8SSXncB__2Y6",
        "outputId": "1e286496-895e-4b56-ff15-aaddfaa63bb0"
      },
      "source": [
        "sum_list([1,2,3])"
      ],
      "execution_count": null,
      "outputs": [
        {
          "output_type": "stream",
          "text": [
            "6\n"
          ],
          "name": "stdout"
        }
      ]
    },
    {
      "cell_type": "code",
      "metadata": {
        "id": "q8e8g2KpijR0"
      },
      "source": [
        "# 연습문제\n",
        "# 콤마가 포함된 문자열 숫자를 입력받아 정수로 변환하는 convert_int 함수를 정의하라.\n",
        "def convert_int (string) :\n",
        "    return int(string.replace(',', ''))"
      ],
      "execution_count": null,
      "outputs": []
    },
    {
      "cell_type": "code",
      "metadata": {
        "colab": {
          "base_uri": "https://localhost:8080/"
        },
        "id": "9wtxajVgDFyw",
        "outputId": "95a9df60-d8b2-4cc3-939a-3b04ea46e3ef"
      },
      "source": [
        "convert_int('123,43,24')"
      ],
      "execution_count": null,
      "outputs": [
        {
          "output_type": "execute_result",
          "data": {
            "text/plain": [
              "1234324"
            ]
          },
          "metadata": {
            "tags": []
          },
          "execution_count": 227
        }
      ]
    },
    {
      "cell_type": "code",
      "metadata": {
        "id": "A8QG1VlFkx9b",
        "colab": {
          "base_uri": "https://localhost:8080/"
        },
        "outputId": "0cfd9f41-5674-4e46-dba8-0512ec5b07a9"
      },
      "source": [
        "# 연습문제\n",
        "# 아래 코드의 실행 결과를 예측하시오. \n",
        "def 함수1(num) :\n",
        "    return num + 4\n",
        "\n",
        "def 함수2(num) :\n",
        "    return num * 10\n",
        "\n",
        "a = 함수1(10)\n",
        "c = 함수2(a)\n",
        "print(c)"
      ],
      "execution_count": null,
      "outputs": [
        {
          "output_type": "stream",
          "text": [
            "140\n"
          ],
          "name": "stdout"
        }
      ]
    },
    {
      "cell_type": "code",
      "metadata": {
        "id": "Kw7U1NQ9lJZ0",
        "colab": {
          "base_uri": "https://localhost:8080/"
        },
        "outputId": "e6866674-8d7d-40b7-edf3-e98531a0f756"
      },
      "source": [
        "# 연습문제\n",
        "# 아래 코드의 실행 결과를 예측하라.\n",
        "def 함수0(num) :\n",
        "    return num * 2\n",
        "\n",
        "def 함수1(num) :\n",
        "    return 함수0(num + 2)\n",
        "\n",
        "def 함수2(num) :\n",
        "    num = num + 10\n",
        "    return 함수1(num)\n",
        "\n",
        "c = 함수2(2)\n",
        "print(c)"
      ],
      "execution_count": null,
      "outputs": [
        {
          "output_type": "stream",
          "text": [
            "28\n"
          ],
          "name": "stdout"
        }
      ]
    },
    {
      "cell_type": "markdown",
      "metadata": {
        "id": "mx4js1KtZPPS"
      },
      "source": [
        "# 모듈 (module), 패키지 (package), import\n",
        "* 모듈은 변수, 함수, 클래스 등이 정의되어 있는 파일(.py)\n",
        "* 패키지는 모듈을 디렉토리형식으로 구조화한 것\n",
        "* 패키지 내부의 모듈은 점표기법(dot notation)으로 접근(access)\n",
        "* 한 모듈에 있는 파이썬 코드는 import 문을 통해서 다른 모듈에 있는 코드들에 대한 접근권을 얻음"
      ]
    },
    {
      "cell_type": "code",
      "metadata": {
        "id": "k5mDOjxfcjQS"
      },
      "source": [
        "# import 모듈\n",
        "# import 모듈1, 모듈2\n",
        "# 모듈.변수\n",
        "# 모듈.함수()\n",
        "# 모듈.클래스()\n",
        "import math"
      ],
      "execution_count": null,
      "outputs": []
    },
    {
      "cell_type": "code",
      "metadata": {
        "colab": {
          "base_uri": "https://localhost:8080/"
        },
        "id": "YwHgjQTzNJ4w",
        "outputId": "08479904-7b46-4284-91c9-63795b5f4726"
      },
      "source": [
        "# math 모듈의 pi라는 속성에 접근\n",
        "math.pi"
      ],
      "execution_count": null,
      "outputs": [
        {
          "output_type": "execute_result",
          "data": {
            "text/plain": [
              "3.141592653589793"
            ]
          },
          "metadata": {
            "tags": []
          },
          "execution_count": 231
        }
      ]
    },
    {
      "cell_type": "code",
      "metadata": {
        "colab": {
          "base_uri": "https://localhost:8080/"
        },
        "id": "vgeW8m5dcu0W",
        "outputId": "2c18150a-3455-4b1a-c11b-25a210bf580a"
      },
      "source": [
        "# math 모듈의 변수와 함수반환\n",
        "dir(math)"
      ],
      "execution_count": null,
      "outputs": [
        {
          "output_type": "execute_result",
          "data": {
            "text/plain": [
              "['__doc__',\n",
              " '__loader__',\n",
              " '__name__',\n",
              " '__package__',\n",
              " '__spec__',\n",
              " 'acos',\n",
              " 'acosh',\n",
              " 'asin',\n",
              " 'asinh',\n",
              " 'atan',\n",
              " 'atan2',\n",
              " 'atanh',\n",
              " 'ceil',\n",
              " 'copysign',\n",
              " 'cos',\n",
              " 'cosh',\n",
              " 'degrees',\n",
              " 'e',\n",
              " 'erf',\n",
              " 'erfc',\n",
              " 'exp',\n",
              " 'expm1',\n",
              " 'fabs',\n",
              " 'factorial',\n",
              " 'floor',\n",
              " 'fmod',\n",
              " 'frexp',\n",
              " 'fsum',\n",
              " 'gamma',\n",
              " 'gcd',\n",
              " 'hypot',\n",
              " 'inf',\n",
              " 'isclose',\n",
              " 'isfinite',\n",
              " 'isinf',\n",
              " 'isnan',\n",
              " 'ldexp',\n",
              " 'lgamma',\n",
              " 'log',\n",
              " 'log10',\n",
              " 'log1p',\n",
              " 'log2',\n",
              " 'modf',\n",
              " 'nan',\n",
              " 'pi',\n",
              " 'pow',\n",
              " 'radians',\n",
              " 'remainder',\n",
              " 'sin',\n",
              " 'sinh',\n",
              " 'sqrt',\n",
              " 'tan',\n",
              " 'tanh',\n",
              " 'tau',\n",
              " 'trunc']"
            ]
          },
          "metadata": {
            "tags": []
          },
          "execution_count": 232
        }
      ]
    },
    {
      "cell_type": "code",
      "metadata": {
        "id": "07x_gU1WjakP",
        "colab": {
          "base_uri": "https://localhost:8080/"
        },
        "outputId": "81b9855f-5367-48de-d390-b4ddc0f64b24"
      },
      "source": [
        "# math 모듈의 sqrt() 메서드 호출\n",
        "math.sqrt(2)"
      ],
      "execution_count": null,
      "outputs": [
        {
          "output_type": "execute_result",
          "data": {
            "text/plain": [
              "1.4142135623730951"
            ]
          },
          "metadata": {
            "tags": []
          },
          "execution_count": 233
        }
      ]
    },
    {
      "cell_type": "code",
      "metadata": {
        "id": "fahU-wfXNrf9",
        "colab": {
          "base_uri": "https://localhost:8080/"
        },
        "outputId": "93191b1f-67d3-408f-e2e8-63b7156dead1"
      },
      "source": [
        "# import 모듈 as 이름\n",
        "# math 모듈을 가져오면서 이름을 m으로 지정\n",
        "import math as m    \n",
        "m.sqrt(2)"
      ],
      "execution_count": null,
      "outputs": [
        {
          "output_type": "execute_result",
          "data": {
            "text/plain": [
              "1.4142135623730951"
            ]
          },
          "metadata": {
            "tags": []
          },
          "execution_count": 234
        }
      ]
    },
    {
      "cell_type": "code",
      "metadata": {
        "id": "p0VOxGOGNpUi",
        "colab": {
          "base_uri": "https://localhost:8080/"
        },
        "outputId": "4e8228b1-1256-4138-c1df-38948d45e343"
      },
      "source": [
        "# from 모듈 import 변수\n",
        "from math import pi  \n",
        "pi"
      ],
      "execution_count": null,
      "outputs": [
        {
          "output_type": "execute_result",
          "data": {
            "text/plain": [
              "3.141592653589793"
            ]
          },
          "metadata": {
            "tags": []
          },
          "execution_count": 235
        }
      ]
    },
    {
      "cell_type": "code",
      "metadata": {
        "colab": {
          "base_uri": "https://localhost:8080/"
        },
        "id": "zYeLYocte3uj",
        "outputId": "9bc44bfa-4908-4c96-9ce1-af9507496325"
      },
      "source": [
        "# from 모듈 import 함수\n",
        "# math 모듈에서 sqrt 함수만 가져옴\n",
        "from math import sqrt    \n",
        "sqrt(2)"
      ],
      "execution_count": null,
      "outputs": [
        {
          "output_type": "execute_result",
          "data": {
            "text/plain": [
              "1.4142135623730951"
            ]
          },
          "metadata": {
            "tags": []
          },
          "execution_count": 236
        }
      ]
    },
    {
      "cell_type": "code",
      "metadata": {
        "id": "HU_XBoJQe_ff"
      },
      "source": [
        "# from 모듈 import *\n",
        "# math 모듈의 모든 변수, 함수, 클래스를 가져옴\n",
        "# Don't do this\n",
        "from math import *    "
      ],
      "execution_count": null,
      "outputs": []
    },
    {
      "cell_type": "code",
      "metadata": {
        "id": "6QYgZVRyNnlE",
        "colab": {
          "base_uri": "https://localhost:8080/"
        },
        "outputId": "842507e5-9c81-4f03-e523-871bb3a5dca1"
      },
      "source": [
        "# from 모듈 import 변수 as 이름\n",
        "# from 모듈 import 함수 as 이름\n",
        "# from 모듈 import 클래스 as 이름\n",
        "# math 모듈에서 sqrt 함수를 가져오면서 이름을 s로 지정\n",
        "from math import sqrt as s    \n",
        "s(2)"
      ],
      "execution_count": null,
      "outputs": [
        {
          "output_type": "execute_result",
          "data": {
            "text/plain": [
              "1.4142135623730951"
            ]
          },
          "metadata": {
            "tags": []
          },
          "execution_count": 238
        }
      ]
    },
    {
      "cell_type": "code",
      "metadata": {
        "id": "R6p8zY6UfcT_"
      },
      "source": [
        "import numpy as np"
      ],
      "execution_count": null,
      "outputs": []
    },
    {
      "cell_type": "code",
      "metadata": {
        "id": "vJQRH36bf2An",
        "colab": {
          "base_uri": "https://localhost:8080/"
        },
        "outputId": "b6a579e6-0ce2-455e-e2b7-9c2019a13046"
      },
      "source": [
        "dir(np)"
      ],
      "execution_count": null,
      "outputs": [
        {
          "output_type": "execute_result",
          "data": {
            "text/plain": [
              "['ALLOW_THREADS',\n",
              " 'AxisError',\n",
              " 'BUFSIZE',\n",
              " 'CLIP',\n",
              " 'ComplexWarning',\n",
              " 'DataSource',\n",
              " 'ERR_CALL',\n",
              " 'ERR_DEFAULT',\n",
              " 'ERR_IGNORE',\n",
              " 'ERR_LOG',\n",
              " 'ERR_PRINT',\n",
              " 'ERR_RAISE',\n",
              " 'ERR_WARN',\n",
              " 'FLOATING_POINT_SUPPORT',\n",
              " 'FPE_DIVIDEBYZERO',\n",
              " 'FPE_INVALID',\n",
              " 'FPE_OVERFLOW',\n",
              " 'FPE_UNDERFLOW',\n",
              " 'False_',\n",
              " 'Inf',\n",
              " 'Infinity',\n",
              " 'MAXDIMS',\n",
              " 'MAY_SHARE_BOUNDS',\n",
              " 'MAY_SHARE_EXACT',\n",
              " 'MachAr',\n",
              " 'ModuleDeprecationWarning',\n",
              " 'NAN',\n",
              " 'NINF',\n",
              " 'NZERO',\n",
              " 'NaN',\n",
              " 'PINF',\n",
              " 'PZERO',\n",
              " 'RAISE',\n",
              " 'RankWarning',\n",
              " 'SHIFT_DIVIDEBYZERO',\n",
              " 'SHIFT_INVALID',\n",
              " 'SHIFT_OVERFLOW',\n",
              " 'SHIFT_UNDERFLOW',\n",
              " 'ScalarType',\n",
              " 'Tester',\n",
              " 'TooHardError',\n",
              " 'True_',\n",
              " 'UFUNC_BUFSIZE_DEFAULT',\n",
              " 'UFUNC_PYVALS_NAME',\n",
              " 'VisibleDeprecationWarning',\n",
              " 'WRAP',\n",
              " '_NoValue',\n",
              " '_UFUNC_API',\n",
              " '__NUMPY_SETUP__',\n",
              " '__all__',\n",
              " '__builtins__',\n",
              " '__cached__',\n",
              " '__config__',\n",
              " '__dir__',\n",
              " '__doc__',\n",
              " '__file__',\n",
              " '__getattr__',\n",
              " '__git_revision__',\n",
              " '__loader__',\n",
              " '__name__',\n",
              " '__package__',\n",
              " '__path__',\n",
              " '__spec__',\n",
              " '__version__',\n",
              " '_add_newdoc_ufunc',\n",
              " '_distributor_init',\n",
              " '_globals',\n",
              " '_mat',\n",
              " '_pytesttester',\n",
              " 'abs',\n",
              " 'absolute',\n",
              " 'add',\n",
              " 'add_docstring',\n",
              " 'add_newdoc',\n",
              " 'add_newdoc_ufunc',\n",
              " 'alen',\n",
              " 'all',\n",
              " 'allclose',\n",
              " 'alltrue',\n",
              " 'amax',\n",
              " 'amin',\n",
              " 'angle',\n",
              " 'any',\n",
              " 'append',\n",
              " 'apply_along_axis',\n",
              " 'apply_over_axes',\n",
              " 'arange',\n",
              " 'arccos',\n",
              " 'arccosh',\n",
              " 'arcsin',\n",
              " 'arcsinh',\n",
              " 'arctan',\n",
              " 'arctan2',\n",
              " 'arctanh',\n",
              " 'argmax',\n",
              " 'argmin',\n",
              " 'argpartition',\n",
              " 'argsort',\n",
              " 'argwhere',\n",
              " 'around',\n",
              " 'array',\n",
              " 'array2string',\n",
              " 'array_equal',\n",
              " 'array_equiv',\n",
              " 'array_repr',\n",
              " 'array_split',\n",
              " 'array_str',\n",
              " 'asanyarray',\n",
              " 'asarray',\n",
              " 'asarray_chkfinite',\n",
              " 'ascontiguousarray',\n",
              " 'asfarray',\n",
              " 'asfortranarray',\n",
              " 'asmatrix',\n",
              " 'asscalar',\n",
              " 'atleast_1d',\n",
              " 'atleast_2d',\n",
              " 'atleast_3d',\n",
              " 'average',\n",
              " 'bartlett',\n",
              " 'base_repr',\n",
              " 'binary_repr',\n",
              " 'bincount',\n",
              " 'bitwise_and',\n",
              " 'bitwise_not',\n",
              " 'bitwise_or',\n",
              " 'bitwise_xor',\n",
              " 'blackman',\n",
              " 'block',\n",
              " 'bmat',\n",
              " 'bool',\n",
              " 'bool8',\n",
              " 'bool_',\n",
              " 'broadcast',\n",
              " 'broadcast_arrays',\n",
              " 'broadcast_to',\n",
              " 'busday_count',\n",
              " 'busday_offset',\n",
              " 'busdaycalendar',\n",
              " 'byte',\n",
              " 'byte_bounds',\n",
              " 'bytes0',\n",
              " 'bytes_',\n",
              " 'c_',\n",
              " 'can_cast',\n",
              " 'cast',\n",
              " 'cbrt',\n",
              " 'cdouble',\n",
              " 'ceil',\n",
              " 'cfloat',\n",
              " 'char',\n",
              " 'character',\n",
              " 'chararray',\n",
              " 'choose',\n",
              " 'clip',\n",
              " 'clongdouble',\n",
              " 'clongfloat',\n",
              " 'column_stack',\n",
              " 'common_type',\n",
              " 'compare_chararrays',\n",
              " 'compat',\n",
              " 'complex',\n",
              " 'complex128',\n",
              " 'complex256',\n",
              " 'complex64',\n",
              " 'complex_',\n",
              " 'complexfloating',\n",
              " 'compress',\n",
              " 'concatenate',\n",
              " 'conj',\n",
              " 'conjugate',\n",
              " 'convolve',\n",
              " 'copy',\n",
              " 'copysign',\n",
              " 'copyto',\n",
              " 'core',\n",
              " 'corrcoef',\n",
              " 'correlate',\n",
              " 'cos',\n",
              " 'cosh',\n",
              " 'count_nonzero',\n",
              " 'cov',\n",
              " 'cross',\n",
              " 'csingle',\n",
              " 'ctypeslib',\n",
              " 'cumprod',\n",
              " 'cumproduct',\n",
              " 'cumsum',\n",
              " 'datetime64',\n",
              " 'datetime_as_string',\n",
              " 'datetime_data',\n",
              " 'deg2rad',\n",
              " 'degrees',\n",
              " 'delete',\n",
              " 'deprecate',\n",
              " 'deprecate_with_doc',\n",
              " 'diag',\n",
              " 'diag_indices',\n",
              " 'diag_indices_from',\n",
              " 'diagflat',\n",
              " 'diagonal',\n",
              " 'diff',\n",
              " 'digitize',\n",
              " 'disp',\n",
              " 'divide',\n",
              " 'divmod',\n",
              " 'dot',\n",
              " 'double',\n",
              " 'dsplit',\n",
              " 'dstack',\n",
              " 'dtype',\n",
              " 'e',\n",
              " 'ediff1d',\n",
              " 'einsum',\n",
              " 'einsum_path',\n",
              " 'emath',\n",
              " 'empty',\n",
              " 'empty_like',\n",
              " 'equal',\n",
              " 'errstate',\n",
              " 'euler_gamma',\n",
              " 'exp',\n",
              " 'exp2',\n",
              " 'expand_dims',\n",
              " 'expm1',\n",
              " 'extract',\n",
              " 'eye',\n",
              " 'fabs',\n",
              " 'fastCopyAndTranspose',\n",
              " 'fft',\n",
              " 'fill_diagonal',\n",
              " 'find_common_type',\n",
              " 'finfo',\n",
              " 'fix',\n",
              " 'flatiter',\n",
              " 'flatnonzero',\n",
              " 'flexible',\n",
              " 'flip',\n",
              " 'fliplr',\n",
              " 'flipud',\n",
              " 'float',\n",
              " 'float128',\n",
              " 'float16',\n",
              " 'float32',\n",
              " 'float64',\n",
              " 'float_',\n",
              " 'float_power',\n",
              " 'floating',\n",
              " 'floor',\n",
              " 'floor_divide',\n",
              " 'fmax',\n",
              " 'fmin',\n",
              " 'fmod',\n",
              " 'format_float_positional',\n",
              " 'format_float_scientific',\n",
              " 'format_parser',\n",
              " 'frexp',\n",
              " 'frombuffer',\n",
              " 'fromfile',\n",
              " 'fromfunction',\n",
              " 'fromiter',\n",
              " 'frompyfunc',\n",
              " 'fromregex',\n",
              " 'fromstring',\n",
              " 'full',\n",
              " 'full_like',\n",
              " 'fv',\n",
              " 'gcd',\n",
              " 'generic',\n",
              " 'genfromtxt',\n",
              " 'geomspace',\n",
              " 'get_array_wrap',\n",
              " 'get_include',\n",
              " 'get_printoptions',\n",
              " 'getbufsize',\n",
              " 'geterr',\n",
              " 'geterrcall',\n",
              " 'geterrobj',\n",
              " 'gradient',\n",
              " 'greater',\n",
              " 'greater_equal',\n",
              " 'half',\n",
              " 'hamming',\n",
              " 'hanning',\n",
              " 'heaviside',\n",
              " 'histogram',\n",
              " 'histogram2d',\n",
              " 'histogram_bin_edges',\n",
              " 'histogramdd',\n",
              " 'hsplit',\n",
              " 'hstack',\n",
              " 'hypot',\n",
              " 'i0',\n",
              " 'identity',\n",
              " 'iinfo',\n",
              " 'imag',\n",
              " 'in1d',\n",
              " 'index_exp',\n",
              " 'indices',\n",
              " 'inexact',\n",
              " 'inf',\n",
              " 'info',\n",
              " 'infty',\n",
              " 'inner',\n",
              " 'insert',\n",
              " 'int',\n",
              " 'int0',\n",
              " 'int16',\n",
              " 'int32',\n",
              " 'int64',\n",
              " 'int8',\n",
              " 'int_',\n",
              " 'intc',\n",
              " 'integer',\n",
              " 'interp',\n",
              " 'intersect1d',\n",
              " 'intp',\n",
              " 'invert',\n",
              " 'ipmt',\n",
              " 'irr',\n",
              " 'is_busday',\n",
              " 'isclose',\n",
              " 'iscomplex',\n",
              " 'iscomplexobj',\n",
              " 'isfinite',\n",
              " 'isfortran',\n",
              " 'isin',\n",
              " 'isinf',\n",
              " 'isnan',\n",
              " 'isnat',\n",
              " 'isneginf',\n",
              " 'isposinf',\n",
              " 'isreal',\n",
              " 'isrealobj',\n",
              " 'isscalar',\n",
              " 'issctype',\n",
              " 'issubclass_',\n",
              " 'issubdtype',\n",
              " 'issubsctype',\n",
              " 'iterable',\n",
              " 'ix_',\n",
              " 'kaiser',\n",
              " 'kernel_version',\n",
              " 'kron',\n",
              " 'lcm',\n",
              " 'ldexp',\n",
              " 'left_shift',\n",
              " 'less',\n",
              " 'less_equal',\n",
              " 'lexsort',\n",
              " 'lib',\n",
              " 'linalg',\n",
              " 'linspace',\n",
              " 'little_endian',\n",
              " 'load',\n",
              " 'loads',\n",
              " 'loadtxt',\n",
              " 'log',\n",
              " 'log10',\n",
              " 'log1p',\n",
              " 'log2',\n",
              " 'logaddexp',\n",
              " 'logaddexp2',\n",
              " 'logical_and',\n",
              " 'logical_not',\n",
              " 'logical_or',\n",
              " 'logical_xor',\n",
              " 'logspace',\n",
              " 'long',\n",
              " 'longcomplex',\n",
              " 'longdouble',\n",
              " 'longfloat',\n",
              " 'longlong',\n",
              " 'lookfor',\n",
              " 'ma',\n",
              " 'mafromtxt',\n",
              " 'mask_indices',\n",
              " 'mat',\n",
              " 'math',\n",
              " 'matmul',\n",
              " 'matrix',\n",
              " 'matrixlib',\n",
              " 'max',\n",
              " 'maximum',\n",
              " 'maximum_sctype',\n",
              " 'may_share_memory',\n",
              " 'mean',\n",
              " 'median',\n",
              " 'memmap',\n",
              " 'meshgrid',\n",
              " 'mgrid',\n",
              " 'min',\n",
              " 'min_scalar_type',\n",
              " 'minimum',\n",
              " 'mintypecode',\n",
              " 'mirr',\n",
              " 'mod',\n",
              " 'modf',\n",
              " 'moveaxis',\n",
              " 'msort',\n",
              " 'multiply',\n",
              " 'nan',\n",
              " 'nan_to_num',\n",
              " 'nanargmax',\n",
              " 'nanargmin',\n",
              " 'nancumprod',\n",
              " 'nancumsum',\n",
              " 'nanmax',\n",
              " 'nanmean',\n",
              " 'nanmedian',\n",
              " 'nanmin',\n",
              " 'nanpercentile',\n",
              " 'nanprod',\n",
              " 'nanquantile',\n",
              " 'nanstd',\n",
              " 'nansum',\n",
              " 'nanvar',\n",
              " 'nbytes',\n",
              " 'ndarray',\n",
              " 'ndenumerate',\n",
              " 'ndfromtxt',\n",
              " 'ndim',\n",
              " 'ndindex',\n",
              " 'nditer',\n",
              " 'negative',\n",
              " 'nested_iters',\n",
              " 'newaxis',\n",
              " 'nextafter',\n",
              " 'nonzero',\n",
              " 'not_equal',\n",
              " 'nper',\n",
              " 'npv',\n",
              " 'numarray',\n",
              " 'number',\n",
              " 'obj2sctype',\n",
              " 'object',\n",
              " 'object0',\n",
              " 'object_',\n",
              " 'ogrid',\n",
              " 'oldnumeric',\n",
              " 'ones',\n",
              " 'ones_like',\n",
              " 'os',\n",
              " 'outer',\n",
              " 'packbits',\n",
              " 'pad',\n",
              " 'partition',\n",
              " 'percentile',\n",
              " 'pi',\n",
              " 'piecewise',\n",
              " 'place',\n",
              " 'pmt',\n",
              " 'poly',\n",
              " 'poly1d',\n",
              " 'polyadd',\n",
              " 'polyder',\n",
              " 'polydiv',\n",
              " 'polyfit',\n",
              " 'polyint',\n",
              " 'polymul',\n",
              " 'polynomial',\n",
              " 'polysub',\n",
              " 'polyval',\n",
              " 'positive',\n",
              " 'power',\n",
              " 'ppmt',\n",
              " 'printoptions',\n",
              " 'prod',\n",
              " 'product',\n",
              " 'promote_types',\n",
              " 'ptp',\n",
              " 'put',\n",
              " 'put_along_axis',\n",
              " 'putmask',\n",
              " 'pv',\n",
              " 'quantile',\n",
              " 'r_',\n",
              " 'rad2deg',\n",
              " 'radians',\n",
              " 'random',\n",
              " 'rate',\n",
              " 'ravel',\n",
              " 'ravel_multi_index',\n",
              " 'real',\n",
              " 'real_if_close',\n",
              " 'rec',\n",
              " 'recarray',\n",
              " 'recfromcsv',\n",
              " 'recfromtxt',\n",
              " 'reciprocal',\n",
              " 'record',\n",
              " 'remainder',\n",
              " 'repeat',\n",
              " 'require',\n",
              " 'reshape',\n",
              " 'resize',\n",
              " 'result_type',\n",
              " 'right_shift',\n",
              " 'rint',\n",
              " 'roll',\n",
              " 'rollaxis',\n",
              " 'roots',\n",
              " 'rot90',\n",
              " 'round',\n",
              " 'round_',\n",
              " 'row_stack',\n",
              " 's_',\n",
              " 'safe_eval',\n",
              " 'save',\n",
              " 'savetxt',\n",
              " 'savez',\n",
              " 'savez_compressed',\n",
              " 'sctype2char',\n",
              " 'sctypeDict',\n",
              " 'sctypeNA',\n",
              " 'sctypes',\n",
              " 'searchsorted',\n",
              " 'select',\n",
              " 'set_numeric_ops',\n",
              " 'set_printoptions',\n",
              " 'set_string_function',\n",
              " 'setbufsize',\n",
              " 'setdiff1d',\n",
              " 'seterr',\n",
              " 'seterrcall',\n",
              " 'seterrobj',\n",
              " 'setxor1d',\n",
              " 'shape',\n",
              " 'shares_memory',\n",
              " 'short',\n",
              " 'show_config',\n",
              " 'sign',\n",
              " 'signbit',\n",
              " 'signedinteger',\n",
              " 'sin',\n",
              " 'sinc',\n",
              " 'single',\n",
              " 'singlecomplex',\n",
              " 'sinh',\n",
              " 'size',\n",
              " 'sometrue',\n",
              " 'sort',\n",
              " 'sort_complex',\n",
              " 'source',\n",
              " 'spacing',\n",
              " 'split',\n",
              " 'sqrt',\n",
              " 'square',\n",
              " 'squeeze',\n",
              " 'stack',\n",
              " 'std',\n",
              " 'str',\n",
              " 'str0',\n",
              " 'str_',\n",
              " 'string_',\n",
              " 'subtract',\n",
              " 'sum',\n",
              " 'swapaxes',\n",
              " 'sys',\n",
              " 'take',\n",
              " 'take_along_axis',\n",
              " 'tan',\n",
              " 'tanh',\n",
              " 'tensordot',\n",
              " 'test',\n",
              " 'testing',\n",
              " 'tile',\n",
              " 'timedelta64',\n",
              " 'trace',\n",
              " 'tracemalloc_domain',\n",
              " 'transpose',\n",
              " 'trapz',\n",
              " 'tri',\n",
              " 'tril',\n",
              " 'tril_indices',\n",
              " 'tril_indices_from',\n",
              " 'trim_zeros',\n",
              " 'triu',\n",
              " 'triu_indices',\n",
              " 'triu_indices_from',\n",
              " 'true_divide',\n",
              " 'trunc',\n",
              " 'typeDict',\n",
              " 'typeNA',\n",
              " 'typecodes',\n",
              " 'typename',\n",
              " 'ubyte',\n",
              " 'ufunc',\n",
              " 'uint',\n",
              " 'uint0',\n",
              " 'uint16',\n",
              " 'uint32',\n",
              " 'uint64',\n",
              " 'uint8',\n",
              " 'uintc',\n",
              " 'uintp',\n",
              " 'ulonglong',\n",
              " 'unicode',\n",
              " 'unicode_',\n",
              " 'union1d',\n",
              " 'unique',\n",
              " 'unpackbits',\n",
              " 'unravel_index',\n",
              " 'unsignedinteger',\n",
              " 'unwrap',\n",
              " 'use_hugepage',\n",
              " 'ushort',\n",
              " 'vander',\n",
              " 'var',\n",
              " 'vdot',\n",
              " 'vectorize',\n",
              " 'version',\n",
              " 'void',\n",
              " 'void0',\n",
              " 'vsplit',\n",
              " 'vstack',\n",
              " 'warnings',\n",
              " 'where',\n",
              " 'who',\n",
              " 'zeros',\n",
              " 'zeros_like']"
            ]
          },
          "metadata": {
            "tags": []
          },
          "execution_count": 240
        }
      ]
    },
    {
      "cell_type": "code",
      "metadata": {
        "id": "VvnOOX5yf3dt"
      },
      "source": [
        "import pandas as pd"
      ],
      "execution_count": null,
      "outputs": []
    },
    {
      "cell_type": "code",
      "metadata": {
        "id": "ggKTRJDjgD0x",
        "colab": {
          "base_uri": "https://localhost:8080/"
        },
        "outputId": "f504af8f-57fd-4ec5-8f67-3c9e031d513b"
      },
      "source": [
        "dir(pd)"
      ],
      "execution_count": null,
      "outputs": [
        {
          "output_type": "execute_result",
          "data": {
            "text/plain": [
              "['BooleanDtype',\n",
              " 'Categorical',\n",
              " 'CategoricalDtype',\n",
              " 'CategoricalIndex',\n",
              " 'DataFrame',\n",
              " 'DateOffset',\n",
              " 'DatetimeIndex',\n",
              " 'DatetimeTZDtype',\n",
              " 'ExcelFile',\n",
              " 'ExcelWriter',\n",
              " 'Float64Index',\n",
              " 'Grouper',\n",
              " 'HDFStore',\n",
              " 'Index',\n",
              " 'IndexSlice',\n",
              " 'Int16Dtype',\n",
              " 'Int32Dtype',\n",
              " 'Int64Dtype',\n",
              " 'Int64Index',\n",
              " 'Int8Dtype',\n",
              " 'Interval',\n",
              " 'IntervalDtype',\n",
              " 'IntervalIndex',\n",
              " 'MultiIndex',\n",
              " 'NA',\n",
              " 'NaT',\n",
              " 'NamedAgg',\n",
              " 'Period',\n",
              " 'PeriodDtype',\n",
              " 'PeriodIndex',\n",
              " 'RangeIndex',\n",
              " 'Series',\n",
              " 'SparseDtype',\n",
              " 'StringDtype',\n",
              " 'Timedelta',\n",
              " 'TimedeltaIndex',\n",
              " 'Timestamp',\n",
              " 'UInt16Dtype',\n",
              " 'UInt32Dtype',\n",
              " 'UInt64Dtype',\n",
              " 'UInt64Index',\n",
              " 'UInt8Dtype',\n",
              " '__builtins__',\n",
              " '__cached__',\n",
              " '__doc__',\n",
              " '__docformat__',\n",
              " '__file__',\n",
              " '__getattr__',\n",
              " '__git_version__',\n",
              " '__loader__',\n",
              " '__name__',\n",
              " '__package__',\n",
              " '__path__',\n",
              " '__spec__',\n",
              " '__version__',\n",
              " '_config',\n",
              " '_hashtable',\n",
              " '_is_numpy_dev',\n",
              " '_lib',\n",
              " '_libs',\n",
              " '_np_version_under1p16',\n",
              " '_np_version_under1p17',\n",
              " '_np_version_under1p18',\n",
              " '_testing',\n",
              " '_tslib',\n",
              " '_typing',\n",
              " '_version',\n",
              " 'api',\n",
              " 'array',\n",
              " 'arrays',\n",
              " 'bdate_range',\n",
              " 'compat',\n",
              " 'concat',\n",
              " 'core',\n",
              " 'crosstab',\n",
              " 'cut',\n",
              " 'date_range',\n",
              " 'describe_option',\n",
              " 'errors',\n",
              " 'eval',\n",
              " 'factorize',\n",
              " 'get_dummies',\n",
              " 'get_option',\n",
              " 'infer_freq',\n",
              " 'interval_range',\n",
              " 'io',\n",
              " 'isna',\n",
              " 'isnull',\n",
              " 'json_normalize',\n",
              " 'lreshape',\n",
              " 'melt',\n",
              " 'merge',\n",
              " 'merge_asof',\n",
              " 'merge_ordered',\n",
              " 'notna',\n",
              " 'notnull',\n",
              " 'offsets',\n",
              " 'option_context',\n",
              " 'options',\n",
              " 'pandas',\n",
              " 'period_range',\n",
              " 'pivot',\n",
              " 'pivot_table',\n",
              " 'plotting',\n",
              " 'qcut',\n",
              " 'read_clipboard',\n",
              " 'read_csv',\n",
              " 'read_excel',\n",
              " 'read_feather',\n",
              " 'read_fwf',\n",
              " 'read_gbq',\n",
              " 'read_hdf',\n",
              " 'read_html',\n",
              " 'read_json',\n",
              " 'read_orc',\n",
              " 'read_parquet',\n",
              " 'read_pickle',\n",
              " 'read_sas',\n",
              " 'read_spss',\n",
              " 'read_sql',\n",
              " 'read_sql_query',\n",
              " 'read_sql_table',\n",
              " 'read_stata',\n",
              " 'read_table',\n",
              " 'reset_option',\n",
              " 'set_eng_float_format',\n",
              " 'set_option',\n",
              " 'show_versions',\n",
              " 'test',\n",
              " 'testing',\n",
              " 'timedelta_range',\n",
              " 'to_datetime',\n",
              " 'to_numeric',\n",
              " 'to_pickle',\n",
              " 'to_timedelta',\n",
              " 'tseries',\n",
              " 'unique',\n",
              " 'util',\n",
              " 'value_counts',\n",
              " 'wide_to_long']"
            ]
          },
          "metadata": {
            "tags": []
          },
          "execution_count": 242
        }
      ]
    },
    {
      "cell_type": "code",
      "metadata": {
        "id": "BpuGWhXPgV2v"
      },
      "source": [
        "# Author: Gael Varoquaux <gael dot varoquaux at normalesup dot org>\n",
        "# License: BSD 3 clause\n",
        "\n",
        "# Standard scientific Python imports\n",
        "import matplotlib.pyplot as plt\n",
        "\n",
        "# Import datasets, classifiers and performance metrics\n",
        "from sklearn import datasets, svm, metrics\n",
        "from sklearn.model_selection import train_test_split"
      ],
      "execution_count": null,
      "outputs": []
    },
    {
      "cell_type": "code",
      "metadata": {
        "id": "pp32jRukD0SJ"
      },
      "source": [
        ""
      ],
      "execution_count": null,
      "outputs": []
    }
  ]
}